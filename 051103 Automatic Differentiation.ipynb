{
 "cells": [
  {
   "cell_type": "code",
   "id": "initial_id",
   "metadata": {
    "collapsed": true
   },
   "source": [
    "import jax\n",
    "import jax.numpy as jnp\n",
    "from jax import grad"
   ],
   "outputs": [],
   "execution_count": null
  },
  {
   "metadata": {},
   "cell_type": "code",
   "source": [
    "# 使用 jax.grad 求导数\n",
    "\n",
    "grad_tanh = grad(jnp.tanh)\n",
    "print(grad_tanh(2.0),\n",
    "      grad(grad(jnp.tanh))(2.0),\n",
    "      grad(grad(grad(jnp.tanh)))(2.0))"
   ],
   "id": "b2e8ecbb2e1216dc",
   "outputs": [],
   "execution_count": null
  },
  {
   "metadata": {},
   "cell_type": "code",
   "source": [
    "# 使用 jax.grad 求导数\n",
    "\n",
    "f = lambda x: x**3 + 2*x**2 - 3*x + 1\n",
    "\n",
    "dfdx = jax.grad(f)\n",
    "d2fdx = jax.grad(dfdx)\n",
    "d3fdx = jax.grad(d2fdx)\n",
    "d4fdx = jax.grad(d3fdx)\n",
    "\n",
    "print(dfdx(1.),\n",
    "      d2fdx(1.),\n",
    "      d3fdx(1.),\n",
    "      d4fdx(1.))"
   ],
   "id": "3b2360ada42e6b84",
   "outputs": [],
   "execution_count": null
  },
  {
   "metadata": {},
   "cell_type": "code",
   "source": "print(jax.__version__)",
   "id": "c905ec8a9c1107ac",
   "outputs": [],
   "execution_count": null
  }
 ],
 "metadata": {
  "kernelspec": {
   "display_name": "Python 3",
   "language": "python",
   "name": "python3"
  },
  "language_info": {
   "codemirror_mode": {
    "name": "ipython",
    "version": 2
   },
   "file_extension": ".py",
   "mimetype": "text/x-python",
   "name": "python",
   "nbconvert_exporter": "python",
   "pygments_lexer": "ipython2",
   "version": "2.7.6"
  }
 },
 "nbformat": 4,
 "nbformat_minor": 5
}
