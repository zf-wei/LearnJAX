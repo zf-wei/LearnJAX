{
 "cells": [
  {
   "metadata": {},
   "cell_type": "markdown",
   "source": "# 首先是 Numpy 中的随机数",
   "id": "4bfad878e4bdfc7"
  },
  {
   "metadata": {},
   "cell_type": "code",
   "source": "import numpy as np",
   "id": "initial_id",
   "outputs": [],
   "execution_count": null
  },
  {
   "metadata": {},
   "cell_type": "code",
   "source": [
    "# 只要是种子一样的随机数生成器，生成的随机数序列都是一样的。\n",
    "\n",
    "np.random.seed(0)\n",
    "\n",
    "print(np.random.random())\n",
    "print(np.random.random())\n",
    "print(np.random.random())\n",
    "\n",
    "np.random.seed(0)\n",
    "print(np.random.random())\n",
    "print(np.random.random())\n",
    "print(np.random.random())"
   ],
   "id": "43399d645e1ec14e",
   "outputs": [],
   "execution_count": null
  },
  {
   "metadata": {},
   "cell_type": "code",
   "source": [
    "# 随机数生成器的状态是一个复杂的对象，包含了当前的状态信息。我们可以通过 `np.random.get_state()` 来获取当前的状态。\n",
    "# 每次调用 `np.random.seed()` 都会重置随机数生成器的状态。\n",
    "\n",
    "def print_truncated_random_state():\n",
    "  \"\"\"To avoid spamming the outputs, print only part of the state.\"\"\"\n",
    "  full_random_state = np.random.get_state()\n",
    "  print(str(full_random_state)[:150], '...')\n",
    "\n",
    "np.random.seed(42)\n",
    "print_truncated_random_state()\n",
    "np.random.seed(42)\n",
    "print_truncated_random_state()\n",
    "\n",
    "test = np.random.normal(0, 1, 10)\n",
    "print(test.shape)\n",
    "print_truncated_random_state()"
   ],
   "id": "6f1858096c03d9f",
   "outputs": [],
   "execution_count": null
  },
  {
   "metadata": {},
   "cell_type": "markdown",
   "source": [
    "在上面的输出中，`MT19937` 是指 **Mersenne Twister 19937**，19937 对应于其周期长度。它是 NumPy 默认使用的伪随机数生成器（PRNG，Pseudo-Random Number Generator）的算法名称。\n",
    "\n",
    "### 详细解释：\n",
    "**Mersenne Twister** 是一种高效的伪随机数生成算法，具有以下特点：\n",
    "   - 周期非常长（$2^{19937} - 1$）。\n",
    "   - 生成的随机数分布均匀，质量较高。\n",
    "   - 适合大多数科学计算和模拟任务。"
   ],
   "id": "6990ff2d42e6c597"
  },
  {
   "metadata": {},
   "cell_type": "code",
   "source": [
    "# 可以设置生成随机数的形状\n",
    "\n",
    "np.random.seed(0)\n",
    "print(np.random.uniform(size=3))"
   ],
   "id": "47d14048e9500d7c",
   "outputs": [],
   "execution_count": null
  },
  {
   "metadata": {},
   "cell_type": "code",
   "source": [
    "# 一个个生成和一次性生成的效果是一样的\n",
    "\n",
    "np.random.seed(0)\n",
    "print(\"individually:\", np.stack([np.random.uniform() for _ in range(3)]))\n",
    "\n",
    "np.random.seed(0)\n",
    "print(\"all at once: \", np.random.uniform(size=3))"
   ],
   "id": "61985c1780d2439e",
   "outputs": [],
   "execution_count": null
  },
  {
   "metadata": {},
   "cell_type": "markdown",
   "source": "# 下面是 JAX 的随机数生成器",
   "id": "884df0c638ef0e04"
  },
  {
   "metadata": {},
   "cell_type": "code",
   "source": [
    "import jax\n",
    "from jax import random"
   ],
   "id": "a15d2021f1d1ce47",
   "outputs": [],
   "execution_count": null
  },
  {
   "metadata": {},
   "cell_type": "code",
   "source": [
    "# JAX 中，相同的 key 导致相同的随机数\n",
    "\n",
    "key = random.key(42)\n",
    "print(key)\n",
    "\n",
    "print(random.normal(key))\n",
    "print(random.normal(key))"
   ],
   "id": "a714b13e0bfaea0",
   "outputs": [],
   "execution_count": null
  },
  {
   "metadata": {},
   "cell_type": "code",
   "source": [
    "# 一定要使用 `random.split()` 来分割 key\n",
    "\n",
    "key = random.key(42) # 试试不加这一句并重复运行这个单元格？\n",
    "for i in range(3):\n",
    "  new_key, subkey = random.split(key)\n",
    "  del key  # The old key is consumed by split() -- we must never use it again.\n",
    "\n",
    "  val = random.normal(subkey)\n",
    "  del subkey  # The subkey is consumed by normal().\n",
    "\n",
    "  print(f\"draw {i}: {val}\")\n",
    "  key = new_key  # new_key is safe to use in the next iteration."
   ],
   "id": "c77b360f97f87162",
   "outputs": [],
   "execution_count": null
  },
  {
   "metadata": {},
   "cell_type": "code",
   "source": [
    "# 更多是这么书写代码：\n",
    "\n",
    "print(f\"Currently, key is :{key}\")\n",
    "key, subkey = random.split(key)\n",
    "print(f\"After split, key is: {key}\")\n",
    "print(f\"After split, subkey is: {subkey}\")"
   ],
   "id": "7b2c1609e19be7d1",
   "outputs": [],
   "execution_count": null
  },
  {
   "metadata": {},
   "cell_type": "code",
   "source": [
    "# 或者 split 成多个 subkey\n",
    "\n",
    "key = random.key(93)\n",
    "key, *forty_two_subkeys = random.split(key, num=43)\n",
    "# *符号 的作用是打包或解包不定长的参数或可迭代对象。\n",
    "print(type(forty_two_subkeys), len(forty_two_subkeys))\n",
    "\n",
    "key = random.key(93)\n",
    "forty_three_subkeys = random.split(key, num=43)\n",
    "print(type(forty_three_subkeys), len(forty_three_subkeys))"
   ],
   "id": "f5169a1923aa3c67",
   "outputs": [],
   "execution_count": null
  },
  {
   "metadata": {},
   "cell_type": "code",
   "source": [
    "# JAX 中的随机数生成器不是顺序等价的\n",
    "\n",
    "key = random.key(42)\n",
    "subkeys = random.split(key, 3)\n",
    "sequence1 = np.stack([random.normal(subkey) for subkey in subkeys])\n",
    "print(\"individually:\", sequence1)\n",
    "sequence2 = jax.vmap(random.normal)(subkeys)\n",
    "print(\"all at once: \", sequence2)\n",
    "\n",
    "key = random.key(42)\n",
    "print(\"all at once: \", random.normal(key, shape=(3,)))"
   ],
   "id": "799bc1a21f7d14e",
   "outputs": [],
   "execution_count": null
  }
 ],
 "metadata": {
  "kernelspec": {
   "display_name": "Python 3",
   "language": "python",
   "name": "python3"
  },
  "language_info": {
   "codemirror_mode": {
    "name": "ipython",
    "version": 2
   },
   "file_extension": ".py",
   "mimetype": "text/x-python",
   "name": "python",
   "nbconvert_exporter": "python",
   "pygments_lexer": "ipython2",
   "version": "2.7.6"
  }
 },
 "nbformat": 4,
 "nbformat_minor": 5
}
