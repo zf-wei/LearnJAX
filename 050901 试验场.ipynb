{
 "cells": [
  {
   "metadata": {},
   "cell_type": "code",
   "source": [
    "import jax.numpy as jnp\n",
    "\n",
    "# jnp.sum([1, 2, 3]) 这个会出问题\n",
    "jnp.sum(jnp.array([1, 2, 3]))"
   ],
   "id": "fc5325b76590b7a6",
   "outputs": [],
   "execution_count": null
  },
  {
   "metadata": {},
   "cell_type": "code",
   "source": [
    "import jax.numpy as jnp\n",
    "\n",
    "# 我们的输入一维数组\n",
    "arr = jnp.array([-3, 0, 2, 5, 7, -1, 4])\n",
    "\n",
    "# 定义条件列表\n",
    "conditions = [\n",
    "    arr < 0,                # 条件1: 元素小于0\n",
    "    (arr >= 0) & (arr < 5)  # 条件2: 元素在0到5之间（不包括5）\n",
    "]\n",
    "\n",
    "# 定义选择列表，与条件一一对应\n",
    "choices = [\n",
    "    -10,                    # 当条件1为True时选择-10\n",
    "    100                     # 当条件2为True时选择100\n",
    "]\n",
    "\n",
    "# 执行 jnp.select\n",
    "# 如果上述条件都不满足，我们想保留原始值，所以我们将 default 设置为 arr\n",
    "result = jnp.select(conditions, choices, default=arr)\n",
    "\n",
    "print(\"原始数组:\", arr)\n",
    "print(\"条件1 (arr < 0):\", conditions[0])\n",
    "print(\"条件2 ((arr >= 0) & (arr < 5)):\", conditions[1])\n",
    "print(\"结果数组:\", result)"
   ],
   "id": "d0f86f8f499c2c62",
   "outputs": [],
   "execution_count": null
  }
 ],
 "metadata": {
  "kernelspec": {
   "display_name": "Python 3",
   "language": "python",
   "name": "python3"
  },
  "language_info": {
   "codemirror_mode": {
    "name": "ipython",
    "version": 2
   },
   "file_extension": ".py",
   "mimetype": "text/x-python",
   "name": "python",
   "nbconvert_exporter": "python",
   "pygments_lexer": "ipython2",
   "version": "2.7.6"
  }
 },
 "nbformat": 4,
 "nbformat_minor": 5
}
