{
 "cells": [
  {
   "metadata": {},
   "cell_type": "markdown",
   "source": "# Exploring pure_callback",
   "id": "e8370fc2aa2269a6"
  },
  {
   "metadata": {},
   "cell_type": "code",
   "source": [
    "import jax\n",
    "import jax.numpy as jnp\n",
    "import numpy as np\n",
    "\n",
    "def f_host(x):\n",
    "  # call a numpy (not jax.numpy) operation:\n",
    "  print(\"f_host\") # 因为是 pure_callback 所以不要使用这个\n",
    "  return np.sin(x).astype(x.dtype)  # 返回一个新数组 每个元素的类型与x相同\n",
    "\n",
    "def f(x):\n",
    "  result_form = jax.ShapeDtypeStruct(x.shape, x.dtype)\n",
    "  print(\"flag\")\n",
    "  #return jax.pure_callback(f_host, result_shape, x, vmap_method='sequential')\n",
    "  # 会被转化成 numpy 数组喂进 f_host 结果出来之后会被再转化成 jax 数组\n",
    "  print(jax.pure_callback(f_host, result_form, x, vmap_method='sequential'))\n",
    "  # print(jax.pure_callback(f_host, None, x, vmap_method='sequential'))  # 如果写成 None 那么f_host里面的打印语句就不会执行\n",
    "\n",
    "  print(\"f_host done\")\n",
    "\n",
    "x = jnp.arange(5.0) # 32位浮点数\n",
    "f(x)"
   ],
   "id": "37e965afda557f38",
   "outputs": [],
   "execution_count": null
  },
  {
   "metadata": {},
   "cell_type": "code",
   "source": [
    "import jax\n",
    "import jax.numpy as jnp\n",
    "import numpy as np\n",
    "\n",
    "def f_host(x):\n",
    "  # call a numpy (not jax.numpy) operation:\n",
    "  return np.sin(x).astype(x.dtype)\n",
    "\n",
    "def f(x):\n",
    "  result_shape = jax.ShapeDtypeStruct(x.shape, x.dtype)\n",
    "  return jax.pure_callback(f_host, result_shape, x, vmap_method='sequential')\n",
    "\n",
    "x = jnp.arange(5.0)\n",
    "f(x)\n",
    "\n",
    "jax.jit(f)(x)"
   ],
   "id": "eddff510a47d1205",
   "outputs": [],
   "execution_count": null
  },
  {
   "metadata": {},
   "cell_type": "code",
   "source": [
    "def body_fun(_, x):\n",
    "  return _, f(x)\n",
    "jax.lax.scan(body_fun, None, jnp.arange(6.0))[1]"
   ],
   "id": "5cabe2a810e40aaa",
   "outputs": [],
   "execution_count": null
  },
  {
   "metadata": {},
   "cell_type": "code",
   "source": "jax.vmap(f)(x)",
   "id": "731ffe036a5a1f29",
   "outputs": [],
   "execution_count": null
  },
  {
   "metadata": {},
   "cell_type": "code",
   "source": [
    "# jax.grad(f)(x)\n",
    "\n",
    "# ValueError: Pure callbacks do not support JVP. Please use `jax.custom_jvp` to use callbacks while taking gradients."
   ],
   "id": "70f3148bb5fd10bb",
   "outputs": [],
   "execution_count": null
  },
  {
   "metadata": {},
   "cell_type": "markdown",
   "source": [
    "jax.pure_callback 参数总结\n",
    "\n",
    "jax.pure_callback(callback, result_shape_dtypes, *args, vectorized=False, vmap_method='sequential', **kwargs)\n",
    "\n",
    "callback:\n",
    "\n",
    "你的 Python 函数: 在 CPU (宿主端) 执行，可以包含 NumPy 等非 JAX 操作。\n",
    "输入 JAX 数组会转为 NumPy 数组，输出必须是 NumPy 数组。\n",
    "result_shape_dtypes:\n",
    "\n",
    "结果描述: 告诉 JAX 你的 callback 函数将返回什么形状 (shape) 和数据类型 (dtype) 的结果。\n",
    "通常是 jax.ShapeDtypeStruct 对象或其 Pytree。JAX 在编译时需要这个静态信息。\n",
    "*args:\n",
    "\n",
    "输入参数: 传递给 callback 函数的位置参数。\n",
    "vectorized (可选, 默认为 False):\n",
    "\n",
    "向量化回调: 如果 True，表示你的 callback 函数本身就能处理批处理输入 (当 pure_callback 被 jax.vmap 时)。\n",
    "vmap_method (可选, 默认为 'sequential'):\n",
    "\n",
    "vmap 方式: 当 pure_callback 被 jax.vmap 且 vectorized=False 时，callback 如何处理批处理数据 (如：'sequential' 顺序执行，'parallel' 并行执行)。\n",
    "**kwargs (可选):\n",
    "\n",
    "关键字输入: 传递给 callback 函数的关键字参数。\n",
    "jax.lax.scan 参数总结\n",
    "\n",
    "jax.lax.scan(f, init, xs, length=None, reverse=False, unroll=1)\n",
    "\n",
    "f (通常也叫 body_fun):\n",
    "\n",
    "循环体函数: 在每个迭代步骤中执行的函数。\n",
    "函数签名必须是：def body_fun(carry, x): -> (new_carry, y)\n",
    "carry: 上一步的“携带状态”。\n",
    "x: 来自输入序列 xs 的当前元素。\n",
    "new_carry: 更新后的“携带状态”，传给下一步。\n",
    "y: 当前步骤的输出，会被收集起来。\n",
    "init:\n",
    "\n",
    "初始状态: “携带状态 (carry)”的初始值。\n",
    "xs:\n",
    "\n",
    "输入序列: 要迭代处理的 JAX 数组或 Pytree。scan 会沿着它的主轴进行迭代。\n",
    "length (可选):\n",
    "\n",
    "迭代次数: 指定循环执行的固定次数，而不是从 xs 的长度推断。\n",
    "reverse (可选, 默认为 False):\n",
    "\n",
    "反向扫描: 如果为 True，则反向遍历输入序列 xs。\n",
    "unroll (可选, 默认为 1):\n",
    "\n",
    "循环展开: 编译器优化参数，指定循环展开的程度。\n",
    "scan 返回值: (final_carry, ys_stacked)\n",
    "\n",
    "final_carry: 最后一个 new_carry。\n",
    "ys_stacked: 所有 y 输出堆叠成的数组。"
   ],
   "id": "68a75bbf1a274344"
  },
  {
   "metadata": {},
   "cell_type": "code",
   "source": [
    "def print_something():\n",
    "  print('printing something')\n",
    "  return np.int32(0)\n",
    "\n",
    "@jax.jit\n",
    "def f1():\n",
    "  return jax.pure_callback(print_something, np.int32(0)) # 省略了参数\n",
    "f1();"
   ],
   "id": "2a0f76e35da4ca9c",
   "outputs": [],
   "execution_count": null
  },
  {
   "metadata": {},
   "cell_type": "code",
   "source": [
    "@jax.jit\n",
    "def f2():\n",
    "  jax.pure_callback(print_something, np.int32(0))\n",
    "  return 1.0\n",
    "f2(); # 这里的 print_something 不会被执行。实际上 callback 函数的返回值没有被用到，所以 callback 函数根本不会被执行"
   ],
   "id": "4482a5ede1d4a828",
   "outputs": [],
   "execution_count": null
  },
  {
   "metadata": {},
   "cell_type": "markdown",
   "source": [
    "所以jax中pure_callback有什么用处？\n",
    "\n",
    "总结来说，jax.pure_callback 的主要用处是：\n",
    "\n",
    "当你需要在 JAX 的高性能、可转换的计算环境中，集成那些本质上不属于这个环境的、在宿主端执行的 Python/NumPy 代码时，它提供了一个必要的接口。它非常有用，但也因为其固有的开销和限制，应该在真正需要的时候才审慎使用。"
   ],
   "id": "a772d9b92b85c631"
  },
  {
   "metadata": {},
   "cell_type": "markdown",
   "source": "# Exploring io_callback",
   "id": "bbaa7a157c06aa4f"
  },
  {
   "metadata": {},
   "cell_type": "code",
   "source": [
    "from jax.experimental import io_callback\n",
    "from functools import partial\n",
    "\n",
    "global_rng = np.random.default_rng(0)\n",
    "\n",
    "def host_side_random_like(x):\n",
    "  \"\"\"Generate a random array like x using the global_rng state\"\"\"\n",
    "  # We have two side-effects here:\n",
    "  # - printing the shape and dtype\n",
    "  # - calling global_rng, thus updating its state\n",
    "  print(f'generating {x.dtype}{list(x.shape)}')\n",
    "  return global_rng.uniform(size=x.shape).astype(x.dtype)\n",
    "\n",
    "@jax.jit\n",
    "def numpy_random_like(x):\n",
    "  return io_callback(host_side_random_like, x, x)\n",
    "\n",
    "x = jnp.zeros(5)\n",
    "numpy_random_like(x)"
   ],
   "id": "d7024f71c3d96bad",
   "outputs": [],
   "execution_count": null
  },
  {
   "metadata": {},
   "cell_type": "code",
   "source": "jax.vmap(numpy_random_like)(x)",
   "id": "21073e033fd1c6ae",
   "outputs": [],
   "execution_count": null
  },
  {
   "metadata": {},
   "cell_type": "code",
   "source": [
    "# 这里的 ordered=True 会导致每个 io_callback 都是顺序执行的\n",
    "# 但是这和 vmap 有冲突\n",
    "# 所以会报错\n",
    "\n",
    "@jax.jit\n",
    "def numpy_random_like_ordered(x):\n",
    "  return io_callback(host_side_random_like, x, x, ordered=True)\n",
    "# 这里的 ordered=True 会导致每个 io_callback 都是顺序执行的\n",
    "# 但是这和 vmap 有冲突\n",
    "\n",
    "jax.vmap(numpy_random_like_ordered)(x)"
   ],
   "id": "5e51208e6afc1694",
   "outputs": [],
   "execution_count": null
  },
  {
   "metadata": {},
   "cell_type": "code",
   "source": [
    "# scan 和 io_callback 结合使用\n",
    "# while_loop 也可以和 io_callback 结合使用\n",
    "\n",
    "def body_fun(_, x):\n",
    "  return _, numpy_random_like_ordered(x)\n",
    "jax.lax.scan(body_fun, None, jnp.arange(5.0))[1]"
   ],
   "id": "c17e42d3a7b17aa8",
   "outputs": [],
   "execution_count": null
  },
  {
   "metadata": {},
   "cell_type": "code",
   "source": [
    "# Like pure_callback, io_callback fails under automatic differentiation if it is passed a differentiated variable:\n",
    "# 如同 pure_callback，io_callback 在传入一个被微分的变量时会失败 因为callback 函数不是由 JAX 计算的\n",
    "\n",
    "jax.grad(numpy_random_like)(x)"
   ],
   "id": "7a6560fd2121ca06",
   "outputs": [],
   "execution_count": null
  },
  {
   "metadata": {},
   "cell_type": "code",
   "source": [
    "# 当然啦，如果callback 函数和需要微分的变量没有关系 那么就没事了\n",
    "\n",
    "@jax.jit\n",
    "def f(x):\n",
    "  io_callback(lambda: print('hello'), None)\n",
    "  return x\n",
    "\n",
    "jax.grad(f)(1.0);"
   ],
   "id": "bf94b55a12b0a15a",
   "outputs": [],
   "execution_count": null
  },
  {
   "metadata": {},
   "cell_type": "markdown",
   "source": "# Exploring debug.callback",
   "id": "58647130b3ea48e8"
  },
  {
   "metadata": {},
   "cell_type": "code",
   "source": [
    "from jax import debug\n",
    "\n",
    "def log_value(x):\n",
    "  # This could be an actual logging call; we'll use\n",
    "  # print() for demonstration\n",
    "  print(\"value:\", x)\n",
    "\n",
    "@jax.jit\n",
    "def f(x):\n",
    "  debug.callback(log_value, x)\n",
    "  return x\n",
    "\n",
    "f(1.0);"
   ],
   "id": "fceadf1a6c9a31f4",
   "outputs": [],
   "execution_count": null
  },
  {
   "metadata": {},
   "cell_type": "code",
   "source": [
    "x = jnp.arange(5.0)\n",
    "jax.vmap(f)(x);"
   ],
   "id": "11fc7d392a8efa50",
   "outputs": [],
   "execution_count": null
  },
  {
   "metadata": {},
   "cell_type": "code",
   "source": "jax.grad(f)(1.0);",
   "id": "3c83a1ce6142d1f7",
   "outputs": [],
   "execution_count": null
  },
  {
   "metadata": {},
   "cell_type": "markdown",
   "source": "# Example: pure_callback with custom_jvp",
   "id": "8882d56cc5d637cd"
  },
  {
   "metadata": {},
   "cell_type": "code",
   "source": [
    "import jax\n",
    "import jax.numpy as jnp\n",
    "import scipy.special\n",
    "\n",
    "def jv(v, z):\n",
    "  v, z = jnp.asarray(v), jnp.asarray(z)\n",
    "\n",
    "  # Require the order v to be integer type: this simplifies\n",
    "  # the JVP rule below.\n",
    "  assert jnp.issubdtype(v.dtype, jnp.integer)\n",
    "\n",
    "  # Promote the input to inexact (float/complex).\n",
    "  # Note that jnp.result_type() accounts for the enable_x64 flag.\n",
    "  z = z.astype(jnp.result_type(float, z.dtype))\n",
    "\n",
    "  # Wrap scipy function to return the expected dtype.\n",
    "  _scipy_jv = lambda v, z: scipy.special.jv(v, z).astype(z.dtype)\n",
    "\n",
    "  # Define the expected shape & dtype of output.\n",
    "  result_shape_dtype = jax.ShapeDtypeStruct(\n",
    "      shape=jnp.broadcast_shapes(v.shape, z.shape),\n",
    "      dtype=z.dtype)\n",
    "\n",
    "  # Use vmap_method=\"broadcast_all\" because scipy.special.jv handles broadcasted inputs.\n",
    "  return jax.pure_callback(_scipy_jv, result_shape_dtype, v, z, vmap_method=\"broadcast_all\")"
   ],
   "id": "2e8f5a7ac18e25f4",
   "outputs": [],
   "execution_count": null
  },
  {
   "metadata": {},
   "cell_type": "code",
   "source": [
    "jv = jax.custom_jvp(jv)\n",
    "\n",
    "@jv.defjvp\n",
    "def jv_jvp(primals, tangents):\n",
    "  v, z = primals\n",
    "  _, z_dot = tangents  # Note: v_dot is always 0 because v is integer.\n",
    "  jv_minus_1, jv_plus_1 = jv(v - 1, z), jv(v + 1, z)\n",
    "  djv_dz = jnp.where(v == 0, -jv_plus_1, 0.5 * (jv_minus_1 - jv_plus_1))\n",
    "  return jv(v, z), z_dot * djv_dz"
   ],
   "id": "2808f91546e96d1c",
   "outputs": [],
   "execution_count": null
  },
  {
   "metadata": {},
   "cell_type": "code",
   "source": [
    "j1 = partial(jv, 1)\n",
    "print(jax.grad(j1)(2.0))"
   ],
   "id": "30a0ce777a2faab3",
   "outputs": [],
   "execution_count": null
  },
  {
   "metadata": {},
   "cell_type": "code",
   "source": "jax.hessian(j1)(2.0)",
   "id": "949a4d73669f3e62",
   "outputs": [],
   "execution_count": null
  }
 ],
 "metadata": {
  "kernelspec": {
   "display_name": "Python 3",
   "language": "python",
   "name": "python3"
  },
  "language_info": {
   "codemirror_mode": {
    "name": "ipython",
    "version": 2
   },
   "file_extension": ".py",
   "mimetype": "text/x-python",
   "name": "python",
   "nbconvert_exporter": "python",
   "pygments_lexer": "ipython2",
   "version": "2.7.6"
  }
 },
 "nbformat": 4,
 "nbformat_minor": 5
}
