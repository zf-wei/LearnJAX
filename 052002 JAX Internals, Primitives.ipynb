{
 "cells": [
  {
   "cell_type": "code",
   "id": "initial_id",
   "metadata": {
    "collapsed": true,
    "ExecuteTime": {
     "end_time": "2025-05-20T18:47:20.949939Z",
     "start_time": "2025-05-20T18:47:20.938751Z"
    }
   },
   "source": [
    "from jax import lax\n",
    "from jax._src import api\n",
    "\n",
    "def multiply_add_lax(x, y, z):\n",
    "  \"\"\"Implementation of multiply-add using the `jax.lax` primitives.\"\"\"\n",
    "  return lax.add(lax.mul(x, y), z)\n",
    "\n",
    "\n",
    "def square_add_lax(a, b):\n",
    "  \"\"\"A square-add function using the newly defined multiply-add.\"\"\"\n",
    "  return multiply_add_lax(a, a, b)\n",
    "\n",
    "print(\"square_add_lax = \", square_add_lax(2., 10.))\n",
    "# Differentiate w.r.t. the first argument\n",
    "print(\"grad(square_add_lax) = \", api.grad(square_add_lax, argnums=0)(3.0, 10.))"
   ],
   "outputs": [
    {
     "name": "stdout",
     "output_type": "stream",
     "text": [
      "square_add_lax =  14.0\n",
      "grad(square_add_lax) =  6.0\n"
     ]
    }
   ],
   "execution_count": 2
  },
  {
   "metadata": {
    "ExecuteTime": {
     "end_time": "2025-05-20T18:48:16.420864Z",
     "start_time": "2025-05-20T18:48:16.403619Z"
    }
   },
   "cell_type": "code",
   "source": [
    "#@title Helper functions (execute this cell)\n",
    "import functools\n",
    "import traceback\n",
    "\n",
    "_indentation = 0\n",
    "def _trace(msg=None):\n",
    "    \"\"\"Print a message at current indentation.\"\"\"\n",
    "    if msg is not None:\n",
    "        print(\"  \" * _indentation + msg)\n",
    "\n",
    "def _trace_indent(msg=None):\n",
    "    \"\"\"Print a message and then indent the rest.\"\"\"\n",
    "    global _indentation\n",
    "    _trace(msg)\n",
    "    _indentation = 1 + _indentation\n",
    "\n",
    "def _trace_unindent(msg=None):\n",
    "    \"\"\"Unindent then print a message.\"\"\"\n",
    "    global _indentation\n",
    "    _indentation = _indentation - 1\n",
    "    _trace(msg)\n",
    "\n",
    "def trace(name):\n",
    "  \"\"\"A decorator for functions to trace arguments and results.\"\"\"\n",
    "\n",
    "  def trace_func(func):  # pylint: disable=missing-docstring\n",
    "    def pp(v):\n",
    "        \"\"\"Print certain values more succinctly\"\"\"\n",
    "        vtype = str(type(v))\n",
    "        if \"jax._src.xla_bridge._JaxComputationBuilder\" in vtype:\n",
    "            return \"<JaxComputationBuilder>\"\n",
    "        elif \"jaxlib._jax_.XlaOp\" in vtype:\n",
    "            return \"<XlaOp at 0x{:x}>\".format(id(v))\n",
    "        elif (\"partial_eval.JaxprTracer\" in vtype or\n",
    "              \"batching.BatchTracer\" in vtype or\n",
    "              \"ad.JVPTracer\" in vtype):\n",
    "            return \"Traced<{}>\".format(v.aval)\n",
    "        elif isinstance(v, tuple):\n",
    "            return \"({})\".format(pp_values(v))\n",
    "        else:\n",
    "            return str(v)\n",
    "    def pp_values(args):\n",
    "        return \", \".join([pp(arg) for arg in args])\n",
    "\n",
    "    @functools.wraps(func)\n",
    "    def func_wrapper(*args):\n",
    "      _trace_indent(\"call {}({})\".format(name, pp_values(args)))\n",
    "      res = func(*args)\n",
    "      _trace_unindent(\"|<- {} = {}\".format(name, pp(res)))\n",
    "      return res\n",
    "\n",
    "    return func_wrapper\n",
    "\n",
    "  return trace_func\n",
    "\n",
    "class expectNotImplementedError(object):\n",
    "  \"\"\"Context manager to check for NotImplementedError.\"\"\"\n",
    "  def __enter__(self): pass\n",
    "  def __exit__(self, type, value, tb):\n",
    "    global _indentation\n",
    "    _indentation = 0\n",
    "    if type is NotImplementedError:\n",
    "      print(\"\\nFound expected exception:\")\n",
    "      traceback.print_exc(limit=3)\n",
    "      return True\n",
    "    elif type is None:  # No exception\n",
    "      assert False, \"Expected NotImplementedError\"\n",
    "    else:\n",
    "      return False"
   ],
   "id": "1cb2f8fdfaabe3f2",
   "outputs": [],
   "execution_count": 3
  },
  {
   "metadata": {
    "ExecuteTime": {
     "end_time": "2025-05-20T18:50:00.866503Z",
     "start_time": "2025-05-20T18:50:00.848806Z"
    }
   },
   "cell_type": "code",
   "source": [
    "import jax.numpy as jnp\n",
    "import numpy as np\n",
    "\n",
    "@trace(\"multiply_add_numpy\")\n",
    "def multiply_add_numpy(x, y, z):\n",
    "    return jnp.add(jnp.multiply(x, y), z)\n",
    "\n",
    "@trace(\"square_add_numpy\")\n",
    "def square_add_numpy(a, b):\n",
    "    return multiply_add_numpy(a, a, b)\n",
    "\n",
    "print(\"\\nNormal evaluation:\")\n",
    "print(\"square_add_numpy = \", square_add_numpy(2., 10.))\n",
    "print(\"\\nGradient evaluation:\")\n",
    "print(\"grad(square_add_numpy) = \", api.grad(square_add_numpy)(3.0, 10.))"
   ],
   "id": "499c4fc6ee76927b",
   "outputs": [
    {
     "name": "stdout",
     "output_type": "stream",
     "text": [
      "\n",
      "Normal evaluation:\n",
      "call square_add_numpy(2.0, 10.0)\n",
      "  call multiply_add_numpy(2.0, 2.0, 10.0)\n",
      "  |<- multiply_add_numpy = 14.0\n",
      "|<- square_add_numpy = 14.0\n",
      "square_add_numpy =  14.0\n",
      "\n",
      "Gradient evaluation:\n",
      "call square_add_numpy(Traced<ShapedArray(float32[], weak_type=True)>, 10.0)\n",
      "  call multiply_add_numpy(Traced<ShapedArray(float32[], weak_type=True)>, Traced<ShapedArray(float32[], weak_type=True)>, 10.0)\n",
      "  |<- multiply_add_numpy = Traced<ShapedArray(float32[], weak_type=True)>\n",
      "|<- square_add_numpy = Traced<ShapedArray(float32[], weak_type=True)>\n",
      "grad(square_add_numpy) =  6.0\n"
     ]
    }
   ],
   "execution_count": 5
  }
 ],
 "metadata": {
  "kernelspec": {
   "display_name": "Python 3",
   "language": "python",
   "name": "python3"
  },
  "language_info": {
   "codemirror_mode": {
    "name": "ipython",
    "version": 2
   },
   "file_extension": ".py",
   "mimetype": "text/x-python",
   "name": "python",
   "nbconvert_exporter": "python",
   "pygments_lexer": "ipython2",
   "version": "2.7.6"
  }
 },
 "nbformat": 4,
 "nbformat_minor": 5
}
