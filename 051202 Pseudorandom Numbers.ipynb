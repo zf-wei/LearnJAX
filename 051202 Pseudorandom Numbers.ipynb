{
 "cells": [
  {
   "metadata": {},
   "cell_type": "markdown",
   "source": "# 首先是 Numpy 中的随机数",
   "id": "4bfad878e4bdfc7"
  },
  {
   "metadata": {},
   "cell_type": "code",
   "outputs": [],
   "execution_count": 22,
   "source": "import numpy as np",
   "id": "initial_id"
  },
  {
   "metadata": {},
   "cell_type": "code",
   "outputs": [],
   "execution_count": null,
   "source": [
    "# 只要是种子一样的随机数生成器，生成的随机数序列都是一样的。\n",
    "\n",
    "np.random.seed(0)\n",
    "\n",
    "print(np.random.random())\n",
    "print(np.random.random())\n",
    "print(np.random.random())\n",
    "\n",
    "np.random.seed(0)\n",
    "print(np.random.random())\n",
    "print(np.random.random())\n",
    "print(np.random.random())"
   ],
   "id": "43399d645e1ec14e"
  },
  {
   "metadata": {
    "ExecuteTime": {
     "end_time": "2025-05-13T07:01:06.105892Z",
     "start_time": "2025-05-13T07:01:06.095576Z"
    }
   },
   "cell_type": "code",
   "source": [
    "# 随机数生成器的状态是一个复杂的对象，包含了当前的状态信息。我们可以通过 `np.random.get_state()` 来获取当前的状态。\n",
    "# 每次调用 `np.random.seed()` 都会重置随机数生成器的状态。\n",
    "\n",
    "def print_truncated_random_state():\n",
    "  \"\"\"To avoid spamming the outputs, print only part of the state.\"\"\"\n",
    "  full_random_state = np.random.get_state()\n",
    "  print(str(full_random_state)[:150], '...')\n",
    "\n",
    "np.random.seed(42)\n",
    "print_truncated_random_state()\n",
    "np.random.seed(42)\n",
    "print_truncated_random_state()\n",
    "\n",
    "test = np.random.normal(0, 1, 10)\n",
    "print(test.shape)\n",
    "print_truncated_random_state()"
   ],
   "id": "6f1858096c03d9f",
   "outputs": [
    {
     "name": "stdout",
     "output_type": "stream",
     "text": [
      "('MT19937', array([        42, 3107752595, 1895908407, 3900362577, 3030691166,\n",
      "       4081230161, 2732361568, 1361238961, 3961642104,  867618704,\n",
      "     ...\n",
      "('MT19937', array([        42, 3107752595, 1895908407, 3900362577, 3030691166,\n",
      "       4081230161, 2732361568, 1361238961, 3961642104,  867618704,\n",
      "     ...\n",
      "(10,)\n",
      "('MT19937', array([ 723970371, 1229153189, 4170412009, 2042542564, 3342822751,\n",
      "       3177601514, 1210243767, 2648089330, 1412570585, 3849763494,\n",
      "     ...\n"
     ]
    }
   ],
   "execution_count": 19
  },
  {
   "metadata": {},
   "cell_type": "markdown",
   "source": [
    "在上面的输出中，`MT19937` 是指 **Mersenne Twister 19937**，19937 对应于其周期长度。它是 NumPy 默认使用的伪随机数生成器（PRNG，Pseudo-Random Number Generator）的算法名称。\n",
    "\n",
    "### 详细解释：\n",
    "**Mersenne Twister** 是一种高效的伪随机数生成算法，具有以下特点：\n",
    "   - 周期非常长（$2^{19937} - 1$）。\n",
    "   - 生成的随机数分布均匀，质量较高。\n",
    "   - 适合大多数科学计算和模拟任务。"
   ],
   "id": "6990ff2d42e6c597"
  },
  {
   "metadata": {
    "ExecuteTime": {
     "end_time": "2025-05-13T07:01:16.374275Z",
     "start_time": "2025-05-13T07:01:16.366096Z"
    }
   },
   "cell_type": "code",
   "source": [
    "# 可以设置生成随机数的形状\n",
    "\n",
    "np.random.seed(0)\n",
    "print(np.random.uniform(size=3))"
   ],
   "id": "47d14048e9500d7c",
   "outputs": [
    {
     "name": "stdout",
     "output_type": "stream",
     "text": [
      "[0.5488135  0.71518937 0.60276338]\n"
     ]
    }
   ],
   "execution_count": 20
  },
  {
   "metadata": {
    "ExecuteTime": {
     "end_time": "2025-05-13T07:03:05.697600Z",
     "start_time": "2025-05-13T07:03:05.693187Z"
    }
   },
   "cell_type": "code",
   "source": [
    "# 一个个生成和一次性生成的效果是一样的\n",
    "\n",
    "np.random.seed(0)\n",
    "print(\"individually:\", np.stack([np.random.uniform() for _ in range(3)]))\n",
    "\n",
    "np.random.seed(0)\n",
    "print(\"all at once: \", np.random.uniform(size=3))"
   ],
   "id": "61985c1780d2439e",
   "outputs": [
    {
     "name": "stdout",
     "output_type": "stream",
     "text": [
      "individually: [0.5488135  0.71518937 0.60276338]\n",
      "all at once:  [0.5488135  0.71518937 0.60276338]\n"
     ]
    }
   ],
   "execution_count": 23
  },
  {
   "metadata": {},
   "cell_type": "markdown",
   "source": "# 下面是 JAX 的随机数生成器",
   "id": "884df0c638ef0e04"
  },
  {
   "metadata": {},
   "cell_type": "code",
   "outputs": [],
   "execution_count": null,
   "source": [
    "import jax\n",
    "from jax import random"
   ],
   "id": "a15d2021f1d1ce47"
  },
  {
   "metadata": {},
   "cell_type": "code",
   "outputs": [],
   "execution_count": null,
   "source": [
    "# JAX 中，相同的 key 导致相同的随机数\n",
    "\n",
    "key = random.key(42)\n",
    "print(key)\n",
    "\n",
    "print(random.normal(key))\n",
    "print(random.normal(key))"
   ],
   "id": "a714b13e0bfaea0"
  },
  {
   "metadata": {
    "ExecuteTime": {
     "end_time": "2025-05-13T07:10:28.728750Z",
     "start_time": "2025-05-13T07:10:28.717604Z"
    }
   },
   "cell_type": "code",
   "source": [
    "# 一定要使用 `random.split()` 来分割 key\n",
    "\n",
    "key = random.key(42) # 试试不加这一句并重复运行这个单元格？\n",
    "for i in range(3):\n",
    "  new_key, subkey = random.split(key)\n",
    "  del key  # The old key is consumed by split() -- we must never use it again.\n",
    "\n",
    "  val = random.normal(subkey)\n",
    "  del subkey  # The subkey is consumed by normal().\n",
    "\n",
    "  print(f\"draw {i}: {val}\")\n",
    "  key = new_key  # new_key is safe to use in the next iteration."
   ],
   "id": "c77b360f97f87162",
   "outputs": [
    {
     "name": "stdout",
     "output_type": "stream",
     "text": [
      "draw 0: 0.6057640314102173\n",
      "draw 1: -0.21089035272598267\n",
      "draw 2: -0.3948981463909149\n"
     ]
    }
   ],
   "execution_count": 38
  },
  {
   "metadata": {
    "ExecuteTime": {
     "end_time": "2025-05-13T07:15:21.069694Z",
     "start_time": "2025-05-13T07:15:21.062399Z"
    }
   },
   "cell_type": "code",
   "source": [
    "# 更多是这么书写代码：\n",
    "\n",
    "print(f\"Currently, key is :{key}\")\n",
    "key, subkey = random.split(key)\n",
    "print(f\"After split, key is: {key}\")\n",
    "print(f\"After split, subkey is: {subkey}\")"
   ],
   "id": "7b2c1609e19be7d1",
   "outputs": [
    {
     "name": "stdout",
     "output_type": "stream",
     "text": [
      "Currently, key is :Array((), dtype=key<fry>) overlaying:\n",
      "[4277279094 3231914188]\n",
      "After split, key is: Array((), dtype=key<fry>) overlaying:\n",
      "[3895678382 3429534896]\n",
      "After split, subkey is: Array((), dtype=key<fry>) overlaying:\n",
      "[3515226245 1150219387]\n"
     ]
    }
   ],
   "execution_count": 43
  },
  {
   "metadata": {
    "ExecuteTime": {
     "end_time": "2025-05-13T07:19:04.084170Z",
     "start_time": "2025-05-13T07:19:04.068062Z"
    }
   },
   "cell_type": "code",
   "source": [
    "# 或者 split 成多个 subkey\n",
    "\n",
    "key = random.key(93)\n",
    "key, *forty_two_subkeys = random.split(key, num=43)\n",
    "# *符号 的作用是打包或解包不定长的参数或可迭代对象。\n",
    "print(type(forty_two_subkeys), len(forty_two_subkeys))\n",
    "\n",
    "key = random.key(93)\n",
    "forty_three_subkeys = random.split(key, num=43)\n",
    "print(type(forty_three_subkeys), len(forty_three_subkeys))"
   ],
   "id": "f5169a1923aa3c67",
   "outputs": [
    {
     "name": "stdout",
     "output_type": "stream",
     "text": [
      "<class 'list'> 42\n",
      "<class 'jax._src.prng.PRNGKeyArray'> 43\n"
     ]
    }
   ],
   "execution_count": 55
  },
  {
   "metadata": {
    "ExecuteTime": {
     "end_time": "2025-05-13T07:34:54.859856Z",
     "start_time": "2025-05-13T07:34:54.841337Z"
    }
   },
   "cell_type": "code",
   "source": [
    "# JAX 中的随机数生成器不是顺序等价的\n",
    "\n",
    "key = random.key(42)\n",
    "subkeys = random.split(key, 3)\n",
    "sequence1 = np.stack([random.normal(subkey) for subkey in subkeys])\n",
    "print(\"individually:\", sequence1)\n",
    "sequence2 = jax.vmap(random.normal)(subkeys)\n",
    "print(\"all at once: \", sequence2)\n",
    "\n",
    "key = random.key(42)\n",
    "print(\"all at once: \", random.normal(key, shape=(3,)))"
   ],
   "id": "799bc1a21f7d14e",
   "outputs": [
    {
     "name": "stdout",
     "output_type": "stream",
     "text": [
      "individually: [0.07592554 0.60576403 0.4323065 ]\n",
      "all at once:  [0.07592554 0.60576403 0.4323065 ]\n",
      "all at once:  [-0.02830462  0.46713185  0.29570296]\n"
     ]
    }
   ],
   "execution_count": 69
  }
 ],
 "metadata": {
  "kernelspec": {
   "display_name": "Python 3",
   "language": "python",
   "name": "python3"
  },
  "language_info": {
   "codemirror_mode": {
    "name": "ipython",
    "version": 2
   },
   "file_extension": ".py",
   "mimetype": "text/x-python",
   "name": "python",
   "nbconvert_exporter": "python",
   "pygments_lexer": "ipython2",
   "version": "2.7.6"
  }
 },
 "nbformat": 4,
 "nbformat_minor": 5
}
