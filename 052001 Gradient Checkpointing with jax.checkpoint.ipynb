{
 "cells": [
  {
   "cell_type": "code",
   "id": "initial_id",
   "metadata": {
    "collapsed": true
   },
   "source": [
    "import jax\n",
    "import jax.numpy as jnp\n",
    "\n",
    "def g(W, x):\n",
    "  y = jnp.dot(W, x)\n",
    "  return jnp.sin(y)\n",
    "\n",
    "def f(W1, W2, W3, x):\n",
    "  x = g(W1, x)\n",
    "  x = g(W2, x)\n",
    "  x = g(W3, x)\n",
    "  return x\n",
    "\n",
    "W1 = jnp.ones((5, 4))\n",
    "W2 = jnp.ones((6, 5))\n",
    "W3 = jnp.ones((7, 6))\n",
    "x = jnp.ones(4)\n",
    "\n",
    "# Inspect the 'residual' values to be saved on the forward pass\n",
    "# if you were to evaluate `jax.grad(f)(W1, W2, W3, x)`\n",
    "from jax.ad_checkpoint import print_saved_residuals\n",
    "jax.ad_checkpoint.print_saved_residuals(f, W1, W2, W3, x)"
   ],
   "outputs": [],
   "execution_count": null
  },
  {
   "metadata": {},
   "cell_type": "code",
   "source": [
    "def f2(W1, W2, W3, x):\n",
    "  x = jax.checkpoint(g)(W1, x)\n",
    "  x = jax.checkpoint(g)(W2, x)\n",
    "  x = jax.checkpoint(g)(W3, x)\n",
    "  return x\n",
    "\n",
    "jax.ad_checkpoint.print_saved_residuals(f2, W1, W2, W3, x)"
   ],
   "id": "4e523dbe262908bc",
   "outputs": [],
   "execution_count": null
  },
  {
   "metadata": {},
   "cell_type": "code",
   "source": [
    "f3 = jax.checkpoint(f, policy=jax.checkpoint_policies.dots_with_no_batch_dims_saveable)\n",
    "jax.ad_checkpoint.print_saved_residuals(f3, W1, W2, W3, x)"
   ],
   "id": "4a5b69ca7a437ff2",
   "outputs": [],
   "execution_count": null
  },
  {
   "metadata": {},
   "cell_type": "code",
   "source": [
    "from jax.tree_util import tree_flatten, tree_unflatten\n",
    "\n",
    "from rich.console import Console\n",
    "from rich.table import Table\n",
    "import rich.text\n",
    "\n",
    "def print_fwd_bwd(f, *args, **kwargs) -> None:\n",
    "  args, in_tree = tree_flatten((args, kwargs))\n",
    "\n",
    "  def f_(*args):\n",
    "    args, kwargs = tree_unflatten(in_tree, args)\n",
    "    return f(*args, **kwargs)\n",
    "\n",
    "  fwd = jax.make_jaxpr(lambda *args: jax.vjp(f_, *args))(*args).jaxpr\n",
    "\n",
    "  y, f_vjp = jax.vjp(f_, *args)\n",
    "  res, in_tree = tree_flatten(f_vjp)\n",
    "\n",
    "  def g_(*args):\n",
    "    *res, y = args\n",
    "    f_vjp = tree_unflatten(in_tree, res)\n",
    "    return f_vjp(y)\n",
    "\n",
    "  bwd = jax.make_jaxpr(g_)(*res, y).jaxpr\n",
    "\n",
    "  table = Table(show_header=False, show_lines=True, padding=(1, 2, 0, 2), box=None)\n",
    "  table.add_row(\"[bold green]forward computation:\",\n",
    "                \"[bold green]backward computation:\")\n",
    "  table.add_row(rich.text.Text.from_ansi(str(fwd)),\n",
    "                rich.text.Text.from_ansi(str(bwd)))\n",
    "  console = Console(width=240, force_jupyter=True)\n",
    "  console.print(table)\n",
    "\n",
    "def _renderable_repr(self):\n",
    "  return self.html\n",
    "rich.jupyter.JupyterRenderable._repr_html_ = _renderable_repr"
   ],
   "id": "fe1d9e6b2f129aa1",
   "outputs": [],
   "execution_count": null
  },
  {
   "metadata": {},
   "cell_type": "code",
   "source": [
    "# Without using `jax.checkpoint`:\n",
    "print_fwd_bwd(f, W1, W2, W3, x)"
   ],
   "id": "3107aeb4c3de316",
   "outputs": [],
   "execution_count": null
  },
  {
   "metadata": {},
   "cell_type": "code",
   "source": [
    "# Using `jax.checkpoint` with policy=jax.checkpoint_policies.dots_with_no_batch_dims_saveable:\n",
    "print_fwd_bwd(f3, W1, W2, W3, x)"
   ],
   "id": "67296f273a856e2c",
   "outputs": [],
   "execution_count": null
  }
 ],
 "metadata": {
  "kernelspec": {
   "display_name": "Python 3",
   "language": "python",
   "name": "python3"
  },
  "language_info": {
   "codemirror_mode": {
    "name": "ipython",
    "version": 2
   },
   "file_extension": ".py",
   "mimetype": "text/x-python",
   "name": "python",
   "nbconvert_exporter": "python",
   "pygments_lexer": "ipython2",
   "version": "2.7.6"
  }
 },
 "nbformat": 4,
 "nbformat_minor": 5
}
