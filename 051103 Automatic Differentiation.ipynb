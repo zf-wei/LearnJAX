{
 "cells": [
  {
   "cell_type": "code",
   "execution_count": null,
   "id": "initial_id",
   "metadata": {
    "collapsed": true
   },
   "outputs": [],
   "source": [
    "import jax\n",
    "import jax.numpy as jnp\n",
    "from jax import grad"
   ]
  },
  {
   "cell_type": "code",
   "execution_count": null,
   "id": "b2e8ecbb2e1216dc",
   "metadata": {},
   "outputs": [],
   "source": [
    "# 使用 jax.grad 求导数\n",
    "\n",
    "grad_tanh = grad(jnp.tanh)\n",
    "print(grad_tanh(2.0),\n",
    "      grad(grad(jnp.tanh))(2.0),\n",
    "      grad(grad(grad(jnp.tanh)))(2.0))"
   ]
  },
  {
   "cell_type": "code",
   "execution_count": null,
   "id": "3b2360ada42e6b84",
   "metadata": {},
   "outputs": [],
   "source": [
    "# 使用 jax.grad 求导数\n",
    "\n",
    "f = lambda x: x**3 + 2*x**2 - 3*x + 1\n",
    "\n",
    "dfdx = jax.grad(f)\n",
    "d2fdx = jax.grad(dfdx)\n",
    "d3fdx = jax.grad(d2fdx)\n",
    "d4fdx = jax.grad(d3fdx)\n",
    "\n",
    "print(dfdx(1.),\n",
    "      d2fdx(1.),\n",
    "      d3fdx(1.),\n",
    "      d4fdx(1.))"
   ]
  }
 ],
 "metadata": {
  "kernelspec": {
   "display_name": "Python 3",
   "language": "python",
   "name": "python3"
  },
  "language_info": {
   "codemirror_mode": {
    "name": "ipython",
    "version": 2
   },
   "file_extension": ".py",
   "mimetype": "text/x-python",
   "name": "python",
   "nbconvert_exporter": "python",
   "pygments_lexer": "ipython2",
   "version": "2.7.6"
  }
 },
 "nbformat": 4,
 "nbformat_minor": 5
}
