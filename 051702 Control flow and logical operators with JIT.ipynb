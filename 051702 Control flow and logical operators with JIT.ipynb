{
 "cells": [
  {
   "cell_type": "code",
   "id": "initial_id",
   "metadata": {
    "collapsed": true
   },
   "source": [
    "import jax\n",
    "from jax import grad, jit\n",
    "import jax.numpy as jnp"
   ],
   "outputs": [],
   "execution_count": null
  },
  {
   "metadata": {},
   "cell_type": "code",
   "source": [
    "@jit\n",
    "def f(x):\n",
    "  for i in range(3):\n",
    "    x = 2 * x\n",
    "  return x\n",
    "\n",
    "print(f(3))"
   ],
   "id": "ddc78168d1626409",
   "outputs": [],
   "execution_count": null
  },
  {
   "metadata": {},
   "cell_type": "code",
   "source": [
    "@jit\n",
    "def g(x):\n",
    "  y = 0.\n",
    "  for i in range(x.shape[0]):\n",
    "    y = y + x[i]\n",
    "  return y\n",
    "\n",
    "print(g(jnp.array([1., 2., 3.])))\n",
    "\n",
    "# jax.make_jaxpr(g)(jnp.array([1., 2., 3., 4.2]))\n",
    "# 运行上面的代码可以看到，如果 x 的长度不一样，编译的结果也不一样\n",
    "# 对于不同长度的输入，jax 会重新编译"
   ],
   "id": "577d4e2ad158dd4f",
   "outputs": [],
   "execution_count": null
  },
  {
   "metadata": {},
   "cell_type": "code",
   "source": [
    "# static_argnames 的一个例子\n",
    "\n",
    "def f(x):\n",
    "  if x < 3:\n",
    "    return 3. * x ** 2\n",
    "  else:\n",
    "    return -4 * x\n",
    "\n",
    "f = jit(f, static_argnames='x')\n",
    "\n",
    "print(f(2.))"
   ],
   "id": "c4a3b95bc41c7f08",
   "outputs": [],
   "execution_count": null
  },
  {
   "metadata": {},
   "cell_type": "code",
   "source": [
    "# static_argnames 的另一个例子\n",
    "\n",
    "def f(x, n):\n",
    "  y = 0.\n",
    "  for i in range(n):\n",
    "    y = y + x[i]\n",
    "  return y\n",
    "\n",
    "f = jit(f, static_argnames='n')\n",
    "\n",
    "f(jnp.array([2., 3., 4.]), 2)"
   ],
   "id": "c45c2ee25885b56e",
   "outputs": [],
   "execution_count": null
  },
  {
   "metadata": {},
   "cell_type": "code",
   "source": [
    "# static_argnames 的更多例子\n",
    "# static_argnames 可以指定多个参数为静态参数\n",
    "# 或者可以使用 static_argnums 来指定参数的位置\n",
    "\n",
    "def example_fun(length, val):\n",
    "  return jnp.ones((length,)) * val\n",
    "# un-jit'd works fine\n",
    "print(example_fun(5, 4))\n",
    "\n",
    "# 注意，这个函数 example_fun 不能够直接 jit，因为它的第一个参数是一个变量\n",
    "\n",
    "# static_argnames tells JAX to recompile on changes at these argument positions:\n",
    "good_example_jit = jit(example_fun, static_argnames='length')\n",
    "# first compile\n",
    "print(good_example_jit(10, 4))\n",
    "# recompiles\n",
    "print(good_example_jit(5, 8))\n",
    "\n",
    "# 如果想指定更多的参数为静态参数，可以使用 static_argnames\n",
    "more_example_jit = jit(example_fun, static_argnames=['length', 'val'])\n",
    "# 或者换个写法\n",
    "more_example_jit = jit(example_fun, static_argnums=(0, 1))\n",
    "# first compile\n",
    "print(more_example_jit(10, 4))\n",
    "# recompiles\n",
    "print(more_example_jit(5, 8))\n",
    "# 这里的 length 和 val 都是静态参数\n",
    "# 但是如果 length 和 val 都是动态参数，那么就会报错\n",
    "print(more_example_jit(12, 8)) # 这里的 length 和 val 都是动态参数"
   ],
   "id": "f838de95906c4305",
   "outputs": [],
   "execution_count": null
  },
  {
   "metadata": {},
   "cell_type": "code",
   "source": [
    "# 如果需要在 jit 版本的函数中使用 print 语句，可以使用 jax.debug.print\n",
    "\n",
    "import jax\n",
    "\n",
    "@jit\n",
    "def f(x):\n",
    "    jax.debug.print(\"The first printed number is {x}\", x=x)\n",
    "    y = 2 * x\n",
    "    print(y)\n",
    "    jax.debug.print(\"The second printed number is {}\", y)\n",
    "    return y\n",
    "f(2)"
   ],
   "id": "2405e3f4fe84ae1d",
   "outputs": [],
   "execution_count": null
  },
  {
   "metadata": {},
   "cell_type": "markdown",
   "source": "# Structured control flow primitives",
   "id": "23781948a3a0f6fd"
  },
  {
   "metadata": {},
   "cell_type": "code",
   "source": [
    "# jax.lax.cond\n",
    "\n",
    "from jax import lax\n",
    "\n",
    "operand = jnp.array([0.])\n",
    "print(lax.cond(True, lambda x: x+1, lambda x: x-1, operand))\n",
    "print(lax.cond(False, lambda x: x+1, lambda x: x-1, operand))"
   ],
   "id": "98339fdce0466af5",
   "outputs": [],
   "execution_count": null
  },
  {
   "metadata": {},
   "cell_type": "code",
   "source": [
    "# jax.lax.select 和 jax.numpy.where\n",
    "\n",
    "import jax\n",
    "import jax.numpy as jnp\n",
    "from jax import lax\n",
    "\n",
    "# 条件：布尔数组\n",
    "pred = jnp.array([True, False, True])\n",
    "\n",
    "# 两个预先计算的数组\n",
    "x = jnp.array([1, 2, 3])\n",
    "y = jnp.array([10, 20, 30])\n",
    "\n",
    "# 在 x 和 y 之间逐位选择\n",
    "out = lax.select(pred, x, y)\n",
    "print(out)  # [ 1 20  3]\n",
    "\n",
    "out_jnp = jnp.where(pred, x, y)\n",
    "print(out_jnp)  # [ 1 20  3]"
   ],
   "id": "a1a01d8b3e0bbc0f",
   "outputs": [],
   "execution_count": null
  },
  {
   "metadata": {},
   "cell_type": "code",
   "source": [
    "# jax.lax.switch\n",
    "\n",
    "def branch_0(x): return x + 100\n",
    "def branch_1(x): return x * 10\n",
    "def branch_2(x): return x - 50\n",
    "\n",
    "branches = [branch_0, branch_1, branch_2]\n",
    "index = 2  # 动态 index 指示使用哪个分支\n",
    "num = 5\n",
    "\n",
    "result = lax.switch(index, branches, num)\n",
    "print(result)\n"
   ],
   "id": "6183cbccf3ea267d",
   "outputs": [],
   "execution_count": null
  },
  {
   "metadata": {},
   "cell_type": "code",
   "source": [
    "# 使用 vmap 向量化 lax.switch\n",
    "\n",
    "def demo(index, num):\n",
    "    branches = [branch_0, branch_1, branch_2]\n",
    "    return lax.switch(index, branches, num)\n",
    "\n",
    "vectorized_demo = jax.vmap(demo, in_axes=(0, 0))\n",
    "\n",
    "# 多个动态 index 和 num\n",
    "indices = jnp.array([0, 1, 2])\n",
    "nums = jnp.array([5, 7, 8])\n",
    "\n",
    "result = vectorized_demo(indices, nums)\n",
    "print(result)  # 输出: [105 70 -42]"
   ],
   "id": "b86ae45816d2705a",
   "outputs": [],
   "execution_count": null
  },
  {
   "metadata": {},
   "cell_type": "code",
   "source": [
    "# jax.numpy.select 用于二维数组\n",
    "# 不学习更高维了，因为不常用\n",
    "\n",
    "conditions = [\n",
    "    jnp.array([True, False, False]),\n",
    "    jnp.array([False, True, True]),\n",
    "    jnp.array([True, True, False]),\n",
    "]\n",
    "\n",
    "# conditions = jnp.array(conditions) 可以不需要\n",
    "\n",
    "choices = [\n",
    "    jnp.array([1, 2, 3]),\n",
    "    jnp.array([4, 5, 6]),\n",
    "    jnp.array([7, 8, 9]),\n",
    "]\n",
    "\n",
    "# choices = jnp.array(choices) 可以不需要\n",
    "\n",
    "result = jnp.select(conditions, choices, default=-1)\n",
    "print(result)"
   ],
   "id": "6697f3a0551b19f1",
   "outputs": [],
   "execution_count": null
  },
  {
   "metadata": {},
   "cell_type": "code",
   "source": [
    "# jax.numpy.piecewise\n",
    "\n",
    "import jax.numpy as jnp\n",
    "\n",
    "x = jnp.array([-3.0, 0.0, -1.5, 3.5])\n",
    "\n",
    "conds = [\n",
    "    x < 0,\n",
    "    (x >= 0) & (x < 2),\n",
    "    x >= 2\n",
    "]\n",
    "\n",
    "i = 0\n",
    "\n",
    "def f1(x):\n",
    "    global i\n",
    "    i += 1\n",
    "    y = jnp.full_like(x, -1.0)\n",
    "    jax.debug.print(\"f1 is called: y is of type {}\", type(y))\n",
    "    jax.debug.print(\"f1 is called: y is of shape {}\", y.shape) # 这个句子并不能正确返回y的形状 因为这些代码都是函数式的\n",
    "    return y\n",
    "\n",
    "f_list = [\n",
    "    #-1, 这样写更简单\n",
    "    # lambda x: -1, 这样写会报错\n",
    "    f1,\n",
    "    lambda x: x ** 2,\n",
    "    lambda x: x + 10,\n",
    "]\n",
    "\n",
    "result = jnp.piecewise(x, conds, f_list)\n",
    "print(result)  # [-1.     0.     2.25  13.5 ]\n",
    "print(i) #会返回 1 因为纯函数式编程的特性"
   ],
   "id": "87b8f99198c95678",
   "outputs": [],
   "execution_count": null
  },
  {
   "metadata": {},
   "cell_type": "code",
   "source": [
    "# jax.lax.while_loop\n",
    "\n",
    "init_val = 0\n",
    "cond_fun = lambda x: x < 10\n",
    "body_fun = lambda x: x+1\n",
    "lax.while_loop(cond_fun, body_fun, init_val)\n",
    "# --> array(10, dtype=int32)"
   ],
   "id": "bb74f6af186e59e2",
   "outputs": [],
   "execution_count": null
  },
  {
   "metadata": {},
   "cell_type": "code",
   "source": [
    "# jax.lax.fori_loop\n",
    "\n",
    "init_val = 0\n",
    "start = 0\n",
    "stop = 10\n",
    "\n",
    "#body_fun = lambda i,x: x+i\n",
    "def body_fun(i, x):\n",
    "    return x + i\n",
    "lax.fori_loop(start, stop, body_fun, init_val)\n",
    "# --> array(45, dtype=int32)"
   ],
   "id": "36ba2487102ed5e9",
   "outputs": [],
   "execution_count": null
  },
  {
   "metadata": {},
   "cell_type": "code",
   "source": [
    "# 逻辑运算符\n",
    "\n",
    "def python_check_positive_even(x):\n",
    "  is_even = x % 2 == 0\n",
    "  # `and` short-circults, so when `is_even` is `False`, `x > 0` is not evaluated.\n",
    "  return is_even and (x > 0)\n",
    "\n",
    "@jit\n",
    "def jax_check_positive_even(x):\n",
    "  is_even = x % 2 == 0\n",
    "  # `logical_and` does not short circuit, so `x > 0` is always evaluated.\n",
    "  return jnp.logical_and(is_even, x > 0)\n",
    "\n",
    "print(python_check_positive_even(24))\n",
    "print(jax_check_positive_even(24))\n",
    "\n",
    "x = jnp.array([-1, 2, 5])\n",
    "print(jax_check_positive_even(x))"
   ],
   "id": "816a8fcc29c5a7e6",
   "outputs": [],
   "execution_count": null
  },
  {
   "metadata": {},
   "cell_type": "code",
   "source": [
    "# python_check_positive_even(x) 这个会报错 与上面的代码形成对比\n",
    "\n",
    "# print(python_check_positive_even(x)) 这个会报错，下面来探究原因\n",
    "\n",
    "print([True, True] and [False, True])\n",
    "\n",
    "print([True, False] and True)\n",
    "\n",
    "print((x%2 == 0).tolist() and (x > 0).tolist())\n",
    "\n",
    "print(type(x%2 == 0)) # <class 'jax.interpreters.xla.DeviceArray'>\n",
    "# x%2 == 0 and x > 0 # 这个会报错\n",
    "# 报错 ValueError: The truth value of an array with more than one element is ambiguous. Use a.any() or a.all()\n",
    "# 这个错误是因为 x%2 == 0 和 x > 0 都是布尔 jnp.ndarray"
   ],
   "id": "1004cb3ffbe9f297",
   "outputs": [],
   "execution_count": null
  }
 ],
 "metadata": {
  "kernelspec": {
   "display_name": "Python 3",
   "language": "python",
   "name": "python3"
  },
  "language_info": {
   "codemirror_mode": {
    "name": "ipython",
    "version": 2
   },
   "file_extension": ".py",
   "mimetype": "text/x-python",
   "name": "python",
   "nbconvert_exporter": "python",
   "pygments_lexer": "ipython2",
   "version": "2.7.6"
  }
 },
 "nbformat": 4,
 "nbformat_minor": 5
}
