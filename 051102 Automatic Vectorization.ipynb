{
 "cells": [
  {
   "metadata": {},
   "cell_type": "code",
   "source": [
    "# 导入必要的包\n",
    "import jax\n",
    "import jax.numpy as jnp"
   ],
   "id": "ba1b8c7bcd475a36",
   "outputs": [],
   "execution_count": null
  },
  {
   "metadata": {},
   "cell_type": "code",
   "source": [
    "# 定义一个简单的函数，计算两个向量的卷积\n",
    "x = jnp.arange(5)\n",
    "w = jnp.array([2., 3., 4.])\n",
    "print(f\"x的形状是{x.shape}，w的形状是{w.shape}\")\n",
    "\n",
    "def convolve(x, w):\n",
    "  output = []\n",
    "  for i in range(1, len(x)-1):\n",
    "    output.append(jnp.dot(x[i-1:i+2], w))\n",
    "  return jnp.array(output)\n",
    "\n",
    "convolve(x, w)"
   ],
   "id": "2d5556cf2790c130",
   "outputs": [],
   "execution_count": null
  },
  {
   "metadata": {},
   "cell_type": "code",
   "source": [
    "# 手动批处理计算卷积\n",
    "xs = jnp.stack([x, x])\n",
    "ws = jnp.stack([w, w])\n",
    "print(f\"xs的形状是{xs.shape}，ws的形状是{ws.shape}\")\n",
    "\n",
    "def manually_batched_convolve(xs, ws):\n",
    "  output = []\n",
    "  for i in range(xs.shape[0]):\n",
    "    output.append(convolve(xs[i], ws[i]))\n",
    "    #print(len(output), output[-1].shape)\n",
    "  return jnp.stack(output)\n",
    "\n",
    "manually_batched_convolve(xs, ws)"
   ],
   "id": "c5882515421d1930",
   "outputs": [],
   "execution_count": null
  },
  {
   "metadata": {},
   "cell_type": "code",
   "source": [
    "# 使用vmap自动批处理计算卷积\n",
    "auto_batch_convolve = jax.vmap(convolve)\n",
    "auto_batch_convolve(xs, ws)"
   ],
   "id": "5022b0973940da99",
   "outputs": [],
   "execution_count": null
  },
  {
   "metadata": {},
   "cell_type": "code",
   "source": [
    "# vmap 可以指定 in_axes 和 out_axes\n",
    "auto_batch_convolve_v2 = jax.vmap(convolve, in_axes=1, out_axes=1)\n",
    "\n",
    "xst = jnp.transpose(xs)\n",
    "wst = jnp.transpose(ws)\n",
    "\n",
    "auto_batch_convolve_v2(xst, wst)"
   ],
   "id": "5fc24ef7658e112f",
   "outputs": [],
   "execution_count": null
  },
  {
   "metadata": {},
   "cell_type": "code",
   "source": [
    "# vmap 可以指定 in_axes 和 out_axes 的不同组合\n",
    "batch_convolve_v3 = jax.vmap(convolve, in_axes=[0, None])\n",
    "\n",
    "batch_convolve_v3(xs, w)"
   ],
   "id": "b20ca21c2eddd7fa",
   "outputs": [],
   "execution_count": null
  },
  {
   "metadata": {},
   "cell_type": "code",
   "source": [
    "# vmap 可以指定 in_axes 和 out_axes 的再一个例子\n",
    "# 沿行还是列计算点集？\n",
    "\n",
    "# 定义一个简单的函数，计算两个向量的点积\n",
    "def dot_product(x, y):\n",
    "    return jnp.dot(x, y)\n",
    "\n",
    "# 输入数据\n",
    "x = jnp.array([[1, 2, 3], [4, 5, 6]])  # 形状 (2, 3)\n",
    "y = jnp.array([[7, 8, 9], [10, 11, 12]])  # 形状 (2, 3)\n",
    "\n",
    "# 使用 vmap，指定 in_axes 和 out_axes\n",
    "# in_axes=[0, 0] 表示对 x 和 y 的第 0 维进行批处理\n",
    "# out_axes=0 表示输出的批处理维度保持在第 0 维\n",
    "batched_dot_v1 = jax.vmap(dot_product, in_axes=[0, 0], out_axes=0)\n",
    "result = batched_dot_v1(x, y)\n",
    "print(\"Result with in_axes=[0, 0], out_axes=0:\", result)  # 输出形状 (2,)\n",
    "\n",
    "# 改变 in_axes 和 out_axes\n",
    "# in_axes=[1, 1] 表示对 x 和 y 的第 1 维进行批处理\n",
    "# out_axes=1 表示输出的批处理维度在第 1 维\n",
    "batched_dot_v2 = jax.vmap(dot_product, in_axes=[1, 1])\n",
    "result_v2 = batched_dot_v2(x, y)\n",
    "print(\"Result with in_axes=[1, 1], out_axes=1:\", result_v2)  # 输出形状 (3,)"
   ],
   "id": "be79e7e70bc601b6",
   "outputs": [],
   "execution_count": null
  },
  {
   "metadata": {},
   "cell_type": "code",
   "source": [
    "# vmap 可以指定 in_axes 和 out_axes 的再一个例子\n",
    "# in_axes 可以是 None\n",
    "\n",
    "# 定义一个简单函数\n",
    "def add_vectors(x, y):\n",
    "    return x + y\n",
    "\n",
    "# 输入数据\n",
    "x = jnp.array([[1, 2, 3], [4, 5, 6]])  # 形状 (2, 3)\n",
    "y = jnp.array([10, 20, 30])            # 形状 (3,)\n",
    "\n",
    "# 使用 vmap，指定 in_axes 和 out_axes\n",
    "# in_axes=[0, None] 表示对 x 的第 0 维进行批处理，而 y 不进行批处理\n",
    "# out_axes=1 表示输出的批处理维度在第 1 维\n",
    "batched_add = jax.vmap(add_vectors, in_axes=[0, None], out_axes=1)\n",
    "\n",
    "result = batched_add(x, y)\n",
    "print(result)  # 输出形状 (3, 2)"
   ],
   "id": "9721ebf14352b51f",
   "outputs": [],
   "execution_count": null
  },
  {
   "metadata": {},
   "cell_type": "code",
   "source": [
    "# vmap 可以指定 in_axes 和 out_axes 的再一个例子\n",
    "\n",
    "# 3 个 3x3 矩阵\n",
    "matrices = jnp.array([\n",
    "    [[1, 2, 3],\n",
    "     [4, 5, 6],\n",
    "     [7, 8, 9]],\n",
    "\n",
    "    [[10, 11, 12],\n",
    "     [13, 14, 15],\n",
    "     [16, 17, 18]],\n",
    "\n",
    "    [[19, 20, 21],\n",
    "     [22, 23, 24],\n",
    "     [25, 26, 27]]\n",
    "])  # shape (3, 3, 3)\n",
    "\n",
    "# 3 个向量\n",
    "vectors = jnp.array([\n",
    "    [1, 8, 0],\n",
    "    [1, 2, 0],\n",
    "    [0, 0, 3]\n",
    "])  # shape (3, 3)\n",
    "\n",
    "def matvec_mul(m, v):\n",
    "    return jnp.matmul(m, v)\n",
    "\n",
    "batched = jax.vmap(matvec_mul, in_axes=(0, 1), out_axes=0)\n",
    "result = batched(matrices, vectors)\n",
    "\n",
    "print(\"Result shape:\", result.shape)  # (3, 3)\n",
    "print(result)"
   ],
   "id": "4a0a37490e43cccb",
   "outputs": [],
   "execution_count": null
  },
  {
   "metadata": {},
   "cell_type": "code",
   "source": [
    "#上面的例子涉及到了自动广播机制， 实际上 2*3 和 3维向量在 jax 中可以相乘，其实是自动广播了\n",
    "a = jnp.ones((2, 3))  # shape (2, 3)\n",
    "b = jnp.ones((3))  # shape (1, 3)\n",
    "print(jnp.matmul(a, b).shape)  # shape (2,)\n",
    "\n",
    "# 但是如果我们想要的是 2*3 和 1*3 的矩阵相乘， 却会报错\n",
    "a = jnp.ones((2, 3))  # shape (2, 3)\n",
    "b = jnp.ones((1, 3))  # shape (1, 3)\n",
    "print(jnp.matmul(a, b))  # 这行代码会报错"
   ],
   "id": "9790b5b2242eed1c",
   "outputs": [],
   "execution_count": null
  },
  {
   "metadata": {},
   "cell_type": "code",
   "source": [
    "# 号外：下面的三个 array 形状当然是不同的\n",
    "a = jnp.array([1,2,3])\n",
    "print(a.shape)  # shape (3,)\n",
    "\n",
    "b = jnp.ones((1, 3))  # shape (1, 3)\n",
    "print(b.shape)  # shape (1, 3)\n",
    "\n",
    "c = jnp.zeros((3, 1))  # shape (3, 1)\n",
    "print(c.shape)  # shape (3, 1)"
   ],
   "id": "1c5ca66c574d2a41",
   "outputs": [],
   "execution_count": null
  }
 ],
 "metadata": {},
 "nbformat": 4,
 "nbformat_minor": 5
}
