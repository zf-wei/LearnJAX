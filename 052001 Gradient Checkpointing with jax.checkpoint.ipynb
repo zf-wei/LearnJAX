{
 "cells": [
  {
   "cell_type": "code",
   "id": "initial_id",
   "metadata": {
    "collapsed": true,
    "ExecuteTime": {
     "end_time": "2025-05-20T17:47:48.121389Z",
     "start_time": "2025-05-20T17:47:32.684011Z"
    }
   },
   "source": [
    "import jax\n",
    "import jax.numpy as jnp\n",
    "\n",
    "def g(W, x):\n",
    "  y = jnp.dot(W, x)\n",
    "  return jnp.sin(y)\n",
    "\n",
    "def f(W1, W2, W3, x):\n",
    "  x = g(W1, x)\n",
    "  x = g(W2, x)\n",
    "  x = g(W3, x)\n",
    "  return x\n",
    "\n",
    "W1 = jnp.ones((5, 4))\n",
    "W2 = jnp.ones((6, 5))\n",
    "W3 = jnp.ones((7, 6))\n",
    "x = jnp.ones(4)\n",
    "\n",
    "# Inspect the 'residual' values to be saved on the forward pass\n",
    "# if you were to evaluate `jax.grad(f)(W1, W2, W3, x)`\n",
    "from jax.ad_checkpoint import print_saved_residuals\n",
    "jax.ad_checkpoint.print_saved_residuals(f, W1, W2, W3, x)"
   ],
   "outputs": [
    {
     "name": "stdout",
     "output_type": "stream",
     "text": [
      "f32[5,4] from the argument W1\n",
      "f32[6,5] from the argument W2\n",
      "f32[7,6] from the argument W3\n",
      "f32[4] from the argument x\n",
      "f32[5] output of sin from C:\\Users\\weiz828\\AppData\\Local\\Temp\\ipykernel_1836\\3629666396.py:6:9 (g)\n",
      "f32[5] output of cos from C:\\Users\\weiz828\\AppData\\Local\\Temp\\ipykernel_1836\\3629666396.py:6:9 (g)\n",
      "f32[6] output of sin from C:\\Users\\weiz828\\AppData\\Local\\Temp\\ipykernel_1836\\3629666396.py:6:9 (g)\n",
      "f32[6] output of cos from C:\\Users\\weiz828\\AppData\\Local\\Temp\\ipykernel_1836\\3629666396.py:6:9 (g)\n",
      "f32[7] output of cos from C:\\Users\\weiz828\\AppData\\Local\\Temp\\ipykernel_1836\\3629666396.py:6:9 (g)\n"
     ]
    }
   ],
   "execution_count": 1
  },
  {
   "metadata": {
    "ExecuteTime": {
     "end_time": "2025-05-20T18:01:25.160711Z",
     "start_time": "2025-05-20T18:01:25.129038Z"
    }
   },
   "cell_type": "code",
   "source": [
    "def f2(W1, W2, W3, x):\n",
    "  x = jax.checkpoint(g)(W1, x)\n",
    "  x = jax.checkpoint(g)(W2, x)\n",
    "  x = jax.checkpoint(g)(W3, x)\n",
    "  return x\n",
    "\n",
    "jax.ad_checkpoint.print_saved_residuals(f2, W1, W2, W3, x)"
   ],
   "id": "4e523dbe262908bc",
   "outputs": [
    {
     "name": "stdout",
     "output_type": "stream",
     "text": [
      "f32[5,4] from the argument W1\n",
      "f32[6,5] from the argument W2\n",
      "f32[7,6] from the argument W3\n",
      "f32[4] from the argument x\n",
      "f32[5] output of sin from C:\\Users\\weiz828\\AppData\\Local\\Temp\\ipykernel_1836\\3629666396.py:6:9 (g)\n",
      "f32[6] output of sin from C:\\Users\\weiz828\\AppData\\Local\\Temp\\ipykernel_1836\\3629666396.py:6:9 (g)\n"
     ]
    }
   ],
   "execution_count": 2
  },
  {
   "metadata": {
    "ExecuteTime": {
     "end_time": "2025-05-20T18:02:57.882404Z",
     "start_time": "2025-05-20T18:02:57.860588Z"
    }
   },
   "cell_type": "code",
   "source": [
    "f3 = jax.checkpoint(f, policy=jax.checkpoint_policies.dots_with_no_batch_dims_saveable)\n",
    "jax.ad_checkpoint.print_saved_residuals(f3, W1, W2, W3, x)"
   ],
   "id": "4a5b69ca7a437ff2",
   "outputs": [
    {
     "name": "stdout",
     "output_type": "stream",
     "text": [
      "f32[5,4] from the argument W1\n",
      "f32[6,5] from the argument W2\n",
      "f32[7,6] from the argument W3\n",
      "f32[4] from the argument x\n",
      "f32[5] output of reduce_precision from C:\\Users\\weiz828\\AppData\\Local\\Temp\\ipykernel_1836\\3629666396.py:5:6 (g)\n",
      "f32[6] output of reduce_precision from C:\\Users\\weiz828\\AppData\\Local\\Temp\\ipykernel_1836\\3629666396.py:5:6 (g)\n",
      "f32[7] output of reduce_precision from C:\\Users\\weiz828\\AppData\\Local\\Temp\\ipykernel_1836\\3629666396.py:5:6 (g)\n"
     ]
    }
   ],
   "execution_count": 3
  },
  {
   "metadata": {
    "ExecuteTime": {
     "end_time": "2025-05-20T18:21:27.450074Z",
     "start_time": "2025-05-20T18:21:27.235920Z"
    }
   },
   "cell_type": "code",
   "source": [
    "from jax.tree_util import tree_flatten, tree_unflatten\n",
    "\n",
    "from rich.console import Console\n",
    "from rich.table import Table\n",
    "import rich.text\n",
    "\n",
    "def print_fwd_bwd(f, *args, **kwargs) -> None:\n",
    "  args, in_tree = tree_flatten((args, kwargs))\n",
    "\n",
    "  def f_(*args):\n",
    "    args, kwargs = tree_unflatten(in_tree, args)\n",
    "    return f(*args, **kwargs)\n",
    "\n",
    "  fwd = jax.make_jaxpr(lambda *args: jax.vjp(f_, *args))(*args).jaxpr\n",
    "\n",
    "  y, f_vjp = jax.vjp(f_, *args)\n",
    "  res, in_tree = tree_flatten(f_vjp)\n",
    "\n",
    "  def g_(*args):\n",
    "    *res, y = args\n",
    "    f_vjp = tree_unflatten(in_tree, res)\n",
    "    return f_vjp(y)\n",
    "\n",
    "  bwd = jax.make_jaxpr(g_)(*res, y).jaxpr\n",
    "\n",
    "  table = Table(show_header=False, show_lines=True, padding=(1, 2, 0, 2), box=None)\n",
    "  table.add_row(\"[bold green]forward computation:\",\n",
    "                \"[bold green]backward computation:\")\n",
    "  table.add_row(rich.text.Text.from_ansi(str(fwd)),\n",
    "                rich.text.Text.from_ansi(str(bwd)))\n",
    "  console = Console(width=240, force_jupyter=True)\n",
    "  console.print(table)\n",
    "\n",
    "def _renderable_repr(self):\n",
    "  return self.html\n",
    "rich.jupyter.JupyterRenderable._repr_html_ = _renderable_repr"
   ],
   "id": "fe1d9e6b2f129aa1",
   "outputs": [],
   "execution_count": 4
  },
  {
   "metadata": {
    "ExecuteTime": {
     "end_time": "2025-05-20T18:21:36.307134Z",
     "start_time": "2025-05-20T18:21:36.172774Z"
    }
   },
   "cell_type": "code",
   "source": [
    "# Without using `jax.checkpoint`:\n",
    "print_fwd_bwd(f, W1, W2, W3, x)"
   ],
   "id": "3107aeb4c3de316",
   "outputs": [
    {
     "data": {
      "text/plain": [
       "                                                                                                                                                         \n",
       "  \u001B[1;32mforward computation:\u001B[0m                                         \u001B[1;32mbackward computation:\u001B[0m                                                                     \n",
       "                                                                                                                                                         \n",
       "  { \u001B[1;34mlambda \u001B[0m\u001B[39m; a\u001B[0m\u001B[35m:f32[5,4]\u001B[0m\u001B[39m b\u001B[0m\u001B[35m:f32[6,5]\u001B[0m\u001B[39m c\u001B[0m\u001B[35m:f32[7,6]\u001B[0m\u001B[39m d\u001B[0m\u001B[35m:f32[4]\u001B[0m\u001B[39m. \u001B[0m\u001B[1;34mlet\u001B[0m    { \u001B[1;34mlambda \u001B[0m\u001B[39m; a\u001B[0m\u001B[35m:f32[4]\u001B[0m\u001B[39m b\u001B[0m\u001B[35m:f32[5,4]\u001B[0m\u001B[39m c\u001B[0m\u001B[35m:f32[5]\u001B[0m\u001B[39m d\u001B[0m\u001B[35m:f32[5]\u001B[0m\u001B[39m e\u001B[0m\u001B[35m:f32[6,5]\u001B[0m\u001B[39m f\u001B[0m\u001B[35m:f32[6]\u001B[0m\u001B[39m g\u001B[0m\u001B[35m:f32[6]\u001B[0m\u001B[39m h\u001B[0m\u001B[35m:f32[7,6]\u001B[0m  \n",
       "  \u001B[1;34m    \u001B[0m\u001B[39me\u001B[0m\u001B[35m:f32[5]\u001B[0m\u001B[39m = dot_general[\u001B[0m                                  \u001B[39m    i\u001B[0m\u001B[35m:f32[7]\u001B[0m\u001B[39m j\u001B[0m\u001B[35m:f32[7]\u001B[0m\u001B[39m. \u001B[0m\u001B[1;34mlet\u001B[0m                                                                \n",
       "  \u001B[39m      dimension_numbers=(([1], [0]), ([], []))\u001B[0m               \u001B[1;34m    \u001B[0m\u001B[39mk\u001B[0m\u001B[35m:f32[7]\u001B[0m\u001B[39m = mul j i\u001B[0m                                                                    \n",
       "  \u001B[39m      preferred_element_type=float32\u001B[0m                         \u001B[39m    l\u001B[0m\u001B[35m:f32[6]\u001B[0m\u001B[39m = dot_general[\u001B[0m                                                               \n",
       "  \u001B[39m    ] a d\u001B[0m                                                    \u001B[39m      dimension_numbers=(([0], [0]), ([], []))\u001B[0m                                            \n",
       "  \u001B[39m    f\u001B[0m\u001B[35m:f32[5]\u001B[0m\u001B[39m = sin e\u001B[0m                                         \u001B[39m      preferred_element_type=float32\u001B[0m                                                      \n",
       "  \u001B[39m    g\u001B[0m\u001B[35m:f32[5]\u001B[0m\u001B[39m = cos e\u001B[0m                                         \u001B[39m    ] k h\u001B[0m                                                                                 \n",
       "  \u001B[39m    h\u001B[0m\u001B[35m:f32[6]\u001B[0m\u001B[39m = dot_general[\u001B[0m                                  \u001B[39m    m\u001B[0m\u001B[35m:f32[7,6]\u001B[0m\u001B[39m = dot_general[\u001B[0m                                                             \n",
       "  \u001B[39m      dimension_numbers=(([1], [0]), ([], []))\u001B[0m               \u001B[39m      dimension_numbers=(([], []), ([], []))\u001B[0m                                              \n",
       "  \u001B[39m      preferred_element_type=float32\u001B[0m                         \u001B[39m      preferred_element_type=float32\u001B[0m                                                      \n",
       "  \u001B[39m    ] b f\u001B[0m                                                    \u001B[39m    ] k g\u001B[0m                                                                                 \n",
       "  \u001B[39m    i\u001B[0m\u001B[35m:f32[6]\u001B[0m\u001B[39m = sin h\u001B[0m                                         \u001B[39m    n\u001B[0m\u001B[35m:f32[6]\u001B[0m\u001B[39m = mul l f\u001B[0m                                                                    \n",
       "  \u001B[39m    j\u001B[0m\u001B[35m:f32[6]\u001B[0m\u001B[39m = cos h\u001B[0m                                         \u001B[39m    o\u001B[0m\u001B[35m:f32[5]\u001B[0m\u001B[39m = dot_general[\u001B[0m                                                               \n",
       "  \u001B[39m    k\u001B[0m\u001B[35m:f32[7]\u001B[0m\u001B[39m = dot_general[\u001B[0m                                  \u001B[39m      dimension_numbers=(([0], [0]), ([], []))\u001B[0m                                            \n",
       "  \u001B[39m      dimension_numbers=(([1], [0]), ([], []))\u001B[0m               \u001B[39m      preferred_element_type=float32\u001B[0m                                                      \n",
       "  \u001B[39m      preferred_element_type=float32\u001B[0m                         \u001B[39m    ] n e\u001B[0m                                                                                 \n",
       "  \u001B[39m    ] c i\u001B[0m                                                    \u001B[39m    p\u001B[0m\u001B[35m:f32[6,5]\u001B[0m\u001B[39m = dot_general[\u001B[0m                                                             \n",
       "  \u001B[39m    l\u001B[0m\u001B[35m:f32[7]\u001B[0m\u001B[39m = sin k\u001B[0m                                         \u001B[39m      dimension_numbers=(([], []), ([], []))\u001B[0m                                              \n",
       "  \u001B[39m    m\u001B[0m\u001B[35m:f32[7]\u001B[0m\u001B[39m = cos k\u001B[0m                                         \u001B[39m      preferred_element_type=float32\u001B[0m                                                      \n",
       "  \u001B[39m  \u001B[0m\u001B[1;34min \u001B[0m\u001B[39m(l, d, a, g, f, b, j, i, c, m) }\u001B[0m                        \u001B[39m    ] n d\u001B[0m                                                                                 \n",
       "                                                               \u001B[39m    q\u001B[0m\u001B[35m:f32[5]\u001B[0m\u001B[39m = mul o c\u001B[0m                                                                    \n",
       "                                                               \u001B[39m    r\u001B[0m\u001B[35m:f32[4]\u001B[0m\u001B[39m = dot_general[\u001B[0m                                                               \n",
       "                                                               \u001B[39m      dimension_numbers=(([0], [0]), ([], []))\u001B[0m                                            \n",
       "                                                               \u001B[39m      preferred_element_type=float32\u001B[0m                                                      \n",
       "                                                               \u001B[39m    ] q b\u001B[0m                                                                                 \n",
       "                                                               \u001B[39m    s\u001B[0m\u001B[35m:f32[5,4]\u001B[0m\u001B[39m = dot_general[\u001B[0m                                                             \n",
       "                                                               \u001B[39m      dimension_numbers=(([], []), ([], []))\u001B[0m                                              \n",
       "                                                               \u001B[39m      preferred_element_type=float32\u001B[0m                                                      \n",
       "                                                               \u001B[39m    ] q a\u001B[0m                                                                                 \n",
       "                                                               \u001B[39m  \u001B[0m\u001B[1;34min \u001B[0m\u001B[39m(s, p, m, r) }\u001B[0m                                                                       \n"
      ],
      "text/html": [
       "<pre style=\"white-space:pre;overflow-x:auto;line-height:normal;font-family:Menlo,'DejaVu Sans Mono',consolas,'Courier New',monospace\">                                                                                                                                                         \n",
       "  <span style=\"color: #008000; text-decoration-color: #008000; font-weight: bold\">forward computation:</span>                                         <span style=\"color: #008000; text-decoration-color: #008000; font-weight: bold\">backward computation:</span>                                                                     \n",
       "                                                                                                                                                         \n",
       "  { <span style=\"color: #000080; text-decoration-color: #000080; font-weight: bold\">lambda </span><span style=\"color: #000000; text-decoration-color: #000000\">; a</span><span style=\"color: #800080; text-decoration-color: #800080\">:f32[5,4]</span><span style=\"color: #000000; text-decoration-color: #000000\"> b</span><span style=\"color: #800080; text-decoration-color: #800080\">:f32[6,5]</span><span style=\"color: #000000; text-decoration-color: #000000\"> c</span><span style=\"color: #800080; text-decoration-color: #800080\">:f32[7,6]</span><span style=\"color: #000000; text-decoration-color: #000000\"> d</span><span style=\"color: #800080; text-decoration-color: #800080\">:f32[4]</span><span style=\"color: #000000; text-decoration-color: #000000\">. </span><span style=\"color: #000080; text-decoration-color: #000080; font-weight: bold\">let</span>    { <span style=\"color: #000080; text-decoration-color: #000080; font-weight: bold\">lambda </span><span style=\"color: #000000; text-decoration-color: #000000\">; a</span><span style=\"color: #800080; text-decoration-color: #800080\">:f32[4]</span><span style=\"color: #000000; text-decoration-color: #000000\"> b</span><span style=\"color: #800080; text-decoration-color: #800080\">:f32[5,4]</span><span style=\"color: #000000; text-decoration-color: #000000\"> c</span><span style=\"color: #800080; text-decoration-color: #800080\">:f32[5]</span><span style=\"color: #000000; text-decoration-color: #000000\"> d</span><span style=\"color: #800080; text-decoration-color: #800080\">:f32[5]</span><span style=\"color: #000000; text-decoration-color: #000000\"> e</span><span style=\"color: #800080; text-decoration-color: #800080\">:f32[6,5]</span><span style=\"color: #000000; text-decoration-color: #000000\"> f</span><span style=\"color: #800080; text-decoration-color: #800080\">:f32[6]</span><span style=\"color: #000000; text-decoration-color: #000000\"> g</span><span style=\"color: #800080; text-decoration-color: #800080\">:f32[6]</span><span style=\"color: #000000; text-decoration-color: #000000\"> h</span><span style=\"color: #800080; text-decoration-color: #800080\">:f32[7,6]</span>  \n",
       "  <span style=\"color: #000080; text-decoration-color: #000080; font-weight: bold\">    </span><span style=\"color: #000000; text-decoration-color: #000000\">e</span><span style=\"color: #800080; text-decoration-color: #800080\">:f32[5]</span><span style=\"color: #000000; text-decoration-color: #000000\"> = dot_general[</span>                                  <span style=\"color: #000000; text-decoration-color: #000000\">    i</span><span style=\"color: #800080; text-decoration-color: #800080\">:f32[7]</span><span style=\"color: #000000; text-decoration-color: #000000\"> j</span><span style=\"color: #800080; text-decoration-color: #800080\">:f32[7]</span><span style=\"color: #000000; text-decoration-color: #000000\">. </span><span style=\"color: #000080; text-decoration-color: #000080; font-weight: bold\">let</span>                                                                \n",
       "  <span style=\"color: #000000; text-decoration-color: #000000\">      dimension_numbers=(([1], [0]), ([], []))</span>               <span style=\"color: #000080; text-decoration-color: #000080; font-weight: bold\">    </span><span style=\"color: #000000; text-decoration-color: #000000\">k</span><span style=\"color: #800080; text-decoration-color: #800080\">:f32[7]</span><span style=\"color: #000000; text-decoration-color: #000000\"> = mul j i</span>                                                                    \n",
       "  <span style=\"color: #000000; text-decoration-color: #000000\">      preferred_element_type=float32</span>                         <span style=\"color: #000000; text-decoration-color: #000000\">    l</span><span style=\"color: #800080; text-decoration-color: #800080\">:f32[6]</span><span style=\"color: #000000; text-decoration-color: #000000\"> = dot_general[</span>                                                               \n",
       "  <span style=\"color: #000000; text-decoration-color: #000000\">    ] a d</span>                                                    <span style=\"color: #000000; text-decoration-color: #000000\">      dimension_numbers=(([0], [0]), ([], []))</span>                                            \n",
       "  <span style=\"color: #000000; text-decoration-color: #000000\">    f</span><span style=\"color: #800080; text-decoration-color: #800080\">:f32[5]</span><span style=\"color: #000000; text-decoration-color: #000000\"> = sin e</span>                                         <span style=\"color: #000000; text-decoration-color: #000000\">      preferred_element_type=float32</span>                                                      \n",
       "  <span style=\"color: #000000; text-decoration-color: #000000\">    g</span><span style=\"color: #800080; text-decoration-color: #800080\">:f32[5]</span><span style=\"color: #000000; text-decoration-color: #000000\"> = cos e</span>                                         <span style=\"color: #000000; text-decoration-color: #000000\">    ] k h</span>                                                                                 \n",
       "  <span style=\"color: #000000; text-decoration-color: #000000\">    h</span><span style=\"color: #800080; text-decoration-color: #800080\">:f32[6]</span><span style=\"color: #000000; text-decoration-color: #000000\"> = dot_general[</span>                                  <span style=\"color: #000000; text-decoration-color: #000000\">    m</span><span style=\"color: #800080; text-decoration-color: #800080\">:f32[7,6]</span><span style=\"color: #000000; text-decoration-color: #000000\"> = dot_general[</span>                                                             \n",
       "  <span style=\"color: #000000; text-decoration-color: #000000\">      dimension_numbers=(([1], [0]), ([], []))</span>               <span style=\"color: #000000; text-decoration-color: #000000\">      dimension_numbers=(([], []), ([], []))</span>                                              \n",
       "  <span style=\"color: #000000; text-decoration-color: #000000\">      preferred_element_type=float32</span>                         <span style=\"color: #000000; text-decoration-color: #000000\">      preferred_element_type=float32</span>                                                      \n",
       "  <span style=\"color: #000000; text-decoration-color: #000000\">    ] b f</span>                                                    <span style=\"color: #000000; text-decoration-color: #000000\">    ] k g</span>                                                                                 \n",
       "  <span style=\"color: #000000; text-decoration-color: #000000\">    i</span><span style=\"color: #800080; text-decoration-color: #800080\">:f32[6]</span><span style=\"color: #000000; text-decoration-color: #000000\"> = sin h</span>                                         <span style=\"color: #000000; text-decoration-color: #000000\">    n</span><span style=\"color: #800080; text-decoration-color: #800080\">:f32[6]</span><span style=\"color: #000000; text-decoration-color: #000000\"> = mul l f</span>                                                                    \n",
       "  <span style=\"color: #000000; text-decoration-color: #000000\">    j</span><span style=\"color: #800080; text-decoration-color: #800080\">:f32[6]</span><span style=\"color: #000000; text-decoration-color: #000000\"> = cos h</span>                                         <span style=\"color: #000000; text-decoration-color: #000000\">    o</span><span style=\"color: #800080; text-decoration-color: #800080\">:f32[5]</span><span style=\"color: #000000; text-decoration-color: #000000\"> = dot_general[</span>                                                               \n",
       "  <span style=\"color: #000000; text-decoration-color: #000000\">    k</span><span style=\"color: #800080; text-decoration-color: #800080\">:f32[7]</span><span style=\"color: #000000; text-decoration-color: #000000\"> = dot_general[</span>                                  <span style=\"color: #000000; text-decoration-color: #000000\">      dimension_numbers=(([0], [0]), ([], []))</span>                                            \n",
       "  <span style=\"color: #000000; text-decoration-color: #000000\">      dimension_numbers=(([1], [0]), ([], []))</span>               <span style=\"color: #000000; text-decoration-color: #000000\">      preferred_element_type=float32</span>                                                      \n",
       "  <span style=\"color: #000000; text-decoration-color: #000000\">      preferred_element_type=float32</span>                         <span style=\"color: #000000; text-decoration-color: #000000\">    ] n e</span>                                                                                 \n",
       "  <span style=\"color: #000000; text-decoration-color: #000000\">    ] c i</span>                                                    <span style=\"color: #000000; text-decoration-color: #000000\">    p</span><span style=\"color: #800080; text-decoration-color: #800080\">:f32[6,5]</span><span style=\"color: #000000; text-decoration-color: #000000\"> = dot_general[</span>                                                             \n",
       "  <span style=\"color: #000000; text-decoration-color: #000000\">    l</span><span style=\"color: #800080; text-decoration-color: #800080\">:f32[7]</span><span style=\"color: #000000; text-decoration-color: #000000\"> = sin k</span>                                         <span style=\"color: #000000; text-decoration-color: #000000\">      dimension_numbers=(([], []), ([], []))</span>                                              \n",
       "  <span style=\"color: #000000; text-decoration-color: #000000\">    m</span><span style=\"color: #800080; text-decoration-color: #800080\">:f32[7]</span><span style=\"color: #000000; text-decoration-color: #000000\"> = cos k</span>                                         <span style=\"color: #000000; text-decoration-color: #000000\">      preferred_element_type=float32</span>                                                      \n",
       "  <span style=\"color: #000000; text-decoration-color: #000000\">  </span><span style=\"color: #000080; text-decoration-color: #000080; font-weight: bold\">in </span><span style=\"color: #000000; text-decoration-color: #000000\">(l, d, a, g, f, b, j, i, c, m) }</span>                        <span style=\"color: #000000; text-decoration-color: #000000\">    ] n d</span>                                                                                 \n",
       "                                                               <span style=\"color: #000000; text-decoration-color: #000000\">    q</span><span style=\"color: #800080; text-decoration-color: #800080\">:f32[5]</span><span style=\"color: #000000; text-decoration-color: #000000\"> = mul o c</span>                                                                    \n",
       "                                                               <span style=\"color: #000000; text-decoration-color: #000000\">    r</span><span style=\"color: #800080; text-decoration-color: #800080\">:f32[4]</span><span style=\"color: #000000; text-decoration-color: #000000\"> = dot_general[</span>                                                               \n",
       "                                                               <span style=\"color: #000000; text-decoration-color: #000000\">      dimension_numbers=(([0], [0]), ([], []))</span>                                            \n",
       "                                                               <span style=\"color: #000000; text-decoration-color: #000000\">      preferred_element_type=float32</span>                                                      \n",
       "                                                               <span style=\"color: #000000; text-decoration-color: #000000\">    ] q b</span>                                                                                 \n",
       "                                                               <span style=\"color: #000000; text-decoration-color: #000000\">    s</span><span style=\"color: #800080; text-decoration-color: #800080\">:f32[5,4]</span><span style=\"color: #000000; text-decoration-color: #000000\"> = dot_general[</span>                                                             \n",
       "                                                               <span style=\"color: #000000; text-decoration-color: #000000\">      dimension_numbers=(([], []), ([], []))</span>                                              \n",
       "                                                               <span style=\"color: #000000; text-decoration-color: #000000\">      preferred_element_type=float32</span>                                                      \n",
       "                                                               <span style=\"color: #000000; text-decoration-color: #000000\">    ] q a</span>                                                                                 \n",
       "                                                               <span style=\"color: #000000; text-decoration-color: #000000\">  </span><span style=\"color: #000080; text-decoration-color: #000080; font-weight: bold\">in </span><span style=\"color: #000000; text-decoration-color: #000000\">(s, p, m, r) }</span>                                                                       \n",
       "</pre>\n"
      ]
     },
     "metadata": {},
     "output_type": "display_data"
    }
   ],
   "execution_count": 5
  },
  {
   "metadata": {
    "ExecuteTime": {
     "end_time": "2025-05-20T18:21:51.042029Z",
     "start_time": "2025-05-20T18:21:50.472096Z"
    }
   },
   "cell_type": "code",
   "source": [
    "# Using `jax.checkpoint` with policy=jax.checkpoint_policies.dots_with_no_batch_dims_saveable:\n",
    "print_fwd_bwd(f3, W1, W2, W3, x)"
   ],
   "id": "67296f273a856e2c",
   "outputs": [
    {
     "data": {
      "text/plain": [
       "                                                                                                                                                                        \n",
       "  \u001B[1;32mforward computation:\u001B[0m                                                   \u001B[1;32mbackward computation:\u001B[0m                                                                          \n",
       "                                                                                                                                                                        \n",
       "  { \u001B[1;34mlambda \u001B[0m\u001B[39m; a\u001B[0m\u001B[35m:f32[5,4]\u001B[0m\u001B[39m b\u001B[0m\u001B[35m:f32[6,5]\u001B[0m\u001B[39m c\u001B[0m\u001B[35m:f32[7,6]\u001B[0m\u001B[39m d\u001B[0m\u001B[35m:f32[4]\u001B[0m\u001B[39m. \u001B[0m\u001B[1;34mlet\u001B[0m              { \u001B[1;34mlambda \u001B[0m\u001B[39m; a\u001B[0m\u001B[35m:f32[5]\u001B[0m\u001B[39m b\u001B[0m\u001B[35m:f32[6]\u001B[0m\u001B[39m c\u001B[0m\u001B[35m:f32[7]\u001B[0m\u001B[39m d\u001B[0m\u001B[35m:f32[5,4]\u001B[0m\u001B[39m e\u001B[0m\u001B[35m:f32[6,5]\u001B[0m\u001B[39m f\u001B[0m\u001B[35m:f32[7,6]\u001B[0m\u001B[39m g\u001B[0m\u001B[35m:f32[4]\u001B[0m\u001B[39m h\u001B[0m\u001B[35m:f32[7]\u001B[0m\u001B[39m. \u001B[0m\u001B[1;34mlet\u001B[0m  \n",
       "  \u001B[1;34m    \u001B[0m\u001B[39me\u001B[0m\u001B[35m:f32[5]\u001B[0m\u001B[39m = dot_general[\u001B[0m                                            \u001B[1;34m    \u001B[0m\u001B[39mi\u001B[0m\u001B[35m:f32[5,4]\u001B[0m\u001B[39m j\u001B[0m\u001B[35m:f32[6,5]\u001B[0m\u001B[39m k\u001B[0m\u001B[35m:f32[7,6]\u001B[0m\u001B[39m l\u001B[0m\u001B[35m:f32[4]\u001B[0m\u001B[39m = remat2[\u001B[0m                                        \n",
       "  \u001B[39m      dimension_numbers=(([1], [0]), ([], []))\u001B[0m                         \u001B[39m      differentiated=True\u001B[0m                                                                      \n",
       "  \u001B[39m      preferred_element_type=float32\u001B[0m                                   \u001B[39m      jaxpr={ \u001B[0m\u001B[1;34mlambda \u001B[0m\u001B[39m; m\u001B[0m\u001B[35m:f32[5]\u001B[0m\u001B[39m n\u001B[0m\u001B[35m:f32[6]\u001B[0m\u001B[39m o\u001B[0m\u001B[35m:f32[7]\u001B[0m\u001B[39m p\u001B[0m\u001B[35m:f32[5,4]\u001B[0m\u001B[39m q\u001B[0m\u001B[35m:f32[6,5]\u001B[0m\u001B[39m r\u001B[0m\u001B[35m:f32[7,6]\u001B[0m             \n",
       "  \u001B[39m    ] a d\u001B[0m                                                              \u001B[39m          s\u001B[0m\u001B[35m:f32[4]\u001B[0m\u001B[39m t\u001B[0m\u001B[35m:f32[7]\u001B[0m\u001B[39m. \u001B[0m\u001B[1;34mlet\u001B[0m                                                               \n",
       "  \u001B[39m    f\u001B[0m\u001B[35m:f32[5]\u001B[0m\u001B[39m = reduce_precision[exponent_bits=8 mantissa_bits=23] e\u001B[0m    \u001B[1;34m          \u001B[0m\u001B[39mu\u001B[0m\u001B[35m:f32[5]\u001B[0m\u001B[39m = sin m\u001B[0m                                                                     \n",
       "  \u001B[39m    g\u001B[0m\u001B[35m:f32[5]\u001B[0m\u001B[39m = sin f\u001B[0m                                                   \u001B[39m          v\u001B[0m\u001B[35m:f32[5]\u001B[0m\u001B[39m = cos m\u001B[0m                                                                     \n",
       "  \u001B[39m    h\u001B[0m\u001B[35m:f32[6]\u001B[0m\u001B[39m = dot_general[\u001B[0m                                            \u001B[39m          w\u001B[0m\u001B[35m:f32[6]\u001B[0m\u001B[39m = sin n\u001B[0m                                                                     \n",
       "  \u001B[39m      dimension_numbers=(([1], [0]), ([], []))\u001B[0m                         \u001B[39m          x\u001B[0m\u001B[35m:f32[6]\u001B[0m\u001B[39m = cos n\u001B[0m                                                                     \n",
       "  \u001B[39m      preferred_element_type=float32\u001B[0m                                   \u001B[39m          y\u001B[0m\u001B[35m:f32[7]\u001B[0m\u001B[39m = cos o\u001B[0m                                                                     \n",
       "  \u001B[39m    ] b g\u001B[0m                                                              \u001B[39m          z\u001B[0m\u001B[35m:f32[7]\u001B[0m\u001B[39m = mul t y\u001B[0m                                                                   \n",
       "  \u001B[39m    i\u001B[0m\u001B[35m:f32[6]\u001B[0m\u001B[39m = reduce_precision[exponent_bits=8 mantissa_bits=23] h\u001B[0m    \u001B[39m          ba\u001B[0m\u001B[35m:f32[6]\u001B[0m\u001B[39m = dot_general[\u001B[0m                                                             \n",
       "  \u001B[39m    j\u001B[0m\u001B[35m:f32[6]\u001B[0m\u001B[39m = sin i\u001B[0m                                                   \u001B[39m            dimension_numbers=(([0], [0]), ([], []))\u001B[0m                                           \n",
       "  \u001B[39m    k\u001B[0m\u001B[35m:f32[7]\u001B[0m\u001B[39m = dot_general[\u001B[0m                                            \u001B[39m            preferred_element_type=float32\u001B[0m                                                     \n",
       "  \u001B[39m      dimension_numbers=(([1], [0]), ([], []))\u001B[0m                         \u001B[39m          ] z r\u001B[0m                                                                                \n",
       "  \u001B[39m      preferred_element_type=float32\u001B[0m                                   \u001B[39m          bb\u001B[0m\u001B[35m:f32[6]\u001B[0m\u001B[39m = mul ba x\u001B[0m                                                                 \n",
       "  \u001B[39m    ] c j\u001B[0m                                                              \u001B[39m          bc\u001B[0m\u001B[35m:f32[5]\u001B[0m\u001B[39m = dot_general[\u001B[0m                                                             \n",
       "  \u001B[39m    l\u001B[0m\u001B[35m:f32[7]\u001B[0m\u001B[39m = reduce_precision[exponent_bits=8 mantissa_bits=23] k\u001B[0m    \u001B[39m            dimension_numbers=(([0], [0]), ([], []))\u001B[0m                                           \n",
       "  \u001B[39m    m\u001B[0m\u001B[35m:f32[7]\u001B[0m\u001B[39m = sin l\u001B[0m                                                   \u001B[39m            preferred_element_type=float32\u001B[0m                                                     \n",
       "  \u001B[39m  \u001B[0m\u001B[1;34min \u001B[0m\u001B[39m(m, f, i, l, a, b, c, d) }\u001B[0m                                        \u001B[39m          ] bb q\u001B[0m                                                                               \n",
       "                                                                         \u001B[39m          bd\u001B[0m\u001B[35m:f32[5]\u001B[0m\u001B[39m = mul bc v\u001B[0m                                                                 \n",
       "                                                                         \u001B[39m          be\u001B[0m\u001B[35m:f32[4]\u001B[0m\u001B[39m = dot_general[\u001B[0m                                                             \n",
       "                                                                         \u001B[39m            dimension_numbers=(([0], [0]), ([], []))\u001B[0m                                           \n",
       "                                                                         \u001B[39m            preferred_element_type=float32\u001B[0m                                                     \n",
       "                                                                         \u001B[39m          ] bd p\u001B[0m                                                                               \n",
       "                                                                         \u001B[39m          bf\u001B[0m\u001B[35m:f32[5,4]\u001B[0m\u001B[39m = dot_general[\u001B[0m                                                           \n",
       "                                                                         \u001B[39m            dimension_numbers=(([], []), ([], []))\u001B[0m                                             \n",
       "                                                                         \u001B[39m            preferred_element_type=float32\u001B[0m                                                     \n",
       "                                                                         \u001B[39m          ] bd s\u001B[0m                                                                               \n",
       "                                                                         \u001B[39m          bg\u001B[0m\u001B[35m:f32[6,5]\u001B[0m\u001B[39m = dot_general[\u001B[0m                                                           \n",
       "                                                                         \u001B[39m            dimension_numbers=(([], []), ([], []))\u001B[0m                                             \n",
       "                                                                         \u001B[39m            preferred_element_type=float32\u001B[0m                                                     \n",
       "                                                                         \u001B[39m          ] bb u\u001B[0m                                                                               \n",
       "                                                                         \u001B[39m          bh\u001B[0m\u001B[35m:f32[7,6]\u001B[0m\u001B[39m = dot_general[\u001B[0m                                                           \n",
       "                                                                         \u001B[39m            dimension_numbers=(([], []), ([], []))\u001B[0m                                             \n",
       "                                                                         \u001B[39m            preferred_element_type=float32\u001B[0m                                                     \n",
       "                                                                         \u001B[39m          ] z w\u001B[0m                                                                                \n",
       "                                                                         \u001B[39m        \u001B[0m\u001B[1;34min \u001B[0m\u001B[39m(bf, bg, bh, be) }\u001B[0m                                                                  \n",
       "                                                                         \u001B[39m      policy=<function dots_with_no_batch_dims_saveable at 0x000001AFEA7800E0>\u001B[0m                 \n",
       "                                                                         \u001B[39m      prevent_cse=True\u001B[0m                                                                         \n",
       "                                                                         \u001B[39m    ] a b c d e f g h\u001B[0m                                                                          \n",
       "                                                                         \u001B[39m  \u001B[0m\u001B[1;34min \u001B[0m\u001B[39m(i, j, k, l) }\u001B[0m                                                                            \n"
      ],
      "text/html": [
       "<pre style=\"white-space:pre;overflow-x:auto;line-height:normal;font-family:Menlo,'DejaVu Sans Mono',consolas,'Courier New',monospace\">                                                                                                                                                                        \n",
       "  <span style=\"color: #008000; text-decoration-color: #008000; font-weight: bold\">forward computation:</span>                                                   <span style=\"color: #008000; text-decoration-color: #008000; font-weight: bold\">backward computation:</span>                                                                          \n",
       "                                                                                                                                                                        \n",
       "  { <span style=\"color: #000080; text-decoration-color: #000080; font-weight: bold\">lambda </span><span style=\"color: #000000; text-decoration-color: #000000\">; a</span><span style=\"color: #800080; text-decoration-color: #800080\">:f32[5,4]</span><span style=\"color: #000000; text-decoration-color: #000000\"> b</span><span style=\"color: #800080; text-decoration-color: #800080\">:f32[6,5]</span><span style=\"color: #000000; text-decoration-color: #000000\"> c</span><span style=\"color: #800080; text-decoration-color: #800080\">:f32[7,6]</span><span style=\"color: #000000; text-decoration-color: #000000\"> d</span><span style=\"color: #800080; text-decoration-color: #800080\">:f32[4]</span><span style=\"color: #000000; text-decoration-color: #000000\">. </span><span style=\"color: #000080; text-decoration-color: #000080; font-weight: bold\">let</span>              { <span style=\"color: #000080; text-decoration-color: #000080; font-weight: bold\">lambda </span><span style=\"color: #000000; text-decoration-color: #000000\">; a</span><span style=\"color: #800080; text-decoration-color: #800080\">:f32[5]</span><span style=\"color: #000000; text-decoration-color: #000000\"> b</span><span style=\"color: #800080; text-decoration-color: #800080\">:f32[6]</span><span style=\"color: #000000; text-decoration-color: #000000\"> c</span><span style=\"color: #800080; text-decoration-color: #800080\">:f32[7]</span><span style=\"color: #000000; text-decoration-color: #000000\"> d</span><span style=\"color: #800080; text-decoration-color: #800080\">:f32[5,4]</span><span style=\"color: #000000; text-decoration-color: #000000\"> e</span><span style=\"color: #800080; text-decoration-color: #800080\">:f32[6,5]</span><span style=\"color: #000000; text-decoration-color: #000000\"> f</span><span style=\"color: #800080; text-decoration-color: #800080\">:f32[7,6]</span><span style=\"color: #000000; text-decoration-color: #000000\"> g</span><span style=\"color: #800080; text-decoration-color: #800080\">:f32[4]</span><span style=\"color: #000000; text-decoration-color: #000000\"> h</span><span style=\"color: #800080; text-decoration-color: #800080\">:f32[7]</span><span style=\"color: #000000; text-decoration-color: #000000\">. </span><span style=\"color: #000080; text-decoration-color: #000080; font-weight: bold\">let</span>  \n",
       "  <span style=\"color: #000080; text-decoration-color: #000080; font-weight: bold\">    </span><span style=\"color: #000000; text-decoration-color: #000000\">e</span><span style=\"color: #800080; text-decoration-color: #800080\">:f32[5]</span><span style=\"color: #000000; text-decoration-color: #000000\"> = dot_general[</span>                                            <span style=\"color: #000080; text-decoration-color: #000080; font-weight: bold\">    </span><span style=\"color: #000000; text-decoration-color: #000000\">i</span><span style=\"color: #800080; text-decoration-color: #800080\">:f32[5,4]</span><span style=\"color: #000000; text-decoration-color: #000000\"> j</span><span style=\"color: #800080; text-decoration-color: #800080\">:f32[6,5]</span><span style=\"color: #000000; text-decoration-color: #000000\"> k</span><span style=\"color: #800080; text-decoration-color: #800080\">:f32[7,6]</span><span style=\"color: #000000; text-decoration-color: #000000\"> l</span><span style=\"color: #800080; text-decoration-color: #800080\">:f32[4]</span><span style=\"color: #000000; text-decoration-color: #000000\"> = remat2[</span>                                        \n",
       "  <span style=\"color: #000000; text-decoration-color: #000000\">      dimension_numbers=(([1], [0]), ([], []))</span>                         <span style=\"color: #000000; text-decoration-color: #000000\">      differentiated=True</span>                                                                      \n",
       "  <span style=\"color: #000000; text-decoration-color: #000000\">      preferred_element_type=float32</span>                                   <span style=\"color: #000000; text-decoration-color: #000000\">      jaxpr={ </span><span style=\"color: #000080; text-decoration-color: #000080; font-weight: bold\">lambda </span><span style=\"color: #000000; text-decoration-color: #000000\">; m</span><span style=\"color: #800080; text-decoration-color: #800080\">:f32[5]</span><span style=\"color: #000000; text-decoration-color: #000000\"> n</span><span style=\"color: #800080; text-decoration-color: #800080\">:f32[6]</span><span style=\"color: #000000; text-decoration-color: #000000\"> o</span><span style=\"color: #800080; text-decoration-color: #800080\">:f32[7]</span><span style=\"color: #000000; text-decoration-color: #000000\"> p</span><span style=\"color: #800080; text-decoration-color: #800080\">:f32[5,4]</span><span style=\"color: #000000; text-decoration-color: #000000\"> q</span><span style=\"color: #800080; text-decoration-color: #800080\">:f32[6,5]</span><span style=\"color: #000000; text-decoration-color: #000000\"> r</span><span style=\"color: #800080; text-decoration-color: #800080\">:f32[7,6]</span>             \n",
       "  <span style=\"color: #000000; text-decoration-color: #000000\">    ] a d</span>                                                              <span style=\"color: #000000; text-decoration-color: #000000\">          s</span><span style=\"color: #800080; text-decoration-color: #800080\">:f32[4]</span><span style=\"color: #000000; text-decoration-color: #000000\"> t</span><span style=\"color: #800080; text-decoration-color: #800080\">:f32[7]</span><span style=\"color: #000000; text-decoration-color: #000000\">. </span><span style=\"color: #000080; text-decoration-color: #000080; font-weight: bold\">let</span>                                                               \n",
       "  <span style=\"color: #000000; text-decoration-color: #000000\">    f</span><span style=\"color: #800080; text-decoration-color: #800080\">:f32[5]</span><span style=\"color: #000000; text-decoration-color: #000000\"> = reduce_precision[exponent_bits=8 mantissa_bits=23] e</span>    <span style=\"color: #000080; text-decoration-color: #000080; font-weight: bold\">          </span><span style=\"color: #000000; text-decoration-color: #000000\">u</span><span style=\"color: #800080; text-decoration-color: #800080\">:f32[5]</span><span style=\"color: #000000; text-decoration-color: #000000\"> = sin m</span>                                                                     \n",
       "  <span style=\"color: #000000; text-decoration-color: #000000\">    g</span><span style=\"color: #800080; text-decoration-color: #800080\">:f32[5]</span><span style=\"color: #000000; text-decoration-color: #000000\"> = sin f</span>                                                   <span style=\"color: #000000; text-decoration-color: #000000\">          v</span><span style=\"color: #800080; text-decoration-color: #800080\">:f32[5]</span><span style=\"color: #000000; text-decoration-color: #000000\"> = cos m</span>                                                                     \n",
       "  <span style=\"color: #000000; text-decoration-color: #000000\">    h</span><span style=\"color: #800080; text-decoration-color: #800080\">:f32[6]</span><span style=\"color: #000000; text-decoration-color: #000000\"> = dot_general[</span>                                            <span style=\"color: #000000; text-decoration-color: #000000\">          w</span><span style=\"color: #800080; text-decoration-color: #800080\">:f32[6]</span><span style=\"color: #000000; text-decoration-color: #000000\"> = sin n</span>                                                                     \n",
       "  <span style=\"color: #000000; text-decoration-color: #000000\">      dimension_numbers=(([1], [0]), ([], []))</span>                         <span style=\"color: #000000; text-decoration-color: #000000\">          x</span><span style=\"color: #800080; text-decoration-color: #800080\">:f32[6]</span><span style=\"color: #000000; text-decoration-color: #000000\"> = cos n</span>                                                                     \n",
       "  <span style=\"color: #000000; text-decoration-color: #000000\">      preferred_element_type=float32</span>                                   <span style=\"color: #000000; text-decoration-color: #000000\">          y</span><span style=\"color: #800080; text-decoration-color: #800080\">:f32[7]</span><span style=\"color: #000000; text-decoration-color: #000000\"> = cos o</span>                                                                     \n",
       "  <span style=\"color: #000000; text-decoration-color: #000000\">    ] b g</span>                                                              <span style=\"color: #000000; text-decoration-color: #000000\">          z</span><span style=\"color: #800080; text-decoration-color: #800080\">:f32[7]</span><span style=\"color: #000000; text-decoration-color: #000000\"> = mul t y</span>                                                                   \n",
       "  <span style=\"color: #000000; text-decoration-color: #000000\">    i</span><span style=\"color: #800080; text-decoration-color: #800080\">:f32[6]</span><span style=\"color: #000000; text-decoration-color: #000000\"> = reduce_precision[exponent_bits=8 mantissa_bits=23] h</span>    <span style=\"color: #000000; text-decoration-color: #000000\">          ba</span><span style=\"color: #800080; text-decoration-color: #800080\">:f32[6]</span><span style=\"color: #000000; text-decoration-color: #000000\"> = dot_general[</span>                                                             \n",
       "  <span style=\"color: #000000; text-decoration-color: #000000\">    j</span><span style=\"color: #800080; text-decoration-color: #800080\">:f32[6]</span><span style=\"color: #000000; text-decoration-color: #000000\"> = sin i</span>                                                   <span style=\"color: #000000; text-decoration-color: #000000\">            dimension_numbers=(([0], [0]), ([], []))</span>                                           \n",
       "  <span style=\"color: #000000; text-decoration-color: #000000\">    k</span><span style=\"color: #800080; text-decoration-color: #800080\">:f32[7]</span><span style=\"color: #000000; text-decoration-color: #000000\"> = dot_general[</span>                                            <span style=\"color: #000000; text-decoration-color: #000000\">            preferred_element_type=float32</span>                                                     \n",
       "  <span style=\"color: #000000; text-decoration-color: #000000\">      dimension_numbers=(([1], [0]), ([], []))</span>                         <span style=\"color: #000000; text-decoration-color: #000000\">          ] z r</span>                                                                                \n",
       "  <span style=\"color: #000000; text-decoration-color: #000000\">      preferred_element_type=float32</span>                                   <span style=\"color: #000000; text-decoration-color: #000000\">          bb</span><span style=\"color: #800080; text-decoration-color: #800080\">:f32[6]</span><span style=\"color: #000000; text-decoration-color: #000000\"> = mul ba x</span>                                                                 \n",
       "  <span style=\"color: #000000; text-decoration-color: #000000\">    ] c j</span>                                                              <span style=\"color: #000000; text-decoration-color: #000000\">          bc</span><span style=\"color: #800080; text-decoration-color: #800080\">:f32[5]</span><span style=\"color: #000000; text-decoration-color: #000000\"> = dot_general[</span>                                                             \n",
       "  <span style=\"color: #000000; text-decoration-color: #000000\">    l</span><span style=\"color: #800080; text-decoration-color: #800080\">:f32[7]</span><span style=\"color: #000000; text-decoration-color: #000000\"> = reduce_precision[exponent_bits=8 mantissa_bits=23] k</span>    <span style=\"color: #000000; text-decoration-color: #000000\">            dimension_numbers=(([0], [0]), ([], []))</span>                                           \n",
       "  <span style=\"color: #000000; text-decoration-color: #000000\">    m</span><span style=\"color: #800080; text-decoration-color: #800080\">:f32[7]</span><span style=\"color: #000000; text-decoration-color: #000000\"> = sin l</span>                                                   <span style=\"color: #000000; text-decoration-color: #000000\">            preferred_element_type=float32</span>                                                     \n",
       "  <span style=\"color: #000000; text-decoration-color: #000000\">  </span><span style=\"color: #000080; text-decoration-color: #000080; font-weight: bold\">in </span><span style=\"color: #000000; text-decoration-color: #000000\">(m, f, i, l, a, b, c, d) }</span>                                        <span style=\"color: #000000; text-decoration-color: #000000\">          ] bb q</span>                                                                               \n",
       "                                                                         <span style=\"color: #000000; text-decoration-color: #000000\">          bd</span><span style=\"color: #800080; text-decoration-color: #800080\">:f32[5]</span><span style=\"color: #000000; text-decoration-color: #000000\"> = mul bc v</span>                                                                 \n",
       "                                                                         <span style=\"color: #000000; text-decoration-color: #000000\">          be</span><span style=\"color: #800080; text-decoration-color: #800080\">:f32[4]</span><span style=\"color: #000000; text-decoration-color: #000000\"> = dot_general[</span>                                                             \n",
       "                                                                         <span style=\"color: #000000; text-decoration-color: #000000\">            dimension_numbers=(([0], [0]), ([], []))</span>                                           \n",
       "                                                                         <span style=\"color: #000000; text-decoration-color: #000000\">            preferred_element_type=float32</span>                                                     \n",
       "                                                                         <span style=\"color: #000000; text-decoration-color: #000000\">          ] bd p</span>                                                                               \n",
       "                                                                         <span style=\"color: #000000; text-decoration-color: #000000\">          bf</span><span style=\"color: #800080; text-decoration-color: #800080\">:f32[5,4]</span><span style=\"color: #000000; text-decoration-color: #000000\"> = dot_general[</span>                                                           \n",
       "                                                                         <span style=\"color: #000000; text-decoration-color: #000000\">            dimension_numbers=(([], []), ([], []))</span>                                             \n",
       "                                                                         <span style=\"color: #000000; text-decoration-color: #000000\">            preferred_element_type=float32</span>                                                     \n",
       "                                                                         <span style=\"color: #000000; text-decoration-color: #000000\">          ] bd s</span>                                                                               \n",
       "                                                                         <span style=\"color: #000000; text-decoration-color: #000000\">          bg</span><span style=\"color: #800080; text-decoration-color: #800080\">:f32[6,5]</span><span style=\"color: #000000; text-decoration-color: #000000\"> = dot_general[</span>                                                           \n",
       "                                                                         <span style=\"color: #000000; text-decoration-color: #000000\">            dimension_numbers=(([], []), ([], []))</span>                                             \n",
       "                                                                         <span style=\"color: #000000; text-decoration-color: #000000\">            preferred_element_type=float32</span>                                                     \n",
       "                                                                         <span style=\"color: #000000; text-decoration-color: #000000\">          ] bb u</span>                                                                               \n",
       "                                                                         <span style=\"color: #000000; text-decoration-color: #000000\">          bh</span><span style=\"color: #800080; text-decoration-color: #800080\">:f32[7,6]</span><span style=\"color: #000000; text-decoration-color: #000000\"> = dot_general[</span>                                                           \n",
       "                                                                         <span style=\"color: #000000; text-decoration-color: #000000\">            dimension_numbers=(([], []), ([], []))</span>                                             \n",
       "                                                                         <span style=\"color: #000000; text-decoration-color: #000000\">            preferred_element_type=float32</span>                                                     \n",
       "                                                                         <span style=\"color: #000000; text-decoration-color: #000000\">          ] z w</span>                                                                                \n",
       "                                                                         <span style=\"color: #000000; text-decoration-color: #000000\">        </span><span style=\"color: #000080; text-decoration-color: #000080; font-weight: bold\">in </span><span style=\"color: #000000; text-decoration-color: #000000\">(bf, bg, bh, be) }</span>                                                                  \n",
       "                                                                         <span style=\"color: #000000; text-decoration-color: #000000\">      policy=&lt;function dots_with_no_batch_dims_saveable at 0x000001AFEA7800E0&gt;</span>                 \n",
       "                                                                         <span style=\"color: #000000; text-decoration-color: #000000\">      prevent_cse=True</span>                                                                         \n",
       "                                                                         <span style=\"color: #000000; text-decoration-color: #000000\">    ] a b c d e f g h</span>                                                                          \n",
       "                                                                         <span style=\"color: #000000; text-decoration-color: #000000\">  </span><span style=\"color: #000080; text-decoration-color: #000080; font-weight: bold\">in </span><span style=\"color: #000000; text-decoration-color: #000000\">(i, j, k, l) }</span>                                                                            \n",
       "</pre>\n"
      ]
     },
     "metadata": {},
     "output_type": "display_data"
    }
   ],
   "execution_count": 6
  }
 ],
 "metadata": {
  "kernelspec": {
   "display_name": "Python 3",
   "language": "python",
   "name": "python3"
  },
  "language_info": {
   "codemirror_mode": {
    "name": "ipython",
    "version": 2
   },
   "file_extension": ".py",
   "mimetype": "text/x-python",
   "name": "python",
   "nbconvert_exporter": "python",
   "pygments_lexer": "ipython2",
   "version": "2.7.6"
  }
 },
 "nbformat": 4,
 "nbformat_minor": 5
}
