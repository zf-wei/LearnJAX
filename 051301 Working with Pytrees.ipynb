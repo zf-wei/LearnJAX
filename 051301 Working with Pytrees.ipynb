{
 "cells": [
  {
   "metadata": {
    "ExecuteTime": {
     "end_time": "2025-05-13T19:45:02.480682Z",
     "start_time": "2025-05-13T19:45:01.993145Z"
    }
   },
   "cell_type": "code",
   "source": [
    "import jax\n",
    "import jax.numpy as jnp\n",
    "import numpy as np"
   ],
   "id": "4065e11cf1a08702",
   "outputs": [],
   "execution_count": 1
  },
  {
   "metadata": {},
   "cell_type": "markdown",
   "source": "# pytree 中的常用函数",
   "id": "897a53cecd248193"
  },
  {
   "metadata": {
    "ExecuteTime": {
     "end_time": "2025-05-13T19:45:05.563144Z",
     "start_time": "2025-05-13T19:45:05.555962Z"
    }
   },
   "cell_type": "code",
   "source": [
    "# map 函数\n",
    "\n",
    "# 我不太会写 lambda 函数，先快速上手一个\n",
    "double = lambda x: 2*x\n",
    "print(f\"这是lambda语句的一个快速例子：{double(5)}\")\n",
    "\n",
    "list_of_lists = [\n",
    "    [1, 2, 3],\n",
    "    [1, 2],\n",
    "    [1, 2, 3, 4]\n",
    "]\n",
    "\n",
    "print(jax.tree.map(lambda x: double(x), list_of_lists))\n",
    "#或者不用我的double函数，效果是一样的：\n",
    "print(jax.tree.map(lambda x: 2*x, list_of_lists))"
   ],
   "id": "initial_id",
   "outputs": [
    {
     "name": "stdout",
     "output_type": "stream",
     "text": [
      "这是lambda语句的一个快速例子：10\n",
      "[[2, 4, 6], [2, 4], [2, 4, 6, 8]]\n",
      "[[2, 4, 6], [2, 4], [2, 4, 6, 8]]\n"
     ]
    }
   ],
   "execution_count": 2
  },
  {
   "metadata": {
    "ExecuteTime": {
     "end_time": "2025-05-13T19:45:15.494191Z",
     "start_time": "2025-05-13T19:45:15.485480Z"
    }
   },
   "cell_type": "code",
   "source": [
    "# 我对 zip 的用法不熟，首先快速上手一个\n",
    "list1 = ['a', 'b', 'c', 'd']\n",
    "list2 = [1, 2, 3, 4]\n",
    "\n",
    "# zip 函数的作用是将两个列表中的元素一一对应地组合成一个元组，返回一个迭代器\n",
    "for x in zip(list1, list2):\n",
    "    print(x)\n",
    "\n",
    "# zip 函数的返回值是一个迭代器，所以我们可以将其转换为列表\n",
    "list_of_tuples = list(zip(list1, list2))\n",
    "print(list_of_tuples)\n",
    "\n",
    "# zip 函数的返回值是一个迭代器，所以我们也可以将其转换为字典\n",
    "dict_of_tuples = dict(zip(list1, list2))\n",
    "print(dict_of_tuples)\n",
    "\n",
    "# zip 函数的返回值是一个迭代器，所以我们也可以将其转换为集合\n",
    "set_of_tuples = set(zip(list1, list2))\n",
    "print(set_of_tuples)\n",
    "\n",
    "\n",
    "# 以及创建一个 dict 的两种方法\n",
    "## 使用 dict() 创建字典\n",
    "my_dict = dict(a=1, b=2, c=3)\n",
    "## 使用大括号 {} 创建字典\n",
    "my_dict_alt = {'a': 1, 'b': 2, 'c': 3}\n",
    "\n",
    "print(my_dict == my_dict_alt)  # 输出: True"
   ],
   "id": "fe7fd46438a1d2c7",
   "outputs": [
    {
     "name": "stdout",
     "output_type": "stream",
     "text": [
      "('a', 1)\n",
      "('b', 2)\n",
      "('c', 3)\n",
      "('d', 4)\n",
      "[('a', 1), ('b', 2), ('c', 3), ('d', 4)]\n",
      "{'a': 1, 'b': 2, 'c': 3, 'd': 4}\n",
      "{('a', 1), ('d', 4), ('c', 3), ('b', 2)}\n",
      "True\n"
     ]
    }
   ],
   "execution_count": 3
  },
  {
   "metadata": {
    "ExecuteTime": {
     "end_time": "2025-05-13T19:45:19.172827Z",
     "start_time": "2025-05-13T19:45:19.126775Z"
    }
   },
   "cell_type": "code",
   "source": [
    "# 初始化神经网络的参数并使用 jax.tree.map 打印参数的类型和形状\n",
    "\n",
    "def init_mlp_params(layer_widths):\n",
    "  params = []\n",
    "  for n_in, n_out in zip(layer_widths[:-1], layer_widths[1:]):\n",
    "    params.append(\n",
    "        dict(weights=np.random.normal(size=(n_in, n_out)) * np.sqrt(2/n_in),\n",
    "             biases=np.ones(shape=(n_out,))\n",
    "            )\n",
    "    )\n",
    "  return params\n",
    "\n",
    "params = init_mlp_params([1, 128, 128, 1])\n",
    "\n",
    "jax.tree.map(lambda x: (type(x),x.shape), params)"
   ],
   "id": "b4c7bb7820e406af",
   "outputs": [
    {
     "data": {
      "text/plain": [
       "[{'biases': (numpy.ndarray, (128,)), 'weights': (numpy.ndarray, (1, 128))},\n",
       " {'biases': (numpy.ndarray, (128,)), 'weights': (numpy.ndarray, (128, 128))},\n",
       " {'biases': (numpy.ndarray, (1,)), 'weights': (numpy.ndarray, (128, 1))}]"
      ]
     },
     "execution_count": 4,
     "metadata": {},
     "output_type": "execute_result"
    }
   ],
   "execution_count": 4
  },
  {
   "metadata": {
    "ExecuteTime": {
     "end_time": "2025-05-13T19:45:26.808872Z",
     "start_time": "2025-05-13T19:45:26.797435Z"
    }
   },
   "cell_type": "code",
   "source": [
    "# 现在我们可以写出 MLP 的前向传播函数、损失函数、以及参数更新方法\n",
    "\n",
    "# Define the forward pass.\n",
    "def forward(params, x):\n",
    "  *hidden, last = params\n",
    "  for layer in hidden:\n",
    "    x = jax.nn.relu(x @ layer['weights'] + layer['biases'])\n",
    "  return x @ last['weights'] + last['biases']\n",
    "\n",
    "# Define the loss function.\n",
    "def loss_fn(params, x, y):\n",
    "  return jnp.mean((forward(params, x) - y) ** 2)\n",
    "\n",
    "# Set the learning rate.\n",
    "LEARNING_RATE = 0.0001\n",
    "\n",
    "# Using the stochastic gradient descent, define the parameter update function.\n",
    "# Apply `@jax.jit` for JIT compilation (speed).\n",
    "@jax.jit\n",
    "def update(params, x, y):\n",
    "  # Calculate the gradients with `jax.grad`.\n",
    "  grads = jax.grad(loss_fn)(params, x, y)\n",
    "  # Note that `grads` is a pytree with the same structure as `params`.\n",
    "  # `jax.grad` is one of many JAX functions that has\n",
    "  # built-in support for pytrees.\n",
    "  # This is useful - you can apply the SGD update using JAX pytree utilities.\n",
    "  return jax.tree.map(\n",
    "      lambda p, g: p - LEARNING_RATE * g, params, grads\n",
    "  )"
   ],
   "id": "930ef6bb4ad7c351",
   "outputs": [],
   "execution_count": 5
  },
  {
   "metadata": {},
   "cell_type": "markdown",
   "source": "# 自定义 pytree 结点",
   "id": "9d69c05d0f57eff4"
  },
  {
   "metadata": {
    "ExecuteTime": {
     "end_time": "2025-05-13T19:45:30.613773Z",
     "start_time": "2025-05-13T19:45:30.602254Z"
    }
   },
   "cell_type": "code",
   "source": [
    "class Special(object):\n",
    "  def __init__(self, x, y):\n",
    "    self.x = x\n",
    "    self.y = y\n",
    "\n",
    "# jax.tree.leaves 是 JAX 提供的一个函数，用于提取 pytree 中的所有叶子节点。叶子节点是指 pytree 中不可再分解的最小单元。\n",
    "jax.tree.leaves(\n",
    "    [Special(0, 1),Special(2, 4)]\n",
    ")"
   ],
   "id": "b74f158de9557949",
   "outputs": [
    {
     "data": {
      "text/plain": [
       "[<__main__.Special at 0x15a5cdf6660>, <__main__.Special at 0x15a5ce3c190>]"
      ]
     },
     "execution_count": 6,
     "metadata": {},
     "output_type": "execute_result"
    }
   ],
   "execution_count": 6
  },
  {
   "metadata": {
    "ExecuteTime": {
     "end_time": "2025-05-13T19:45:32.833041Z",
     "start_time": "2025-05-13T19:45:32.826946Z"
    }
   },
   "cell_type": "code",
   "source": [
    "# 因为没有将 special 注册为 pytree，所以我们可以看到它的类型是 <class '__main__.Special'>，所以下面的句子会报错\n",
    "# TypeError: unsupported operand type(s) for +: 'Special' and 'int'\n",
    "\n",
    "'''\n",
    "jax.tree.map(lambda x: x + 1,\n",
    "  [Special(0, 1),Special(2, 4)]\n",
    "             )\n",
    "'''"
   ],
   "id": "be0d20c44cc8680e",
   "outputs": [
    {
     "data": {
      "text/plain": [
       "'\\njax.tree.map(lambda x: x + 1,\\n  [Special(0, 1),Special(2, 4)]\\n             )\\n'"
      ]
     },
     "execution_count": 7,
     "metadata": {},
     "output_type": "execute_result"
    }
   ],
   "execution_count": 7
  },
  {
   "metadata": {
    "ExecuteTime": {
     "end_time": "2025-05-13T19:45:49.849517Z",
     "start_time": "2025-05-13T19:45:49.831902Z"
    }
   },
   "cell_type": "code",
   "source": [
    "# 注册自定义容器示例\n",
    "\n",
    "# 继承：RegisteredSpecial 继承了 Special，因此它拥有 Special 的所有属性和方法。\n",
    "# __repr__ 方法：重写了 __repr__ 方法，用于返回对象的可读字符串表示，便于调试和打印。\n",
    "class RegisteredSpecial(Special):\n",
    "  def __repr__(self):\n",
    "    return f\"RegisteredSpecial(x={self.x}, y={self.y})\"\n",
    "\n",
    "def special_flatten(v):\n",
    "  \"\"\"Specifies a flattening recipe.\n",
    "\n",
    "  Params:\n",
    "    v: The value of the registered type to flatten.\n",
    "  Returns:\n",
    "    A pair of an iterable with the children to be flattened recursively,\n",
    "    and some opaque auxiliary data to pass back to the unflattening recipe.\n",
    "    The auxiliary data is stored in the treedef for use during unflattening.\n",
    "    The auxiliary data could be used, for example, for dictionary keys.\n",
    "  \"\"\"\n",
    "  children = (v.x, v.y)\n",
    "  aux_data = None\n",
    "  return (children, aux_data)\n",
    "\n",
    "def special_unflatten(aux_data, children):\n",
    "  \"\"\"Specifies an unflattening recipe.\n",
    "\n",
    "  Params:\n",
    "    aux_data: The opaque data that was specified during flattening of the\n",
    "      current tree definition.\n",
    "    children: The unflattened children\n",
    "\n",
    "  Returns:\n",
    "    A reconstructed object of the registered type, using the specified\n",
    "    children and auxiliary data.\n",
    "  \"\"\"\n",
    "  return RegisteredSpecial(*children)\n",
    "\n",
    "from jax.tree_util import register_pytree_node\n",
    "# Global registration\n",
    "register_pytree_node(\n",
    "    RegisteredSpecial,\n",
    "    special_flatten,    # Instruct JAX what are the children nodes.\n",
    "    special_unflatten   # Instruct JAX how to pack back into a `RegisteredSpecial`.\n",
    ")\n",
    "'''\n",
    "register_pytree_node 需要三个输入参数：\n",
    "需要注册的类：这里是 RegisteredSpecial，表示你要将哪个类注册为 pytree 节点。\n",
    "flatten 方法：定义如何将对象分解为子节点（children）和辅助数据（auxiliary data）。\n",
    "unflatten 方法：定义如何从子节点和辅助数据重新构造对象。\n",
    "这两个方法（flatten 和 unflatten）共同指定了对象的序列化和反序列化方式，以便 JAX 能够正确处理该类的实例。\n",
    "\n",
    "NB: flatten 输出的顺序和 unflatten 参数的顺序不同\n",
    "'''\n",
    "\n",
    "jax.tree.map(lambda x: x + 1,\n",
    "  [RegisteredSpecial(0, 1),RegisteredSpecial(2, 4)]\n",
    "             )"
   ],
   "id": "fefe1e387b300da0",
   "outputs": [
    {
     "data": {
      "text/plain": [
       "[RegisteredSpecial(x=1, y=2), RegisteredSpecial(x=3, y=5)]"
      ]
     },
     "execution_count": 8,
     "metadata": {},
     "output_type": "execute_result"
    }
   ],
   "execution_count": 8
  },
  {
   "metadata": {
    "ExecuteTime": {
     "end_time": "2025-05-13T19:45:59.272828Z",
     "start_time": "2025-05-13T19:45:59.262863Z"
    }
   },
   "cell_type": "code",
   "source": [
    "# 我对 NamedTuple 和 Tuple 的用法不熟，首先快速上手一个\n",
    "# NamedTuple 可以用来创建不可变的对象\n",
    "from typing import NamedTuple\n",
    "\n",
    "class Point(NamedTuple):\n",
    "    x: int\n",
    "    y: int\n",
    "\n",
    "# 创建一个 Point 实例\n",
    "p = Point(3, 4)\n",
    "\n",
    "# 访问属性\n",
    "print(f\"x: {p.x}, y: {p.y}\")\n",
    "\n",
    "# NamedTuple 实例是不可变的\n",
    "# p.x = 5  # 这会报错，因为 NamedTuple 是不可变的\n",
    "\n",
    "a_tuple = (1, 2, 3)\n",
    "print(f\"a_tuple的类型是{type(a_tuple)}，其第一个元素是{a_tuple[0]}.\")\n",
    "# test[0] = 4 # 这会报错，因为元组是不可变的"
   ],
   "id": "964d06399c1a9a9a",
   "outputs": [
    {
     "name": "stdout",
     "output_type": "stream",
     "text": [
      "x: 3, y: 4\n",
      "a_tuple的类型是<class 'tuple'>，其第一个元素是1.\n"
     ]
    }
   ],
   "execution_count": 9
  },
  {
   "metadata": {
    "ExecuteTime": {
     "end_time": "2025-05-13T19:46:08.798099Z",
     "start_time": "2025-05-13T19:46:08.789744Z"
    }
   },
   "cell_type": "code",
   "source": [
    "# 有些类型的对象已经与 pytree 兼容了，所以我们可以直接使用不需要注册它们\n",
    "# 比如 NamedTuple\n",
    "\n",
    "from typing import NamedTuple, Any\n",
    "\n",
    "class MyOtherContainer(NamedTuple):\n",
    "  name: str\n",
    "  a: Any\n",
    "  b: Any\n",
    "  c: Any\n",
    "\n",
    "# NamedTuple subclasses are handled as pytree nodes, so\n",
    "# this will work out-of-the-box.\n",
    "jax.tree.leaves([\n",
    "    MyOtherContainer('Alice', 1, 2, 3),\n",
    "    MyOtherContainer('Bob', 4, 3.4, 'test')\n",
    "])"
   ],
   "id": "e93273c12b0e1c9e",
   "outputs": [
    {
     "data": {
      "text/plain": [
       "['Alice', 1, 2, 3, 'Bob', 4, 3.4, 'test']"
      ]
     },
     "execution_count": 10,
     "metadata": {},
     "output_type": "execute_result"
    }
   ],
   "execution_count": 10
  },
  {
   "metadata": {
    "ExecuteTime": {
     "end_time": "2025-05-13T19:46:19.219096Z",
     "start_time": "2025-05-13T19:46:19.208082Z"
    }
   },
   "cell_type": "code",
   "source": [
    "# 我对 dataclass 的用法不熟，首先快速上手一个\n",
    "# dataclass 是 Python 3.7 引入的一个装饰器，用于简化类的定义，特别是用于存储数据的类。\n",
    "\n",
    "# dataclass 可以自动生成一些特殊方法，比如 __init__、__repr__ 和 __eq__ 等等。\n",
    "# 这使得我们可以更方便地创建和使用数据类，而不需要手动编写这些方法。\n",
    "# 我试过有没有类似的基类而不用 dataclass 装饰器的类，结果发现没有\n",
    "from dataclasses import dataclass\n",
    "\n",
    "@dataclass\n",
    "class Point:\n",
    "    x: int\n",
    "    y: int\n",
    "\n",
    "\n",
    "# 创建实例\n",
    "p1 = Point(3, 4)\n",
    "p2 = Point(3, 4)\n",
    "\n",
    "# 自动生成的 __repr__ 方法\n",
    "print(p1)  # 输出: Point(x=3, y=4)\n",
    "\n",
    "# 自动生成的 __eq__ 方法\n",
    "print(p1 == p2)  # 输出: True"
   ],
   "id": "a0b433956caec02b",
   "outputs": [
    {
     "name": "stdout",
     "output_type": "stream",
     "text": [
      "Point(x=3, y=4)\n",
      "True\n"
     ]
    }
   ],
   "execution_count": 11
  },
  {
   "metadata": {},
   "cell_type": "markdown",
   "source": "# 吃饭之后，从这儿开始",
   "id": "b32d63c31b81ec24"
  },
  {
   "metadata": {
    "ExecuteTime": {
     "end_time": "2025-05-13T19:46:53.949515Z",
     "start_time": "2025-05-13T19:46:53.182376Z"
    }
   },
   "cell_type": "code",
   "source": [
    "\n",
    "from dataclasses import dataclass\n",
    "import functools\n",
    "\n",
    "@functools.partial(jax.tree_util.register_dataclass,\n",
    "                   data_fields=['a', 'b', 'c'],\n",
    "                   meta_fields=['name'])\n",
    "@dataclass\n",
    "class MyDataclassContainer(object):\n",
    "  name: str\n",
    "  a: Any\n",
    "  b: Any\n",
    "  c: Any\n",
    "\n",
    "# MyDataclassContainer is now a pytree node.\n",
    "jax.tree.leaves([\n",
    "  MyDataclassContainer('apple', 5.3, 1.2, jnp.zeros([4])),\n",
    "  MyDataclassContainer('banana', np.array([3, 4]), -1., 0.)\n",
    "])"
   ],
   "id": "ba843f4743af1848",
   "outputs": [
    {
     "data": {
      "text/plain": [
       "[5.3, 1.2, Array([0., 0., 0., 0.], dtype=float32), array([3, 4]), -1.0, 0.0]"
      ]
     },
     "execution_count": 12,
     "metadata": {},
     "output_type": "execute_result"
    }
   ],
   "execution_count": 12
  },
  {
   "metadata": {
    "ExecuteTime": {
     "end_time": "2025-05-13T19:47:14.510826Z",
     "start_time": "2025-05-13T19:47:14.489105Z"
    }
   },
   "cell_type": "code",
   "source": [
    "@jax.jit\n",
    "def f(x: MyDataclassContainer | MyOtherContainer):\n",
    "  return x.a + x.b\n",
    "\n",
    "# Works fine! `mdc.name` is static.\n",
    "mdc = MyDataclassContainer('mdc', 1, 2, 3)\n",
    "y = f(mdc)"
   ],
   "id": "49b61a020e727107",
   "outputs": [],
   "execution_count": 13
  },
  {
   "metadata": {
    "ExecuteTime": {
     "end_time": "2025-05-13T19:47:21.473793Z",
     "start_time": "2025-05-13T19:47:20.332061Z"
    }
   },
   "cell_type": "code",
   "source": [
    "moc = MyOtherContainer('moc', 1, 2, 3)\n",
    "y = f(moc)"
   ],
   "id": "fa16cccc92c50458",
   "outputs": [
    {
     "ename": "TypeError",
     "evalue": "Error interpreting argument to <function f at 0x0000015A5CE425C0> as an abstract array. The problematic value is of type <class 'str'> and was passed to the function at path x.name.\nThis typically means that a jit-wrapped function was called with a non-array argument, and this argument was not marked as static using the static_argnums or static_argnames parameters of jax.jit.",
     "output_type": "error",
     "traceback": [
      "\u001B[31m---------------------------------------------------------------------------\u001B[39m",
      "\u001B[31mTypeError\u001B[39m                                 Traceback (most recent call last)",
      "\u001B[36mCell\u001B[39m\u001B[36m \u001B[39m\u001B[32mIn[14]\u001B[39m\u001B[32m, line 2\u001B[39m\n\u001B[32m      1\u001B[39m moc = MyOtherContainer(\u001B[33m'\u001B[39m\u001B[33mmoc\u001B[39m\u001B[33m'\u001B[39m, \u001B[32m1\u001B[39m, \u001B[32m2\u001B[39m, \u001B[32m3\u001B[39m)\n\u001B[32m----> \u001B[39m\u001B[32m2\u001B[39m y = \u001B[43mf\u001B[49m\u001B[43m(\u001B[49m\u001B[43mmoc\u001B[49m\u001B[43m)\u001B[49m\n",
      "    \u001B[31m[... skipping hidden 5 frame]\u001B[39m\n",
      "\u001B[36mFile \u001B[39m\u001B[32m~\\OneDrive - PNNL\\iPad\\LearnJax\\.venv\\Lib\\site-packages\\jax\\_src\\pjit.py:760\u001B[39m, in \u001B[36m_infer_input_type\u001B[39m\u001B[34m(fun, dbg, explicit_args)\u001B[39m\n\u001B[32m    758\u001B[39m \u001B[38;5;28;01mexcept\u001B[39;00m \u001B[38;5;167;01mTypeError\u001B[39;00m:\n\u001B[32m    759\u001B[39m   arg_description = \u001B[33mf\u001B[39m\u001B[33m\"\u001B[39m\u001B[33mpath \u001B[39m\u001B[38;5;132;01m{\u001B[39;00mdbg.arg_names[i]\u001B[38;5;132;01m}\u001B[39;00m\u001B[33m\"\u001B[39m\n\u001B[32m--> \u001B[39m\u001B[32m760\u001B[39m   \u001B[38;5;28;01mraise\u001B[39;00m \u001B[38;5;167;01mTypeError\u001B[39;00m(\n\u001B[32m    761\u001B[39m     \u001B[33mf\u001B[39m\u001B[33m\"\u001B[39m\u001B[33mError interpreting argument to \u001B[39m\u001B[38;5;132;01m{\u001B[39;00mfun\u001B[38;5;132;01m}\u001B[39;00m\u001B[33m as an abstract array.\u001B[39m\u001B[33m\"\u001B[39m\n\u001B[32m    762\u001B[39m     \u001B[33mf\u001B[39m\u001B[33m\"\u001B[39m\u001B[33m The problematic value is of type \u001B[39m\u001B[38;5;132;01m{\u001B[39;00m\u001B[38;5;28mtype\u001B[39m(x)\u001B[38;5;132;01m}\u001B[39;00m\u001B[33m and was passed to\u001B[39m\u001B[33m\"\u001B[39m\n\u001B[32m    763\u001B[39m     \u001B[33mf\u001B[39m\u001B[33m\"\u001B[39m\u001B[33m the function at \u001B[39m\u001B[38;5;132;01m{\u001B[39;00marg_description\u001B[38;5;132;01m}\u001B[39;00m\u001B[33m.\u001B[39m\u001B[38;5;130;01m\\n\u001B[39;00m\u001B[33m\"\u001B[39m\n\u001B[32m    764\u001B[39m     \u001B[33m\"\u001B[39m\u001B[33mThis typically means that a jit-wrapped function was called with a non-array\u001B[39m\u001B[33m\"\u001B[39m\n\u001B[32m    765\u001B[39m     \u001B[33m\"\u001B[39m\u001B[33m argument, and this argument was not marked as static using the\u001B[39m\u001B[33m\"\u001B[39m\n\u001B[32m    766\u001B[39m     \u001B[33m\"\u001B[39m\u001B[33m static_argnums or static_argnames parameters of jax.jit.\u001B[39m\u001B[33m\"\u001B[39m\n\u001B[32m    767\u001B[39m   ) \u001B[38;5;28;01mfrom\u001B[39;00m\u001B[38;5;250m \u001B[39m\u001B[38;5;28;01mNone\u001B[39;00m\n\u001B[32m    768\u001B[39m \u001B[38;5;28;01mif\u001B[39;00m config.mutable_array_checks.value:\n\u001B[32m    769\u001B[39m   _check_no_aliased_ref_args(dbg, avals, explicit_args)\n",
      "\u001B[31mTypeError\u001B[39m: Error interpreting argument to <function f at 0x0000015A5CE425C0> as an abstract array. The problematic value is of type <class 'str'> and was passed to the function at path x.name.\nThis typically means that a jit-wrapped function was called with a non-array argument, and this argument was not marked as static using the static_argnums or static_argnames parameters of jax.jit."
     ]
    }
   ],
   "execution_count": 14
  }
 ],
 "metadata": {
  "kernelspec": {
   "display_name": "Python 3",
   "language": "python",
   "name": "python3"
  },
  "language_info": {
   "codemirror_mode": {
    "name": "ipython",
    "version": 2
   },
   "file_extension": ".py",
   "mimetype": "text/x-python",
   "name": "python",
   "nbconvert_exporter": "python",
   "pygments_lexer": "ipython2",
   "version": "2.7.6"
  }
 },
 "nbformat": 4,
 "nbformat_minor": 5
}
