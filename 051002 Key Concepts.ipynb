{
 "cells": [
  {
   "metadata": {
    "ExecuteTime": {
     "end_time": "2025-10-24T02:51:12.330740Z",
     "start_time": "2025-10-24T02:51:11.768906Z"
    }
   },
   "cell_type": "code",
   "source": [
    "import jax\n",
    "\n",
    "# 为jax设置64位浮点数\n",
    "from jax import config\n",
    "config.update(\"jax_enable_x64\", True)\n",
    "\n",
    "import jax.numpy as jnp\n",
    "import numpy as np"
   ],
   "id": "36aa8772a96fcb3b",
   "outputs": [],
   "execution_count": 1
  },
  {
   "metadata": {
    "ExecuteTime": {
     "end_time": "2025-10-24T02:51:12.391617Z",
     "start_time": "2025-10-24T02:51:12.336975Z"
    }
   },
   "cell_type": "code",
   "source": [
    "# JAX arrays\n",
    "\n",
    "x = jnp.arange(5)\n",
    "print(f\"Is x of type 'jax.Array'?: {isinstance(x, jax.Array)}\")\n",
    "print(f\"The type of x is {type(x)}. It is on device {x.devices()}.\")\n",
    "print(x)"
   ],
   "id": "c58fddf8600132dc",
   "outputs": [
    {
     "name": "stdout",
     "output_type": "stream",
     "text": [
      "Is x of type 'jax.Array'?: True\n",
      "The type of x is <class 'jaxlib._jax.ArrayImpl'>. It is on device {CpuDevice(id=0)}.\n",
      "[0 1 2 3 4]\n"
     ]
    }
   ],
   "execution_count": 2
  },
  {
   "metadata": {
    "ExecuteTime": {
     "end_time": "2025-10-24T02:51:21.651080Z",
     "start_time": "2025-10-24T02:51:21.590097Z"
    }
   },
   "cell_type": "code",
   "source": [
    "# Tracers\n",
    "\n",
    "@jax.jit\n",
    "def f(x):\n",
    "  print(x)\n",
    "  #jax.debug.print(\"x: {}\", x)  # 使用 jax.debug.print 代替普通的 print\n",
    "  return x + 1\n",
    "\n",
    "x = jnp.arange(5)\n",
    "result_x = f(x)\n",
    "\n",
    "y = jnp.arange(10)\n",
    "result_y = f(y)"
   ],
   "id": "c76889c581ce5a03",
   "outputs": [
    {
     "name": "stdout",
     "output_type": "stream",
     "text": [
      "JitTracer<int64[5]>\n",
      "JitTracer<int64[10]>\n"
     ]
    }
   ],
   "execution_count": 3
  },
  {
   "metadata": {
    "ExecuteTime": {
     "end_time": "2025-10-24T02:52:15.856103Z",
     "start_time": "2025-10-24T02:52:15.830238Z"
    }
   },
   "cell_type": "code",
   "source": [
    "# 这是 jaxpr 的一个例子\n",
    "\n",
    "def selu(x, alpha=1.67, lambda_=1.05):\n",
    "  return lambda_ * jnp.where(x > 0, x, alpha * jnp.exp(x) - alpha)\n",
    "\n",
    "x = jnp.arange(5.0)\n",
    "jax.make_jaxpr(selu)(x)"
   ],
   "id": "60e34e25f74537ac",
   "outputs": [
    {
     "data": {
      "text/plain": [
       "{ \u001B[34;1mlambda \u001B[39;22m; a\u001B[35m:f64[5]\u001B[39m. \u001B[34;1mlet\n",
       "    \u001B[39;22mb\u001B[35m:bool[5]\u001B[39m = gt a 0.0:f64[]\n",
       "    c\u001B[35m:f64[5]\u001B[39m = exp a\n",
       "    d\u001B[35m:f64[5]\u001B[39m = mul 1.67:f64[] c\n",
       "    e\u001B[35m:f64[5]\u001B[39m = sub d 1.67:f64[]\n",
       "    f\u001B[35m:f64[5]\u001B[39m = jit[\n",
       "      name=_where\n",
       "      jaxpr={ \u001B[34;1mlambda \u001B[39;22m; b\u001B[35m:bool[5]\u001B[39m a\u001B[35m:f64[5]\u001B[39m e\u001B[35m:f64[5]\u001B[39m. \u001B[34;1mlet\n",
       "          \u001B[39;22mf\u001B[35m:f64[5]\u001B[39m = select_n b e a\n",
       "        \u001B[34;1min \u001B[39;22m(f,) }\n",
       "    ] b a e\n",
       "    g\u001B[35m:f64[5]\u001B[39m = mul 1.05:f64[] f\n",
       "  \u001B[34;1min \u001B[39;22m(g,) }"
      ]
     },
     "execution_count": 4,
     "metadata": {},
     "output_type": "execute_result"
    }
   ],
   "execution_count": 4
  },
  {
   "metadata": {
    "ExecuteTime": {
     "end_time": "2025-10-24T02:53:40.103861Z",
     "start_time": "2025-10-24T02:53:40.096604Z"
    }
   },
   "cell_type": "code",
   "source": [
    "# Pytree 的简单例子\n",
    "\n",
    "# Named tuple of parameters\n",
    "from typing import NamedTuple # 我没有学过这个，挺好玩的\n",
    "class Params(NamedTuple):\n",
    "  a: int\n",
    "  b: float\n",
    "  c: str = \"default\"\n",
    "\n",
    "params = Params(1, 5.0, 67) # 并没有强制类型检查，所以用一个int来初始化了一个str，后来并不会强制转化成str\n",
    "print(params)\n",
    "\n",
    "\n",
    "print(jax.tree.structure(params))\n",
    "print(jax.tree.leaves(params))"
   ],
   "id": "6aaeb2e3e808b6b2",
   "outputs": [
    {
     "name": "stdout",
     "output_type": "stream",
     "text": [
      "Params(a=1, b=5.0, c=67)\n",
      "PyTreeDef(CustomNode(namedtuple[Params], [*, *, *]))\n",
      "[1, 5.0, 67]\n"
     ]
    }
   ],
   "execution_count": 5
  },
  {
   "metadata": {
    "ExecuteTime": {
     "end_time": "2025-10-24T02:54:46.247455Z",
     "start_time": "2025-10-24T02:54:46.211400Z"
    }
   },
   "cell_type": "code",
   "source": [
    "# 下面是一个 Pytree 更复杂的例子\n",
    "\n",
    "# 定义一个嵌套的 NamedTuple 数据结构\n",
    "class SubParams(NamedTuple):\n",
    "    d: jnp.ndarray\n",
    "    e: float\n",
    "\n",
    "class Params(NamedTuple):\n",
    "    a: int\n",
    "    b: SubParams\n",
    "    c: list\n",
    "\n",
    "# 创建一个复杂的实例\n",
    "params = Params(\n",
    "    a=42,\n",
    "    b=SubParams(\n",
    "        d=jnp.array([1.0, 2.0, 3.0]),\n",
    "        e=3.14\n",
    "    ),\n",
    "    c=[jnp.array([4.0, 5.0]), 6]\n",
    ")\n",
    "\n",
    "# 打印树结构和叶子节点\n",
    "print(jax.tree.structure(params))\n",
    "print(jax.tree.leaves(params))"
   ],
   "id": "ad713ff8308ddd44",
   "outputs": [
    {
     "name": "stdout",
     "output_type": "stream",
     "text": [
      "PyTreeDef(CustomNode(namedtuple[Params], [*, CustomNode(namedtuple[SubParams], [*, *]), [*, *]]))\n",
      "[42, Array([1., 2., 3.], dtype=float64), 3.14, Array([4., 5.], dtype=float64), 6]\n"
     ]
    }
   ],
   "execution_count": 6
  }
 ],
 "metadata": {
  "kernelspec": {
   "name": "python3",
   "language": "python",
   "display_name": "Python 3 (ipykernel)"
  }
 },
 "nbformat": 4,
 "nbformat_minor": 5
}
