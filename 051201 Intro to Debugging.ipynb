{
 "cells": [
  {
   "cell_type": "code",
   "id": "initial_id",
   "metadata": {
    "collapsed": true,
    "ExecuteTime": {
     "end_time": "2025-10-24T04:37:26.968096Z",
     "start_time": "2025-10-24T04:37:22.017783Z"
    }
   },
   "source": [
    "import jax\n",
    "import jax.numpy as jnp\n",
    "\n",
    "def fgx():\n",
    "    print(\"*\" * 50)  # 使用横线\n",
    "    print(\"我是分割线\".center(47, \"=\"))  # 居中显示并填充等号\n",
    "    print(\"*\" * 50)  # 使用星号"
   ],
   "outputs": [],
   "execution_count": 1
  },
  {
   "metadata": {
    "ExecuteTime": {
     "end_time": "2025-10-24T04:37:35.080455Z",
     "start_time": "2025-10-24T04:37:34.339348Z"
    }
   },
   "cell_type": "code",
   "source": [
    "# jit 中的打印语句\n",
    "\n",
    "# 不要使用普通的 print 语句，因为 jit 编译后，print 语句不会被执行\n",
    "# 而且输出的并不是想要的值\n",
    "@jax.jit\n",
    "def f_wrong(x):\n",
    "    print(\"print(x) ->\", x)\n",
    "    y = jnp.sin(x)\n",
    "    print(\"print(y) ->\", y)\n",
    "    return y\n",
    "\n",
    "f_wrong(2.)\n",
    "f_wrong(3.) #注意：这里的print不会被执行，因为 print 只在第一次编译时执行\n",
    "\n",
    "\n",
    "@jax.jit\n",
    "def f_correct(x):\n",
    "    jax.debug.print(\"jax.debug.print(x) -> {x}\", x=x)\n",
    "    y = jnp.sin(x)\n",
    "    jax.debug.print(\"jax.debug.print(y) -> {y}\", y=y)\n",
    "    return y\n",
    "\n",
    "f_correct(2.)\n",
    "f_correct(3.)"
   ],
   "id": "5e7b19d5799266f5",
   "outputs": [
    {
     "name": "stdout",
     "output_type": "stream",
     "text": [
      "print(x) -> JitTracer<~float32[]>\n",
      "print(y) -> JitTracer<~float32[]>\n",
      "jax.debug.print(x) -> 2.0\n",
      "jax.debug.print(y) -> 0.9092974066734314\n",
      "jax.debug.print(x) -> 3.0\n",
      "jax.debug.print(y) -> 0.14112000167369843\n"
     ]
    },
    {
     "data": {
      "text/plain": [
       "Array(0.14112, dtype=float32, weak_type=True)"
      ]
     },
     "execution_count": 2,
     "metadata": {},
     "output_type": "execute_result"
    }
   ],
   "execution_count": 2
  },
  {
   "metadata": {
    "ExecuteTime": {
     "end_time": "2025-10-24T04:42:02.494987Z",
     "start_time": "2025-10-24T04:42:02.482658Z"
    }
   },
   "cell_type": "code",
   "source": [
    "# vmap 中的打印语句\n",
    "\n",
    "xs = jnp.array([0., 1., 1.5])\n",
    "xs_more = jnp.arange(3., 6.)\n",
    "\n",
    "def f_correct(x):\n",
    "    jax.debug.print(\"jax.debug.print(x) -> {}\", x)\n",
    "    y = jnp.sin(x)\n",
    "    jax.debug.print(\"jax.debug.print(y) -> {}\", y)\n",
    "    return y\n",
    "\n",
    "result = jax.vmap(f_correct)(xs)\n",
    "\n",
    "fgx()\n",
    "\n",
    "def f_wrong(x):\n",
    "    print(\"jax.debug.print(x) ->\", x)\n",
    "    y = jnp.sin(x)\n",
    "    print(\"jax.debug.print(y) ->\", y)\n",
    "    return y\n",
    "\n",
    "jf = jax.vmap(f_wrong)\n",
    "result = jf(xs)\n",
    "result = jf(xs_more) #与 jit 不同，这里第二次调用也会执行， 但是使用普通的打印并不会出现我们想要的输出"
   ],
   "id": "5e53035ff0909f23",
   "outputs": [
    {
     "name": "stdout",
     "output_type": "stream",
     "text": [
      "jax.debug.print(x) -> 0.0\n",
      "jax.debug.print(x) -> 1.0\n",
      "jax.debug.print(x) -> 1.5\n",
      "jax.debug.print(y) -> 0.0\n",
      "jax.debug.print(y) -> 0.8414709568023682\n",
      "jax.debug.print(y) -> 0.9974949955940247\n",
      "**************************************************\n",
      "=====================我是分割线=====================\n",
      "**************************************************\n",
      "jax.debug.print(x) -> VmapTracer<float32[]>\n",
      "jax.debug.print(y) -> VmapTracer<float32[]>\n"
     ]
    }
   ],
   "execution_count": 4
  },
  {
   "metadata": {
    "ExecuteTime": {
     "end_time": "2025-10-24T04:42:21.213887Z",
     "start_time": "2025-10-24T04:42:21.160846Z"
    }
   },
   "cell_type": "code",
   "source": [
    "# lax.map 中的打印语句\n",
    "# 这里的 lax.map 类似于 vmap\n",
    "# 但是 lax.map 是顺序执行的，而 vmap 是并行执行的\n",
    "# 注意到在下面的输出中，先打印了 y 的值，然后才打印 x 的值，这是因为打印是按照实际执行的顺序进行的，而不是代码顺序，好像是计算图就是这么构造的\n",
    "\n",
    "result = jax.lax.map(f_correct, xs)\n",
    "print(result)"
   ],
   "id": "5062f09520dd0df2",
   "outputs": [
    {
     "name": "stdout",
     "output_type": "stream",
     "text": [
      "jax.debug.print(y) -> 0.0\n",
      "jax.debug.print(x) -> 0.0\n",
      "jax.debug.print(y) -> 0.8414709568023682\n",
      "jax.debug.print(x) -> 1.0\n",
      "jax.debug.print(y) -> 0.9974949955940247\n",
      "jax.debug.print(x) -> 1.5\n",
      "[0.         0.84147096 0.997495  ]\n"
     ]
    }
   ],
   "execution_count": 5
  },
  {
   "metadata": {
    "ExecuteTime": {
     "end_time": "2025-10-24T04:42:48.961371Z",
     "start_time": "2025-10-24T04:42:48.236122Z"
    }
   },
   "cell_type": "code",
   "source": [
    "# 据说 vmap 是并行执行的，所以打印顺序可能会乱掉\n",
    "# 但是实际上，我在 CPU 上进行了尝试，依然是顺序执行的\n",
    "# 在 GPU 上可能会并行执行\n",
    "\n",
    "import jax\n",
    "import jax.numpy as jnp\n",
    "import time\n",
    "import random\n",
    "\n",
    "# 定义一个函数，带有调试打印和随机延迟\n",
    "def f(x):\n",
    "    time.sleep(random.uniform(0, 1))  # 随机延迟\n",
    "    jax.debug.print(\"Processing x: {}\", x)\n",
    "    return x ** 2\n",
    "\n",
    "# 输入数组\n",
    "xs = jnp.array([3, 1, 4, 1, 5, 9, 2, 6, 5, 3, 5])\n",
    "\n",
    "# 使用 vmap 并行执行\n",
    "result = jax.vmap(f)(xs)\n",
    "\n",
    "print(\"Result:\", result)"
   ],
   "id": "dc1ca784cfc2bf9d",
   "outputs": [
    {
     "name": "stdout",
     "output_type": "stream",
     "text": [
      "Processing x: 3\n",
      "Processing x: 1\n",
      "Processing x: 4\n",
      "Processing x: 1\n",
      "Processing x: 5\n",
      "Processing x: 9\n",
      "Processing x: 2\n",
      "Processing x: 6\n",
      "Processing x: 5\n",
      "Processing x: 3\n",
      "Processing x: 5\n",
      "Result: [ 9  1 16  1 25 81  4 36 25  9 25]\n"
     ]
    }
   ],
   "execution_count": 6
  },
  {
   "metadata": {
    "ExecuteTime": {
     "end_time": "2025-10-24T04:44:50.901286Z",
     "start_time": "2025-10-24T04:44:50.821703Z"
    }
   },
   "cell_type": "code",
   "source": [
    "# 注意实际的打印顺序\n",
    "# 只有前向传播有打印\n",
    "\n",
    "def f(x):\n",
    "    jax.debug.print(\"jax.debug.print(x) -> {}\", x)\n",
    "    return x ** 2\n",
    "\n",
    "# 一阶导数\n",
    "df = jax.grad(f)\n",
    "print(\"我是分割线\")\n",
    "print(\"First derivative at x=2: {}\", df(3.))\n",
    "\n",
    "# 二阶导数\n",
    "d2f = jax.grad(df)\n",
    "jax.debug.print(\"我是分割线\")\n",
    "jax.debug.print(\"Second derivative at x=2: {}\", d2f(3.))"
   ],
   "id": "9459240d8f8c9c99",
   "outputs": [
    {
     "name": "stdout",
     "output_type": "stream",
     "text": [
      "我是分割线\n",
      "jax.debug.print(x) -> 3.0\n",
      "First derivative at x=2: {} 6.0\n",
      "我是分割线\n",
      "jax.debug.print(x) -> 3.0\n",
      "Second derivative at x=2: 2.0\n"
     ]
    }
   ],
   "execution_count": 7
  },
  {
   "metadata": {
    "ExecuteTime": {
     "end_time": "2025-10-24T04:46:21.972755Z",
     "start_time": "2025-10-24T04:46:21.942321Z"
    }
   },
   "cell_type": "code",
   "source": [
    "# 下面的代码中，如果不加 ordered=True，打印的顺序可能会乱掉\n",
    "\n",
    "@jax.jit\n",
    "def f(x, y):\n",
    "  jax.debug.print(\"jax.debug.print(x) -> {}\", x, ordered=True)\n",
    "  jax.debug.print(\"jax.debug.print(y) -> {}\", y, ordered=True)\n",
    "  return x + y\n",
    "\n",
    "f(1, 2)"
   ],
   "id": "7d8cf5efeb4f4f24",
   "outputs": [
    {
     "name": "stdout",
     "output_type": "stream",
     "text": [
      "jax.debug.print(x) -> 1\n",
      "jax.debug.print(y) -> 2\n"
     ]
    },
    {
     "data": {
      "text/plain": [
       "Array(3, dtype=int32, weak_type=True)"
      ]
     },
     "execution_count": 8,
     "metadata": {},
     "output_type": "execute_result"
    }
   ],
   "execution_count": 8
  },
  {
   "metadata": {},
   "cell_type": "code",
   "source": [
    "# 所谓的 pdb-like debugging，所谓的pdb就是 python debug\n",
    "# 注意，在输入框中可以尝试 y*z，按 c 退出\n",
    "# 我尝试过了，IDE 中的断点调试器是无法使用的，并不能输出变量的值\n",
    "\n",
    "@jax.jit\n",
    "def f(x):\n",
    "  y, z = jnp.sin(x), jnp.cos(x)\n",
    "  jax.debug.breakpoint()\n",
    "  return y * z\n",
    "f(2.) # ==> Pauses during execution"
   ],
   "id": "e9fe19b8482f8fc5",
   "outputs": [],
   "execution_count": null
  },
  {
   "metadata": {},
   "cell_type": "code",
   "source": [
    "# 使用运行时判断语句加断点\n",
    "# 注意，下面代码中的两个小函数，在原来的教程中是放在函数里面的\n",
    "\n",
    "def true_fn(x):\n",
    "    pass\n",
    "\n",
    "def false_fn(x):\n",
    "    jax.debug.breakpoint()\n",
    "\n",
    "def breakpoint_if_nonfinite(x):\n",
    "    is_finite = jnp.isfinite(x).all()\n",
    "    jax.lax.cond(is_finite, true_fn, false_fn, x)\n",
    "\n",
    "@jax.jit\n",
    "def f(x, y):\n",
    "  z = x / y\n",
    "  breakpoint_if_nonfinite(z)\n",
    "  return z\n",
    "\n",
    "f(2., 0.) # ==> No breakpoint"
   ],
   "id": "442983674b9fc61b",
   "outputs": [],
   "execution_count": null
  },
  {
   "metadata": {},
   "cell_type": "code",
   "source": [
    "# 使用 jax.debug.callback 的例子\n",
    "# callback 是回调函数的意思，也就是说在函数执行到某个地方时，调用一个函数进行排错debug\n",
    "\n",
    "def log_value(x):\n",
    "  print(f'Logged value: {x}')\n",
    "  # logging.warning(f'Logged value: {x}') # 教程原来提供的是这句，其优先级比较高，所以顺序会乱掉\n",
    "  # 需要导入 import logging\n",
    "\n",
    "@jax.jit\n",
    "def f(x):\n",
    "  jax.debug.callback(log_value, x)\n",
    "  return x\n",
    "\n",
    "jax.debug.print(\"我是分割线1\", ordered=True)\n",
    "f(1.0) # ==> Logs value\n",
    "jax.debug.print(\"我是分割线2\", ordered=True)\n",
    "x = jnp.arange(5.0)\n",
    "jax.vmap(f)(x);\n",
    "print(\"我是分割线3\")\n",
    "jax.grad(f)(12.0);"
   ],
   "id": "5d0b170df3cd1f3f",
   "outputs": [],
   "execution_count": null
  }
 ],
 "metadata": {
  "kernelspec": {
   "display_name": "Python 3",
   "language": "python",
   "name": "python3"
  },
  "language_info": {
   "codemirror_mode": {
    "name": "ipython",
    "version": 2
   },
   "file_extension": ".py",
   "mimetype": "text/x-python",
   "name": "python",
   "nbconvert_exporter": "python",
   "pygments_lexer": "ipython2",
   "version": "2.7.6"
  }
 },
 "nbformat": 4,
 "nbformat_minor": 5
}
