{
 "cells": [
  {
   "cell_type": "code",
   "id": "initial_id",
   "metadata": {
    "collapsed": true
   },
   "source": [
    "import jax\n",
    "from jax import grad, jit\n",
    "import jax.numpy as jnp"
   ],
   "outputs": [],
   "execution_count": null
  },
  {
   "metadata": {},
   "cell_type": "code",
   "source": [
    "@jit\n",
    "def f(x):\n",
    "  for i in range(3):\n",
    "    x = 2 * x\n",
    "  return x\n",
    "\n",
    "print(f(3))"
   ],
   "id": "ddc78168d1626409",
   "outputs": [],
   "execution_count": null
  },
  {
   "metadata": {
    "ExecuteTime": {
     "end_time": "2025-05-18T02:58:44.286369Z",
     "start_time": "2025-05-18T02:58:44.261986Z"
    }
   },
   "cell_type": "code",
   "source": [
    "@jit\n",
    "def g(x):\n",
    "  y = 0.\n",
    "  for i in range(x.shape[0]):\n",
    "    y = y + x[i]\n",
    "  return y\n",
    "\n",
    "print(g(jnp.array([1., 2., 3.])))\n",
    "\n",
    "# jax.make_jaxpr(g)(jnp.array([1., 2., 3., 4.2]))\n",
    "# 运行上面的代码可以看到，如果 x 的长度不一样，编译的结果也不一样\n",
    "# 对于不同长度的输入，jax 会重新编译"
   ],
   "id": "577d4e2ad158dd4f",
   "outputs": [
    {
     "name": "stdout",
     "output_type": "stream",
     "text": [
      "6.0\n"
     ]
    }
   ],
   "execution_count": 16
  },
  {
   "metadata": {},
   "cell_type": "code",
   "source": [
    "# static_argnames 的一个例子\n",
    "\n",
    "def f(x):\n",
    "  if x < 3:\n",
    "    return 3. * x ** 2\n",
    "  else:\n",
    "    return -4 * x\n",
    "\n",
    "f = jit(f, static_argnames='x')\n",
    "\n",
    "print(f(2.))"
   ],
   "id": "c4a3b95bc41c7f08",
   "outputs": [],
   "execution_count": null
  },
  {
   "metadata": {},
   "cell_type": "code",
   "source": [
    "# static_argnames 的另一个例子\n",
    "\n",
    "def f(x, n):\n",
    "  y = 0.\n",
    "  for i in range(n):\n",
    "    y = y + x[i]\n",
    "  return y\n",
    "\n",
    "f = jit(f, static_argnames='n')\n",
    "\n",
    "f(jnp.array([2., 3., 4.]), 2)"
   ],
   "id": "c45c2ee25885b56e",
   "outputs": [],
   "execution_count": null
  },
  {
   "metadata": {},
   "cell_type": "code",
   "source": [
    "# static_argnames 的更多例子\n",
    "# static_argnames 可以指定多个参数为静态参数\n",
    "# 或者可以使用 static_argnums 来指定参数的位置\n",
    "\n",
    "def example_fun(length, val):\n",
    "  return jnp.ones((length,)) * val\n",
    "# un-jit'd works fine\n",
    "print(example_fun(5, 4))\n",
    "\n",
    "# 注意，这个函数 example_fun 不能够直接 jit，因为它的第一个参数是一个变量\n",
    "\n",
    "# static_argnames tells JAX to recompile on changes at these argument positions:\n",
    "good_example_jit = jit(example_fun, static_argnames='length')\n",
    "# first compile\n",
    "print(good_example_jit(10, 4))\n",
    "# recompiles\n",
    "print(good_example_jit(5, 8))\n",
    "\n",
    "# 如果想指定更多的参数为静态参数，可以使用 static_argnames\n",
    "more_example_jit = jit(example_fun, static_argnames=['length', 'val'])\n",
    "# 或者换个写法\n",
    "more_example_jit = jit(example_fun, static_argnums=(0, 1))\n",
    "# first compile\n",
    "print(more_example_jit(10, 4))\n",
    "# recompiles\n",
    "print(more_example_jit(5, 8))\n",
    "# 这里的 length 和 val 都是静态参数\n",
    "# 但是如果 length 和 val 都是动态参数，那么就会报错\n",
    "print(more_example_jit(12, 8)) # 这里的 length 和 val 都是动态参数"
   ],
   "id": "f838de95906c4305",
   "outputs": [],
   "execution_count": null
  },
  {
   "metadata": {},
   "cell_type": "code",
   "source": [
    "# 如果需要在 jit 版本的函数中使用 print 语句，可以使用 jax.debug.print\n",
    "\n",
    "import jax\n",
    "\n",
    "@jit\n",
    "def f(x):\n",
    "    jax.debug.print(\"The first printed number is {x}\", x=x)\n",
    "    y = 2 * x\n",
    "    print(y)\n",
    "    jax.debug.print(\"The second printed number is {}\", y)\n",
    "    return y\n",
    "f(2)"
   ],
   "id": "2405e3f4fe84ae1d",
   "outputs": [],
   "execution_count": null
  }
 ],
 "metadata": {
  "kernelspec": {
   "display_name": "Python 3",
   "language": "python",
   "name": "python3"
  },
  "language_info": {
   "codemirror_mode": {
    "name": "ipython",
    "version": 2
   },
   "file_extension": ".py",
   "mimetype": "text/x-python",
   "name": "python",
   "nbconvert_exporter": "python",
   "pygments_lexer": "ipython2",
   "version": "2.7.6"
  }
 },
 "nbformat": 4,
 "nbformat_minor": 5
}
