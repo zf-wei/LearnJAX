{
 "cells": [
  {
   "metadata": {
    "ExecuteTime": {
     "end_time": "2025-10-24T02:55:53.123949Z",
     "start_time": "2025-10-24T02:55:48.154503Z"
    }
   },
   "cell_type": "code",
   "source": [
    "# 导入必要的包\n",
    "import jax\n",
    "import jax.numpy as jnp"
   ],
   "id": "ffc6113789ef2f04",
   "outputs": [],
   "execution_count": 1
  },
  {
   "metadata": {},
   "cell_type": "markdown",
   "source": "# Jax 转换如何工作？",
   "id": "6b6966c99d43cb4a"
  },
  {
   "metadata": {
    "ExecuteTime": {
     "end_time": "2025-10-24T02:55:58.804294Z",
     "start_time": "2025-10-24T02:55:58.790370Z"
    }
   },
   "cell_type": "code",
   "source": [
    "global_list = []\n",
    "\n",
    "def log2(x):\n",
    "  global_list.append(x) #this is omitted in the jaxpr\n",
    "  ln_x = jnp.log(x)\n",
    "  ln_2 = jnp.log(2.0)\n",
    "  return ln_x / ln_2\n",
    "\n",
    "print(jax.make_jaxpr(log2)(3.0))\n",
    "\n",
    "def log2_with_print(x):\n",
    "  print(\"printed x:\", x)\n",
    "  ln_x = jnp.log(x)\n",
    "  ln_2 = jnp.log(2.0)\n",
    "  return ln_x / ln_2\n",
    "\n",
    "print(jax.make_jaxpr(log2_with_print)(3.))"
   ],
   "id": "95cb9614661a9102",
   "outputs": [
    {
     "name": "stdout",
     "output_type": "stream",
     "text": [
      "{ \u001B[34;1mlambda \u001B[39;22m; a\u001B[35m:f32[]\u001B[39m. \u001B[34;1mlet\n",
      "    \u001B[39;22mb\u001B[35m:f32[]\u001B[39m = log a\n",
      "    c\u001B[35m:f32[]\u001B[39m = log 2.0:f32[]\n",
      "    d\u001B[35m:f32[]\u001B[39m = div b c\n",
      "  \u001B[34;1min \u001B[39;22m(d,) }\n",
      "printed x: JitTracer<~float32[]>\n",
      "{ \u001B[34;1mlambda \u001B[39;22m; a\u001B[35m:f32[]\u001B[39m. \u001B[34;1mlet\n",
      "    \u001B[39;22mb\u001B[35m:f32[]\u001B[39m = log a\n",
      "    c\u001B[35m:f32[]\u001B[39m = log 2.0:f32[]\n",
      "    d\u001B[35m:f32[]\u001B[39m = div b c\n",
      "  \u001B[34;1min \u001B[39;22m(d,) }\n"
     ]
    }
   ],
   "execution_count": 2
  },
  {
   "metadata": {
    "ExecuteTime": {
     "end_time": "2025-10-24T02:56:17.793582Z",
     "start_time": "2025-10-24T02:56:17.240856Z"
    }
   },
   "cell_type": "code",
   "source": "jax.jit(log2_with_print)(4) #可以看到 print的输出只在第一次运行的时候出现，因为第一次运行会被编译成jaxpr",
   "id": "f0455358bcee1ae8",
   "outputs": [
    {
     "name": "stdout",
     "output_type": "stream",
     "text": [
      "printed x: JitTracer<~int32[]>\n"
     ]
    },
    {
     "data": {
      "text/plain": [
       "Array(2., dtype=float32, weak_type=True)"
      ]
     },
     "execution_count": 3,
     "metadata": {},
     "output_type": "execute_result"
    }
   ],
   "execution_count": 3
  },
  {
   "metadata": {
    "ExecuteTime": {
     "end_time": "2025-10-24T02:56:20.502115Z",
     "start_time": "2025-10-24T02:56:20.498473Z"
    }
   },
   "cell_type": "code",
   "source": "jax.jit(log2_with_print)(5) # 第二次运行的时候不会有print的输出，因为已经编译过了",
   "id": "a73d8e4a25ffad92",
   "outputs": [
    {
     "data": {
      "text/plain": [
       "Array(2.321928, dtype=float32, weak_type=True)"
      ]
     },
     "execution_count": 4,
     "metadata": {},
     "output_type": "execute_result"
    }
   ],
   "execution_count": 4
  },
  {
   "metadata": {
    "ExecuteTime": {
     "end_time": "2025-10-24T02:56:42.480035Z",
     "start_time": "2025-10-24T02:56:42.465199Z"
    }
   },
   "cell_type": "code",
   "source": [
    "# Jax.jit 和 python 的标准流程控制的关系需要注意\n",
    "# A key thing to understand is that a jaxpr captures the function as executed on the parameters given to it. For example, if we have a Python conditional, the jaxpr will only know about the branch we take:\n",
    "\n",
    "def log2_if_rank_2(x):\n",
    "  if x.ndim == 2:\n",
    "    ln_x = jnp.log(x)\n",
    "    ln_2 = jnp.log(2.0)\n",
    "    return ln_x / ln_2\n",
    "  else:\n",
    "    return x\n",
    "\n",
    "print(jax.make_jaxpr(log2_if_rank_2)(jax.numpy.array([1, 2, 3])))"
   ],
   "id": "9d1116dbd2ee8d8",
   "outputs": [
    {
     "name": "stdout",
     "output_type": "stream",
     "text": [
      "{ \u001B[34;1mlambda \u001B[39;22m; a\u001B[35m:i32[3]\u001B[39m. \u001B[34;1mlet\u001B[39;22m  \u001B[34;1min \u001B[39;22m(a,) }\n"
     ]
    }
   ],
   "execution_count": 5
  },
  {
   "metadata": {},
   "cell_type": "markdown",
   "source": "# JIT compiling a function",
   "id": "a8d4254bf9d31ffc"
  },
  {
   "metadata": {
    "ExecuteTime": {
     "end_time": "2025-10-24T02:57:55.460312Z",
     "start_time": "2025-10-24T02:57:46.851212Z"
    }
   },
   "cell_type": "code",
   "source": [
    "# JIT编译一个函数得到更好的性能\n",
    "def selu(x, alpha=1.67, lambda_=1.05):\n",
    "  return lambda_ * jnp.where(x > 0, x, alpha * jnp.exp(x) - alpha)\n",
    "\n",
    "x = jnp.arange(1000000)\n",
    "%timeit selu(x).block_until_ready()\n",
    "\n",
    "\n",
    "selu_jit = jax.jit(selu)\n",
    "\n",
    "# Pre-compile the function before timing...\n",
    "selu_jit(x).block_until_ready()\n",
    "\n",
    "%timeit selu_jit(x).block_until_ready()"
   ],
   "id": "3796e916c9b83471",
   "outputs": [
    {
     "name": "stdout",
     "output_type": "stream",
     "text": [
      "2.65 ms ± 147 μs per loop (mean ± std. dev. of 7 runs, 100 loops each)\n",
      "778 μs ± 49.9 μs per loop (mean ± std. dev. of 7 runs, 1,000 loops each)\n"
     ]
    }
   ],
   "execution_count": 6
  },
  {
   "metadata": {
    "ExecuteTime": {
     "end_time": "2025-10-24T02:59:16.805878Z",
     "start_time": "2025-10-24T02:59:16.741214Z"
    }
   },
   "cell_type": "code",
   "source": [
    "# 有时候jit整个函数不太好操作，这个时候，我们可以jit函数的某一部分\n",
    "\n",
    "@jax.jit\n",
    "def loop_body(prev_i):\n",
    "  return prev_i + 1\n",
    "\n",
    "def g_inner_jitted(x, n):\n",
    "  i = 0\n",
    "  while i < n:\n",
    "    i = loop_body(i)\n",
    "  return x + i\n",
    "\n",
    "g_inner_jitted(10, 20)"
   ],
   "id": "838500b9e091e68f",
   "outputs": [
    {
     "data": {
      "text/plain": [
       "Array(30, dtype=int32, weak_type=True)"
      ]
     },
     "execution_count": 7,
     "metadata": {},
     "output_type": "execute_result"
    }
   ],
   "execution_count": 7
  },
  {
   "metadata": {
    "ExecuteTime": {
     "end_time": "2025-10-24T02:59:41.988736Z",
     "start_time": "2025-10-24T02:59:41.976295Z"
    }
   },
   "cell_type": "code",
   "source": [
    "# Condition on value of x.\n",
    "\n",
    "def f(x):\n",
    "  if x > 0:\n",
    "    return x\n",
    "  else:\n",
    "    return 2 * x\n",
    "# 这个函数的jit编译会失败，因为它的分支条件是基于x的值\n",
    "\n",
    "# 但是可以用 static_argnums 来解决这个问题\n",
    "f_jit_correct = jax.jit(f, static_argnums=0)\n",
    "print(f_jit_correct(10))"
   ],
   "id": "4f53b75e3447b2b1",
   "outputs": [
    {
     "name": "stdout",
     "output_type": "stream",
     "text": [
      "10\n"
     ]
    }
   ],
   "execution_count": 8
  },
  {
   "metadata": {},
   "cell_type": "code",
   "source": [
    "# static 的另一个例子\n",
    "def g(x, n):\n",
    "  i = 0\n",
    "  while i < n:\n",
    "    i += 1\n",
    "  return x + i\n",
    "\n",
    "# jax.jit(g)(10, 20)  # 会报错\n",
    "\n",
    "# 但是可以用 static_argnames 来解决这个问题\n",
    "g_jit_correct = jax.jit(g, static_argnames=['n'])\n",
    "print(g_jit_correct(114514, 20))"
   ],
   "id": "2069b1c4389d901b",
   "outputs": [],
   "execution_count": null
  },
  {
   "metadata": {
    "ExecuteTime": {
     "end_time": "2025-10-24T03:04:34.080286Z",
     "start_time": "2025-10-24T03:04:19.628408Z"
    }
   },
   "cell_type": "code",
   "source": [
    "# 要注意，对于 partial 和 lambda 来说，jit会每次都重新编译，因为它们的hash值是不同的\n",
    "from functools import partial\n",
    "\n",
    "def unjitted_loop_body(prev_i):\n",
    "  return prev_i + 1\n",
    "\n",
    "def g_inner_jitted_partial(x, n):\n",
    "  i = 0\n",
    "  while i < n:\n",
    "    # Don't do this! each time the partial returns\n",
    "    # a function with different hash\n",
    "    i = jax.jit(partial(unjitted_loop_body))(i)\n",
    "  return x + i\n",
    "\n",
    "def g_inner_jitted_lambda(x, n):\n",
    "  i = 0\n",
    "  while i < n:\n",
    "    # Don't do this!, lambda will also return\n",
    "    # a function with a different hash\n",
    "    i = jax.jit(lambda x: unjitted_loop_body(x))(i)\n",
    "  return x + i\n",
    "\n",
    "def g_inner_jitted_normal(x, n):\n",
    "  i = 0\n",
    "  while i < n:\n",
    "    # this is OK, since JAX can find the\n",
    "    # cached, compiled function\n",
    "    i = jax.jit(unjitted_loop_body)(i)\n",
    "  return x + i\n",
    "\n",
    "print(\"jit called in a loop with partials:\")\n",
    "%timeit g_inner_jitted_partial(10, 20).block_until_ready()\n",
    "\n",
    "print(\"jit called in a loop with lambdas:\")\n",
    "%timeit g_inner_jitted_lambda(10, 20).block_until_ready()\n",
    "\n",
    "print(\"jit called in a loop with caching:\")\n",
    "%timeit g_inner_jitted_normal(10, 20).block_until_ready()"
   ],
   "id": "b83131499051769",
   "outputs": [
    {
     "name": "stdout",
     "output_type": "stream",
     "text": [
      "jit called in a loop with partials:\n",
      "249 ms ± 6.03 ms per loop (mean ± std. dev. of 7 runs, 1 loop each)\n",
      "jit called in a loop with lambdas:\n",
      "249 ms ± 12.2 ms per loop (mean ± std. dev. of 7 runs, 1 loop each)\n",
      "jit called in a loop with caching:\n",
      "1.3 ms ± 78.8 μs per loop (mean ± std. dev. of 7 runs, 1,000 loops each)\n"
     ]
    }
   ],
   "execution_count": 9
  }
 ],
 "metadata": {
  "kernelspec": {
   "name": "python3",
   "language": "python",
   "display_name": "Python 3 (ipykernel)"
  }
 },
 "nbformat": 4,
 "nbformat_minor": 5
}
