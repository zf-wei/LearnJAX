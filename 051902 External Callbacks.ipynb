{
 "cells": [
  {
   "metadata": {},
   "cell_type": "markdown",
   "source": "# Exploring pure_callback",
   "id": "e8370fc2aa2269a6"
  },
  {
   "metadata": {
    "ExecuteTime": {
     "end_time": "2025-05-20T03:30:09.459406Z",
     "start_time": "2025-05-20T03:29:46.696134Z"
    }
   },
   "cell_type": "code",
   "source": [
    "import jax\n",
    "import jax.numpy as jnp\n",
    "import numpy as np\n",
    "\n",
    "def f_host(x):\n",
    "  # call a numpy (not jax.numpy) operation:\n",
    "  print(\"f_host\") # 因为是 pure_callback 所以不要使用这个\n",
    "  return np.sin(x).astype(x.dtype)  # 返回一个新数组 每个元素的类型与x相同\n",
    "\n",
    "def f(x):\n",
    "  result_form = jax.ShapeDtypeStruct(x.shape, x.dtype)\n",
    "  print(\"flag\")\n",
    "  #return jax.pure_callback(f_host, result_shape, x, vmap_method='sequential')\n",
    "  # 会被转化成 numpy 数组喂进 f_host 结果出来之后会被再转化成 jax 数组\n",
    "  print(jax.pure_callback(f_host, result_form, x, vmap_method='sequential'))\n",
    "  # print(jax.pure_callback(f_host, None, x, vmap_method='sequential'))  # 如果写成 None 那么f_host里面的打印语句就不会执行\n",
    "\n",
    "  print(\"f_host done\")\n",
    "\n",
    "x = jnp.arange(5.0) # 32位浮点数\n",
    "f(x)"
   ],
   "id": "37e965afda557f38",
   "outputs": [
    {
     "name": "stdout",
     "output_type": "stream",
     "text": [
      "flag\n",
      "f_host\n",
      "[ 0.         0.841471   0.9092974  0.14112   -0.7568025]\n",
      "f_host done\n"
     ]
    }
   ],
   "execution_count": 1
  },
  {
   "metadata": {
    "ExecuteTime": {
     "end_time": "2025-05-20T03:30:09.572336Z",
     "start_time": "2025-05-20T03:30:09.484100Z"
    }
   },
   "cell_type": "code",
   "source": [
    "import jax\n",
    "import jax.numpy as jnp\n",
    "import numpy as np\n",
    "\n",
    "def f_host(x):\n",
    "  # call a numpy (not jax.numpy) operation:\n",
    "  return np.sin(x).astype(x.dtype)\n",
    "\n",
    "def f(x):\n",
    "  result_shape = jax.ShapeDtypeStruct(x.shape, x.dtype)\n",
    "  return jax.pure_callback(f_host, result_shape, x, vmap_method='sequential')\n",
    "\n",
    "x = jnp.arange(5.0)\n",
    "f(x)\n",
    "\n",
    "jax.jit(f)(x)"
   ],
   "id": "eddff510a47d1205",
   "outputs": [
    {
     "data": {
      "text/plain": [
       "Array([ 0.       ,  0.841471 ,  0.9092974,  0.14112  , -0.7568025],      dtype=float32)"
      ]
     },
     "execution_count": 2,
     "metadata": {},
     "output_type": "execute_result"
    }
   ],
   "execution_count": 2
  },
  {
   "metadata": {
    "ExecuteTime": {
     "end_time": "2025-05-20T03:30:10.820411Z",
     "start_time": "2025-05-20T03:30:10.704953Z"
    }
   },
   "cell_type": "code",
   "source": [
    "def body_fun(_, x):\n",
    "  return _, f(x)\n",
    "jax.lax.scan(body_fun, None, jnp.arange(6.0))[1]"
   ],
   "id": "5cabe2a810e40aaa",
   "outputs": [
    {
     "data": {
      "text/plain": [
       "Array([ 0.       ,  0.841471 ,  0.9092974,  0.14112  , -0.7568025,\n",
       "       -0.9589243], dtype=float32)"
      ]
     },
     "execution_count": 3,
     "metadata": {},
     "output_type": "execute_result"
    }
   ],
   "execution_count": 3
  },
  {
   "metadata": {
    "ExecuteTime": {
     "end_time": "2025-05-20T03:30:10.954267Z",
     "start_time": "2025-05-20T03:30:10.871970Z"
    }
   },
   "cell_type": "code",
   "source": "jax.vmap(f)(x)",
   "id": "731ffe036a5a1f29",
   "outputs": [
    {
     "data": {
      "text/plain": [
       "Array([ 0.       ,  0.841471 ,  0.9092974,  0.14112  , -0.7568025],      dtype=float32)"
      ]
     },
     "execution_count": 4,
     "metadata": {},
     "output_type": "execute_result"
    }
   ],
   "execution_count": 4
  },
  {
   "metadata": {
    "ExecuteTime": {
     "end_time": "2025-05-20T03:30:11.008833Z",
     "start_time": "2025-05-20T03:30:11.001279Z"
    }
   },
   "cell_type": "code",
   "source": [
    "# jax.grad(f)(x)\n",
    "\n",
    "# ValueError: Pure callbacks do not support JVP. Please use `jax.custom_jvp` to use callbacks while taking gradients."
   ],
   "id": "70f3148bb5fd10bb",
   "outputs": [],
   "execution_count": 5
  },
  {
   "metadata": {},
   "cell_type": "markdown",
   "source": [
    "jax.pure_callback 参数总结\n",
    "\n",
    "jax.pure_callback(callback, result_shape_dtypes, *args, vectorized=False, vmap_method='sequential', **kwargs)\n",
    "\n",
    "callback:\n",
    "\n",
    "你的 Python 函数: 在 CPU (宿主端) 执行，可以包含 NumPy 等非 JAX 操作。\n",
    "输入 JAX 数组会转为 NumPy 数组，输出必须是 NumPy 数组。\n",
    "result_shape_dtypes:\n",
    "\n",
    "结果描述: 告诉 JAX 你的 callback 函数将返回什么形状 (shape) 和数据类型 (dtype) 的结果。\n",
    "通常是 jax.ShapeDtypeStruct 对象或其 Pytree。JAX 在编译时需要这个静态信息。\n",
    "*args:\n",
    "\n",
    "输入参数: 传递给 callback 函数的位置参数。\n",
    "vectorized (可选, 默认为 False):\n",
    "\n",
    "向量化回调: 如果 True，表示你的 callback 函数本身就能处理批处理输入 (当 pure_callback 被 jax.vmap 时)。\n",
    "vmap_method (可选, 默认为 'sequential'):\n",
    "\n",
    "vmap 方式: 当 pure_callback 被 jax.vmap 且 vectorized=False 时，callback 如何处理批处理数据 (如：'sequential' 顺序执行，'parallel' 并行执行)。\n",
    "**kwargs (可选):\n",
    "\n",
    "关键字输入: 传递给 callback 函数的关键字参数。\n",
    "jax.lax.scan 参数总结\n",
    "\n",
    "jax.lax.scan(f, init, xs, length=None, reverse=False, unroll=1)\n",
    "\n",
    "f (通常也叫 body_fun):\n",
    "\n",
    "循环体函数: 在每个迭代步骤中执行的函数。\n",
    "函数签名必须是：def body_fun(carry, x): -> (new_carry, y)\n",
    "carry: 上一步的“携带状态”。\n",
    "x: 来自输入序列 xs 的当前元素。\n",
    "new_carry: 更新后的“携带状态”，传给下一步。\n",
    "y: 当前步骤的输出，会被收集起来。\n",
    "init:\n",
    "\n",
    "初始状态: “携带状态 (carry)”的初始值。\n",
    "xs:\n",
    "\n",
    "输入序列: 要迭代处理的 JAX 数组或 Pytree。scan 会沿着它的主轴进行迭代。\n",
    "length (可选):\n",
    "\n",
    "迭代次数: 指定循环执行的固定次数，而不是从 xs 的长度推断。\n",
    "reverse (可选, 默认为 False):\n",
    "\n",
    "反向扫描: 如果为 True，则反向遍历输入序列 xs。\n",
    "unroll (可选, 默认为 1):\n",
    "\n",
    "循环展开: 编译器优化参数，指定循环展开的程度。\n",
    "scan 返回值: (final_carry, ys_stacked)\n",
    "\n",
    "final_carry: 最后一个 new_carry。\n",
    "ys_stacked: 所有 y 输出堆叠成的数组。"
   ],
   "id": "68a75bbf1a274344"
  },
  {
   "metadata": {
    "ExecuteTime": {
     "end_time": "2025-05-20T03:30:11.103972Z",
     "start_time": "2025-05-20T03:30:11.064841Z"
    }
   },
   "cell_type": "code",
   "source": [
    "def print_something():\n",
    "  print('printing something')\n",
    "  return np.int32(0)\n",
    "\n",
    "@jax.jit\n",
    "def f1():\n",
    "  return jax.pure_callback(print_something, np.int32(0)) # 省略了参数\n",
    "f1();"
   ],
   "id": "2a0f76e35da4ca9c",
   "outputs": [
    {
     "name": "stdout",
     "output_type": "stream",
     "text": [
      "printing something\n"
     ]
    }
   ],
   "execution_count": 6
  },
  {
   "metadata": {
    "ExecuteTime": {
     "end_time": "2025-05-20T03:30:11.191047Z",
     "start_time": "2025-05-20T03:30:11.149155Z"
    }
   },
   "cell_type": "code",
   "source": [
    "@jax.jit\n",
    "def f2():\n",
    "  jax.pure_callback(print_something, np.int32(0))\n",
    "  return 1.0\n",
    "f2(); # 这里的 print_something 不会被执行。实际上 callback 函数的返回值没有被用到，所以 callback 函数根本不会被执行"
   ],
   "id": "4482a5ede1d4a828",
   "outputs": [],
   "execution_count": 7
  },
  {
   "metadata": {},
   "cell_type": "markdown",
   "source": [
    "所以jax中pure_callback有什么用处？\n",
    "\n",
    "总结来说，jax.pure_callback 的主要用处是：\n",
    "\n",
    "当你需要在 JAX 的高性能、可转换的计算环境中，集成那些本质上不属于这个环境的、在宿主端执行的 Python/NumPy 代码时，它提供了一个必要的接口。它非常有用，但也因为其固有的开销和限制，应该在真正需要的时候才审慎使用。"
   ],
   "id": "a772d9b92b85c631"
  },
  {
   "metadata": {},
   "cell_type": "markdown",
   "source": "# Exploring io_callback",
   "id": "bbaa7a157c06aa4f"
  },
  {
   "metadata": {
    "ExecuteTime": {
     "end_time": "2025-05-20T03:30:11.886010Z",
     "start_time": "2025-05-20T03:30:11.222990Z"
    }
   },
   "cell_type": "code",
   "source": [
    "from jax.experimental import io_callback\n",
    "from functools import partial\n",
    "\n",
    "global_rng = np.random.default_rng(0)\n",
    "\n",
    "def host_side_random_like(x):\n",
    "  \"\"\"Generate a random array like x using the global_rng state\"\"\"\n",
    "  # We have two side-effects here:\n",
    "  # - printing the shape and dtype\n",
    "  # - calling global_rng, thus updating its state\n",
    "  print(f'generating {x.dtype}{list(x.shape)}')\n",
    "  return global_rng.uniform(size=x.shape).astype(x.dtype)\n",
    "\n",
    "@jax.jit\n",
    "def numpy_random_like(x):\n",
    "  return io_callback(host_side_random_like, x, x)\n",
    "\n",
    "x = jnp.zeros(5)\n",
    "numpy_random_like(x)"
   ],
   "id": "d7024f71c3d96bad",
   "outputs": [
    {
     "name": "stdout",
     "output_type": "stream",
     "text": [
      "generating float32[5]\n"
     ]
    },
    {
     "data": {
      "text/plain": [
       "Array([0.6369617 , 0.26978672, 0.04097353, 0.01652764, 0.8132702 ],      dtype=float32)"
      ]
     },
     "execution_count": 8,
     "metadata": {},
     "output_type": "execute_result"
    }
   ],
   "execution_count": 8
  },
  {
   "metadata": {
    "ExecuteTime": {
     "end_time": "2025-05-20T03:30:12.006540Z",
     "start_time": "2025-05-20T03:30:11.917846Z"
    }
   },
   "cell_type": "code",
   "source": "jax.vmap(numpy_random_like)(x)",
   "id": "21073e033fd1c6ae",
   "outputs": [
    {
     "name": "stdout",
     "output_type": "stream",
     "text": [
      "generating float32[]\n",
      "generating float32[]\n",
      "generating float32[]\n",
      "generating float32[]\n",
      "generating float32[]\n"
     ]
    },
    {
     "data": {
      "text/plain": [
       "Array([0.91275555, 0.60663575, 0.72949654, 0.543625  , 0.9350724 ],      dtype=float32)"
      ]
     },
     "execution_count": 9,
     "metadata": {},
     "output_type": "execute_result"
    }
   ],
   "execution_count": 9
  },
  {
   "metadata": {
    "ExecuteTime": {
     "end_time": "2025-05-20T03:30:16.856773Z",
     "start_time": "2025-05-20T03:30:12.059053Z"
    }
   },
   "cell_type": "code",
   "source": [
    "# 这里的 ordered=True 会导致每个 io_callback 都是顺序执行的\n",
    "# 但是这和 vmap 有冲突\n",
    "# 所以会报错\n",
    "\n",
    "@jax.jit\n",
    "def numpy_random_like_ordered(x):\n",
    "  return io_callback(host_side_random_like, x, x, ordered=True)\n",
    "# 这里的 ordered=True 会导致每个 io_callback 都是顺序执行的\n",
    "# 但是这和 vmap 有冲突\n",
    "\n",
    "jax.vmap(numpy_random_like_ordered)(x)"
   ],
   "id": "5e51208e6afc1694",
   "outputs": [
    {
     "ename": "ValueError",
     "evalue": "Cannot `vmap` ordered IO callback.",
     "output_type": "error",
     "traceback": [
      "\u001B[31m---------------------------------------------------------------------------\u001B[39m",
      "\u001B[31mJaxStackTraceBeforeTransformation\u001B[39m         Traceback (most recent call last)",
      "\u001B[36mFile \u001B[39m\u001B[32m<frozen runpy>:198\u001B[39m, in \u001B[36m_run_module_as_main\u001B[39m\u001B[34m()\u001B[39m\n",
      "\u001B[36mFile \u001B[39m\u001B[32m<frozen runpy>:88\u001B[39m, in \u001B[36m_run_code\u001B[39m\u001B[34m()\u001B[39m\n",
      "\u001B[36mFile \u001B[39m\u001B[32m~\\OneDrive - PNNL\\iPad\\Virtualenv\\JAX\\.venv\\Lib\\site-packages\\ipykernel_launcher.py:18\u001B[39m\n\u001B[32m     16\u001B[39m \u001B[38;5;28;01mfrom\u001B[39;00m\u001B[38;5;250m \u001B[39m\u001B[34;01mipykernel\u001B[39;00m\u001B[38;5;250m \u001B[39m\u001B[38;5;28;01mimport\u001B[39;00m kernelapp \u001B[38;5;28;01mas\u001B[39;00m app\n\u001B[32m---> \u001B[39m\u001B[32m18\u001B[39m app.launch_new_instance()\n",
      "\u001B[36mFile \u001B[39m\u001B[32m~\\OneDrive - PNNL\\iPad\\Virtualenv\\JAX\\.venv\\Lib\\site-packages\\traitlets\\config\\application.py:1075\u001B[39m, in \u001B[36mlaunch_instance\u001B[39m\u001B[34m()\u001B[39m\n\u001B[32m   1074\u001B[39m app.initialize(argv)\n\u001B[32m-> \u001B[39m\u001B[32m1075\u001B[39m app.start()\n",
      "\u001B[36mFile \u001B[39m\u001B[32m~\\OneDrive - PNNL\\iPad\\Virtualenv\\JAX\\.venv\\Lib\\site-packages\\ipykernel\\kernelapp.py:739\u001B[39m, in \u001B[36mstart\u001B[39m\u001B[34m()\u001B[39m\n\u001B[32m    738\u001B[39m \u001B[38;5;28;01mtry\u001B[39;00m:\n\u001B[32m--> \u001B[39m\u001B[32m739\u001B[39m     \u001B[38;5;28mself\u001B[39m.io_loop.start()\n\u001B[32m    740\u001B[39m \u001B[38;5;28;01mexcept\u001B[39;00m \u001B[38;5;167;01mKeyboardInterrupt\u001B[39;00m:\n",
      "\u001B[36mFile \u001B[39m\u001B[32m~\\OneDrive - PNNL\\iPad\\Virtualenv\\JAX\\.venv\\Lib\\site-packages\\tornado\\platform\\asyncio.py:205\u001B[39m, in \u001B[36mstart\u001B[39m\u001B[34m()\u001B[39m\n\u001B[32m    204\u001B[39m \u001B[38;5;28;01mdef\u001B[39;00m\u001B[38;5;250m \u001B[39m\u001B[34mstart\u001B[39m(\u001B[38;5;28mself\u001B[39m) -> \u001B[38;5;28;01mNone\u001B[39;00m:\n\u001B[32m--> \u001B[39m\u001B[32m205\u001B[39m     \u001B[38;5;28mself\u001B[39m.asyncio_loop.run_forever()\n",
      "\u001B[36mFile \u001B[39m\u001B[32m~\\AppData\\Local\\Programs\\Python\\Python311\\Lib\\asyncio\\base_events.py:608\u001B[39m, in \u001B[36mrun_forever\u001B[39m\u001B[34m()\u001B[39m\n\u001B[32m    607\u001B[39m \u001B[38;5;28;01mwhile\u001B[39;00m \u001B[38;5;28;01mTrue\u001B[39;00m:\n\u001B[32m--> \u001B[39m\u001B[32m608\u001B[39m     \u001B[38;5;28mself\u001B[39m._run_once()\n\u001B[32m    609\u001B[39m     \u001B[38;5;28;01mif\u001B[39;00m \u001B[38;5;28mself\u001B[39m._stopping:\n",
      "\u001B[36mFile \u001B[39m\u001B[32m~\\AppData\\Local\\Programs\\Python\\Python311\\Lib\\asyncio\\base_events.py:1936\u001B[39m, in \u001B[36m_run_once\u001B[39m\u001B[34m()\u001B[39m\n\u001B[32m   1935\u001B[39m     \u001B[38;5;28;01melse\u001B[39;00m:\n\u001B[32m-> \u001B[39m\u001B[32m1936\u001B[39m         handle._run()\n\u001B[32m   1937\u001B[39m handle = \u001B[38;5;28;01mNone\u001B[39;00m\n",
      "\u001B[36mFile \u001B[39m\u001B[32m~\\AppData\\Local\\Programs\\Python\\Python311\\Lib\\asyncio\\events.py:84\u001B[39m, in \u001B[36m_run\u001B[39m\u001B[34m()\u001B[39m\n\u001B[32m     83\u001B[39m \u001B[38;5;28;01mtry\u001B[39;00m:\n\u001B[32m---> \u001B[39m\u001B[32m84\u001B[39m     \u001B[38;5;28mself\u001B[39m._context.run(\u001B[38;5;28mself\u001B[39m._callback, *\u001B[38;5;28mself\u001B[39m._args)\n\u001B[32m     85\u001B[39m \u001B[38;5;28;01mexcept\u001B[39;00m (\u001B[38;5;167;01mSystemExit\u001B[39;00m, \u001B[38;5;167;01mKeyboardInterrupt\u001B[39;00m):\n",
      "\u001B[36mFile \u001B[39m\u001B[32m~\\OneDrive - PNNL\\iPad\\Virtualenv\\JAX\\.venv\\Lib\\site-packages\\ipykernel\\kernelbase.py:545\u001B[39m, in \u001B[36mdispatch_queue\u001B[39m\u001B[34m()\u001B[39m\n\u001B[32m    544\u001B[39m \u001B[38;5;28;01mtry\u001B[39;00m:\n\u001B[32m--> \u001B[39m\u001B[32m545\u001B[39m     \u001B[38;5;28;01mawait\u001B[39;00m \u001B[38;5;28mself\u001B[39m.process_one()\n\u001B[32m    546\u001B[39m \u001B[38;5;28;01mexcept\u001B[39;00m \u001B[38;5;167;01mException\u001B[39;00m:\n",
      "\u001B[36mFile \u001B[39m\u001B[32m~\\OneDrive - PNNL\\iPad\\Virtualenv\\JAX\\.venv\\Lib\\site-packages\\ipykernel\\kernelbase.py:534\u001B[39m, in \u001B[36mprocess_one\u001B[39m\u001B[34m()\u001B[39m\n\u001B[32m    533\u001B[39m         \u001B[38;5;28;01mreturn\u001B[39;00m\n\u001B[32m--> \u001B[39m\u001B[32m534\u001B[39m \u001B[38;5;28;01mawait\u001B[39;00m dispatch(*args)\n",
      "\u001B[36mFile \u001B[39m\u001B[32m~\\OneDrive - PNNL\\iPad\\Virtualenv\\JAX\\.venv\\Lib\\site-packages\\ipykernel\\kernelbase.py:437\u001B[39m, in \u001B[36mdispatch_shell\u001B[39m\u001B[34m()\u001B[39m\n\u001B[32m    436\u001B[39m     \u001B[38;5;28;01mif\u001B[39;00m inspect.isawaitable(result):\n\u001B[32m--> \u001B[39m\u001B[32m437\u001B[39m         \u001B[38;5;28;01mawait\u001B[39;00m result\n\u001B[32m    438\u001B[39m \u001B[38;5;28;01mexcept\u001B[39;00m \u001B[38;5;167;01mException\u001B[39;00m:\n",
      "\u001B[36mFile \u001B[39m\u001B[32m~\\OneDrive - PNNL\\iPad\\Virtualenv\\JAX\\.venv\\Lib\\site-packages\\ipykernel\\ipkernel.py:362\u001B[39m, in \u001B[36mexecute_request\u001B[39m\u001B[34m()\u001B[39m\n\u001B[32m    361\u001B[39m \u001B[38;5;28mself\u001B[39m._associate_new_top_level_threads_with(parent_header)\n\u001B[32m--> \u001B[39m\u001B[32m362\u001B[39m \u001B[38;5;28;01mawait\u001B[39;00m \u001B[38;5;28msuper\u001B[39m().execute_request(stream, ident, parent)\n",
      "\u001B[36mFile \u001B[39m\u001B[32m~\\OneDrive - PNNL\\iPad\\Virtualenv\\JAX\\.venv\\Lib\\site-packages\\ipykernel\\kernelbase.py:778\u001B[39m, in \u001B[36mexecute_request\u001B[39m\u001B[34m()\u001B[39m\n\u001B[32m    777\u001B[39m \u001B[38;5;28;01mif\u001B[39;00m inspect.isawaitable(reply_content):\n\u001B[32m--> \u001B[39m\u001B[32m778\u001B[39m     reply_content = \u001B[38;5;28;01mawait\u001B[39;00m reply_content\n\u001B[32m    780\u001B[39m \u001B[38;5;66;03m# Flush output before sending the reply.\u001B[39;00m\n",
      "\u001B[36mFile \u001B[39m\u001B[32m~\\OneDrive - PNNL\\iPad\\Virtualenv\\JAX\\.venv\\Lib\\site-packages\\ipykernel\\ipkernel.py:449\u001B[39m, in \u001B[36mdo_execute\u001B[39m\u001B[34m()\u001B[39m\n\u001B[32m    448\u001B[39m \u001B[38;5;28;01mif\u001B[39;00m accepts_params[\u001B[33m\"\u001B[39m\u001B[33mcell_id\u001B[39m\u001B[33m\"\u001B[39m]:\n\u001B[32m--> \u001B[39m\u001B[32m449\u001B[39m     res = shell.run_cell(\n\u001B[32m    450\u001B[39m         code,\n\u001B[32m    451\u001B[39m         store_history=store_history,\n\u001B[32m    452\u001B[39m         silent=silent,\n\u001B[32m    453\u001B[39m         cell_id=cell_id,\n\u001B[32m    454\u001B[39m     )\n\u001B[32m    455\u001B[39m \u001B[38;5;28;01melse\u001B[39;00m:\n",
      "\u001B[36mFile \u001B[39m\u001B[32m~\\OneDrive - PNNL\\iPad\\Virtualenv\\JAX\\.venv\\Lib\\site-packages\\ipykernel\\zmqshell.py:549\u001B[39m, in \u001B[36mrun_cell\u001B[39m\u001B[34m()\u001B[39m\n\u001B[32m    548\u001B[39m \u001B[38;5;28mself\u001B[39m._last_traceback = \u001B[38;5;28;01mNone\u001B[39;00m\n\u001B[32m--> \u001B[39m\u001B[32m549\u001B[39m \u001B[38;5;28;01mreturn\u001B[39;00m \u001B[38;5;28msuper\u001B[39m().run_cell(*args, **kwargs)\n",
      "\u001B[36mFile \u001B[39m\u001B[32m~\\OneDrive - PNNL\\iPad\\Virtualenv\\JAX\\.venv\\Lib\\site-packages\\IPython\\core\\interactiveshell.py:3098\u001B[39m, in \u001B[36mrun_cell\u001B[39m\u001B[34m()\u001B[39m\n\u001B[32m   3097\u001B[39m \u001B[38;5;28;01mtry\u001B[39;00m:\n\u001B[32m-> \u001B[39m\u001B[32m3098\u001B[39m     result = \u001B[38;5;28mself\u001B[39m._run_cell(\n\u001B[32m   3099\u001B[39m         raw_cell, store_history, silent, shell_futures, cell_id\n\u001B[32m   3100\u001B[39m     )\n\u001B[32m   3101\u001B[39m \u001B[38;5;28;01mfinally\u001B[39;00m:\n",
      "\u001B[36mFile \u001B[39m\u001B[32m~\\OneDrive - PNNL\\iPad\\Virtualenv\\JAX\\.venv\\Lib\\site-packages\\IPython\\core\\interactiveshell.py:3153\u001B[39m, in \u001B[36m_run_cell\u001B[39m\u001B[34m()\u001B[39m\n\u001B[32m   3152\u001B[39m \u001B[38;5;28;01mtry\u001B[39;00m:\n\u001B[32m-> \u001B[39m\u001B[32m3153\u001B[39m     result = runner(coro)\n\u001B[32m   3154\u001B[39m \u001B[38;5;28;01mexcept\u001B[39;00m \u001B[38;5;167;01mBaseException\u001B[39;00m \u001B[38;5;28;01mas\u001B[39;00m e:\n",
      "\u001B[36mFile \u001B[39m\u001B[32m~\\OneDrive - PNNL\\iPad\\Virtualenv\\JAX\\.venv\\Lib\\site-packages\\IPython\\core\\async_helpers.py:128\u001B[39m, in \u001B[36m_pseudo_sync_runner\u001B[39m\u001B[34m()\u001B[39m\n\u001B[32m    127\u001B[39m \u001B[38;5;28;01mtry\u001B[39;00m:\n\u001B[32m--> \u001B[39m\u001B[32m128\u001B[39m     coro.send(\u001B[38;5;28;01mNone\u001B[39;00m)\n\u001B[32m    129\u001B[39m \u001B[38;5;28;01mexcept\u001B[39;00m \u001B[38;5;167;01mStopIteration\u001B[39;00m \u001B[38;5;28;01mas\u001B[39;00m exc:\n",
      "\u001B[36mFile \u001B[39m\u001B[32m~\\OneDrive - PNNL\\iPad\\Virtualenv\\JAX\\.venv\\Lib\\site-packages\\IPython\\core\\interactiveshell.py:3365\u001B[39m, in \u001B[36mrun_cell_async\u001B[39m\u001B[34m()\u001B[39m\n\u001B[32m   3362\u001B[39m interactivity = \u001B[33m\"\u001B[39m\u001B[33mnone\u001B[39m\u001B[33m\"\u001B[39m \u001B[38;5;28;01mif\u001B[39;00m silent \u001B[38;5;28;01melse\u001B[39;00m \u001B[38;5;28mself\u001B[39m.ast_node_interactivity\n\u001B[32m-> \u001B[39m\u001B[32m3365\u001B[39m has_raised = \u001B[38;5;28;01mawait\u001B[39;00m \u001B[38;5;28mself\u001B[39m.run_ast_nodes(code_ast.body, cell_name,\n\u001B[32m   3366\u001B[39m        interactivity=interactivity, compiler=compiler, result=result)\n\u001B[32m   3368\u001B[39m \u001B[38;5;28mself\u001B[39m.last_execution_succeeded = \u001B[38;5;129;01mnot\u001B[39;00m has_raised\n",
      "\u001B[36mFile \u001B[39m\u001B[32m~\\OneDrive - PNNL\\iPad\\Virtualenv\\JAX\\.venv\\Lib\\site-packages\\IPython\\core\\interactiveshell.py:3610\u001B[39m, in \u001B[36mrun_ast_nodes\u001B[39m\u001B[34m()\u001B[39m\n\u001B[32m   3609\u001B[39m     asy = compare(code)\n\u001B[32m-> \u001B[39m\u001B[32m3610\u001B[39m \u001B[38;5;28;01mif\u001B[39;00m \u001B[38;5;28;01mawait\u001B[39;00m \u001B[38;5;28mself\u001B[39m.run_code(code, result, async_=asy):\n\u001B[32m   3611\u001B[39m     \u001B[38;5;28;01mreturn\u001B[39;00m \u001B[38;5;28;01mTrue\u001B[39;00m\n",
      "\u001B[36mFile \u001B[39m\u001B[32m~\\OneDrive - PNNL\\iPad\\Virtualenv\\JAX\\.venv\\Lib\\site-packages\\IPython\\core\\interactiveshell.py:3670\u001B[39m, in \u001B[36mrun_code\u001B[39m\u001B[34m()\u001B[39m\n\u001B[32m   3669\u001B[39m     \u001B[38;5;28;01melse\u001B[39;00m:\n\u001B[32m-> \u001B[39m\u001B[32m3670\u001B[39m         exec(code_obj, \u001B[38;5;28mself\u001B[39m.user_global_ns, \u001B[38;5;28mself\u001B[39m.user_ns)\n\u001B[32m   3671\u001B[39m \u001B[38;5;28;01mfinally\u001B[39;00m:\n\u001B[32m   3672\u001B[39m     \u001B[38;5;66;03m# Reset our crash handler in place\u001B[39;00m\n",
      "\u001B[36mCell\u001B[39m\u001B[36m \u001B[39m\u001B[32mIn[10]\u001B[39m\u001B[32m, line 11\u001B[39m\n\u001B[32m      8\u001B[39m \u001B[38;5;66;03m# 这里的 ordered=True 会导致每个 io_callback 都是顺序执行的\u001B[39;00m\n\u001B[32m      9\u001B[39m \u001B[38;5;66;03m# 但是这和 vmap 有冲突\u001B[39;00m\n\u001B[32m---> \u001B[39m\u001B[32m11\u001B[39m jax.vmap(numpy_random_like_ordered)(x)\n",
      "\u001B[36mCell\u001B[39m\u001B[36m \u001B[39m\u001B[32mIn[10]\u001B[39m\u001B[32m, line 7\u001B[39m, in \u001B[36mnumpy_random_like_ordered\u001B[39m\u001B[34m()\u001B[39m\n\u001B[32m      5\u001B[39m \u001B[38;5;129m@jax\u001B[39m.jit\n\u001B[32m      6\u001B[39m \u001B[38;5;28;01mdef\u001B[39;00m\u001B[38;5;250m \u001B[39m\u001B[34mnumpy_random_like_ordered\u001B[39m(x):\n\u001B[32m----> \u001B[39m\u001B[32m7\u001B[39m   \u001B[38;5;28;01mreturn\u001B[39;00m io_callback(host_side_random_like, x, x, ordered=\u001B[38;5;28;01mTrue\u001B[39;00m)\n",
      "\u001B[36mFile \u001B[39m\u001B[32m~\\OneDrive - PNNL\\iPad\\Virtualenv\\JAX\\.venv\\Lib\\site-packages\\jax\\_src\\callback.py:585\u001B[39m, in \u001B[36mio_callback\u001B[39m\u001B[34m()\u001B[39m\n\u001B[32m    583\u001B[39m flat_result_avals = \u001B[38;5;28mmap\u001B[39m(\u001B[38;5;28;01mlambda\u001B[39;00m x: core.ShapedArray(x.shape, x.dtype),\n\u001B[32m    584\u001B[39m                         flat_shape_dtypes)\n\u001B[32m--> \u001B[39m\u001B[32m585\u001B[39m out_flat = io_callback_p.bind(\n\u001B[32m    586\u001B[39m     *flat_args,\n\u001B[32m    587\u001B[39m     callback=_FlatCallback(callback, in_tree),\n\u001B[32m    588\u001B[39m     result_avals=\u001B[38;5;28mtuple\u001B[39m(flat_result_avals),\n\u001B[32m    589\u001B[39m     sharding=sharding,\n\u001B[32m    590\u001B[39m     ordered=ordered,\n\u001B[32m    591\u001B[39m )\n\u001B[32m    592\u001B[39m \u001B[38;5;28;01mreturn\u001B[39;00m tree_util.tree_unflatten(out_tree, out_flat)\n",
      "\u001B[31mJaxStackTraceBeforeTransformation\u001B[39m: ValueError: Cannot `vmap` ordered IO callback.\n\nThe preceding stack trace is the source of the JAX operation that, once transformed by JAX, triggered the following exception.\n\n--------------------",
      "\nThe above exception was the direct cause of the following exception:\n",
      "\u001B[31mValueError\u001B[39m                                Traceback (most recent call last)",
      "\u001B[36mCell\u001B[39m\u001B[36m \u001B[39m\u001B[32mIn[10]\u001B[39m\u001B[32m, line 11\u001B[39m\n\u001B[32m      7\u001B[39m   \u001B[38;5;28;01mreturn\u001B[39;00m io_callback(host_side_random_like, x, x, ordered=\u001B[38;5;28;01mTrue\u001B[39;00m)\n\u001B[32m      8\u001B[39m \u001B[38;5;66;03m# 这里的 ordered=True 会导致每个 io_callback 都是顺序执行的\u001B[39;00m\n\u001B[32m      9\u001B[39m \u001B[38;5;66;03m# 但是这和 vmap 有冲突\u001B[39;00m\n\u001B[32m---> \u001B[39m\u001B[32m11\u001B[39m \u001B[43mjax\u001B[49m\u001B[43m.\u001B[49m\u001B[43mvmap\u001B[49m\u001B[43m(\u001B[49m\u001B[43mnumpy_random_like_ordered\u001B[49m\u001B[43m)\u001B[49m\u001B[43m(\u001B[49m\u001B[43mx\u001B[49m\u001B[43m)\u001B[49m\n",
      "    \u001B[31m[... skipping hidden 28 frame]\u001B[39m\n",
      "\u001B[36mFile \u001B[39m\u001B[32m~\\OneDrive - PNNL\\iPad\\Virtualenv\\JAX\\.venv\\Lib\\site-packages\\jax\\_src\\callback.py:486\u001B[39m, in \u001B[36mio_callback_batching_rule\u001B[39m\u001B[34m(args, dims, callback, result_avals, sharding, ordered)\u001B[39m\n\u001B[32m    482\u001B[39m \u001B[38;5;28;01mdef\u001B[39;00m\u001B[38;5;250m \u001B[39m\u001B[34mio_callback_batching_rule\u001B[39m(\n\u001B[32m    483\u001B[39m     args, dims, callback, result_avals, sharding, ordered\n\u001B[32m    484\u001B[39m ):\n\u001B[32m    485\u001B[39m   \u001B[38;5;28;01mif\u001B[39;00m ordered:\n\u001B[32m--> \u001B[39m\u001B[32m486\u001B[39m     \u001B[38;5;28;01mraise\u001B[39;00m \u001B[38;5;167;01mValueError\u001B[39;00m(\u001B[33m\"\u001B[39m\u001B[33mCannot `vmap` ordered IO callback.\u001B[39m\u001B[33m\"\u001B[39m)\n\u001B[32m    487\u001B[39m   is_batched = [d \u001B[38;5;129;01mis\u001B[39;00m \u001B[38;5;129;01mnot\u001B[39;00m batching.not_mapped \u001B[38;5;28;01mfor\u001B[39;00m d \u001B[38;5;129;01min\u001B[39;00m dims]\n\u001B[32m    488\u001B[39m   new_args = [arg \u001B[38;5;28;01mif\u001B[39;00m dim \u001B[38;5;129;01mis\u001B[39;00m batching.not_mapped \u001B[38;5;28;01melse\u001B[39;00m\n\u001B[32m    489\u001B[39m               batching.moveaxis(arg, dim, \u001B[32m0\u001B[39m) \u001B[38;5;28;01mfor\u001B[39;00m arg, dim \u001B[38;5;129;01min\u001B[39;00m \u001B[38;5;28mzip\u001B[39m(args, dims)]\n",
      "\u001B[31mValueError\u001B[39m: Cannot `vmap` ordered IO callback."
     ]
    }
   ],
   "execution_count": 10
  },
  {
   "metadata": {
    "ExecuteTime": {
     "end_time": "2025-05-20T03:30:29.907012Z",
     "start_time": "2025-05-20T03:30:29.835287Z"
    }
   },
   "cell_type": "code",
   "source": [
    "# scan 和 io_callback 结合使用\n",
    "# while_loop 也可以和 io_callback 结合使用\n",
    "\n",
    "def body_fun(_, x):\n",
    "  return _, numpy_random_like_ordered(x)\n",
    "jax.lax.scan(body_fun, None, jnp.arange(5.0))[1]"
   ],
   "id": "c17e42d3a7b17aa8",
   "outputs": [
    {
     "name": "stdout",
     "output_type": "stream",
     "text": [
      "generating float32[]\n",
      "generating float32[]\n",
      "generating float32[]\n",
      "generating float32[]\n",
      "generating float32[]\n"
     ]
    },
    {
     "data": {
      "text/plain": [
       "Array([0.81585354, 0.0027385 , 0.8574043 , 0.03358557, 0.72965544],      dtype=float32)"
      ]
     },
     "execution_count": 11,
     "metadata": {},
     "output_type": "execute_result"
    }
   ],
   "execution_count": 11
  },
  {
   "metadata": {
    "ExecuteTime": {
     "end_time": "2025-05-20T03:30:32.245512Z",
     "start_time": "2025-05-20T03:30:31.619920Z"
    }
   },
   "cell_type": "code",
   "source": [
    "# Like pure_callback, io_callback fails under automatic differentiation if it is passed a differentiated variable:\n",
    "# 如同 pure_callback，io_callback 在传入一个被微分的变量时会失败 因为callback 函数不是由 JAX 计算的\n",
    "\n",
    "jax.grad(numpy_random_like)(x)"
   ],
   "id": "7a6560fd2121ca06",
   "outputs": [
    {
     "ename": "ValueError",
     "evalue": "IO callbacks do not support JVP.",
     "output_type": "error",
     "traceback": [
      "\u001B[31m---------------------------------------------------------------------------\u001B[39m",
      "\u001B[31mJaxStackTraceBeforeTransformation\u001B[39m         Traceback (most recent call last)",
      "\u001B[36mFile \u001B[39m\u001B[32m<frozen runpy>:198\u001B[39m, in \u001B[36m_run_module_as_main\u001B[39m\u001B[34m()\u001B[39m\n",
      "\u001B[36mFile \u001B[39m\u001B[32m<frozen runpy>:88\u001B[39m, in \u001B[36m_run_code\u001B[39m\u001B[34m()\u001B[39m\n",
      "\u001B[36mFile \u001B[39m\u001B[32m~\\OneDrive - PNNL\\iPad\\Virtualenv\\JAX\\.venv\\Lib\\site-packages\\ipykernel_launcher.py:18\u001B[39m\n\u001B[32m     16\u001B[39m \u001B[38;5;28;01mfrom\u001B[39;00m\u001B[38;5;250m \u001B[39m\u001B[34;01mipykernel\u001B[39;00m\u001B[38;5;250m \u001B[39m\u001B[38;5;28;01mimport\u001B[39;00m kernelapp \u001B[38;5;28;01mas\u001B[39;00m app\n\u001B[32m---> \u001B[39m\u001B[32m18\u001B[39m app.launch_new_instance()\n",
      "\u001B[36mFile \u001B[39m\u001B[32m~\\OneDrive - PNNL\\iPad\\Virtualenv\\JAX\\.venv\\Lib\\site-packages\\traitlets\\config\\application.py:1075\u001B[39m, in \u001B[36mlaunch_instance\u001B[39m\u001B[34m()\u001B[39m\n\u001B[32m   1074\u001B[39m app.initialize(argv)\n\u001B[32m-> \u001B[39m\u001B[32m1075\u001B[39m app.start()\n",
      "\u001B[36mFile \u001B[39m\u001B[32m~\\OneDrive - PNNL\\iPad\\Virtualenv\\JAX\\.venv\\Lib\\site-packages\\ipykernel\\kernelapp.py:739\u001B[39m, in \u001B[36mstart\u001B[39m\u001B[34m()\u001B[39m\n\u001B[32m    738\u001B[39m \u001B[38;5;28;01mtry\u001B[39;00m:\n\u001B[32m--> \u001B[39m\u001B[32m739\u001B[39m     \u001B[38;5;28mself\u001B[39m.io_loop.start()\n\u001B[32m    740\u001B[39m \u001B[38;5;28;01mexcept\u001B[39;00m \u001B[38;5;167;01mKeyboardInterrupt\u001B[39;00m:\n",
      "\u001B[36mFile \u001B[39m\u001B[32m~\\OneDrive - PNNL\\iPad\\Virtualenv\\JAX\\.venv\\Lib\\site-packages\\tornado\\platform\\asyncio.py:205\u001B[39m, in \u001B[36mstart\u001B[39m\u001B[34m()\u001B[39m\n\u001B[32m    204\u001B[39m \u001B[38;5;28;01mdef\u001B[39;00m\u001B[38;5;250m \u001B[39m\u001B[34mstart\u001B[39m(\u001B[38;5;28mself\u001B[39m) -> \u001B[38;5;28;01mNone\u001B[39;00m:\n\u001B[32m--> \u001B[39m\u001B[32m205\u001B[39m     \u001B[38;5;28mself\u001B[39m.asyncio_loop.run_forever()\n",
      "\u001B[36mFile \u001B[39m\u001B[32m~\\AppData\\Local\\Programs\\Python\\Python311\\Lib\\asyncio\\base_events.py:608\u001B[39m, in \u001B[36mrun_forever\u001B[39m\u001B[34m()\u001B[39m\n\u001B[32m    607\u001B[39m \u001B[38;5;28;01mwhile\u001B[39;00m \u001B[38;5;28;01mTrue\u001B[39;00m:\n\u001B[32m--> \u001B[39m\u001B[32m608\u001B[39m     \u001B[38;5;28mself\u001B[39m._run_once()\n\u001B[32m    609\u001B[39m     \u001B[38;5;28;01mif\u001B[39;00m \u001B[38;5;28mself\u001B[39m._stopping:\n",
      "\u001B[36mFile \u001B[39m\u001B[32m~\\AppData\\Local\\Programs\\Python\\Python311\\Lib\\asyncio\\base_events.py:1936\u001B[39m, in \u001B[36m_run_once\u001B[39m\u001B[34m()\u001B[39m\n\u001B[32m   1935\u001B[39m     \u001B[38;5;28;01melse\u001B[39;00m:\n\u001B[32m-> \u001B[39m\u001B[32m1936\u001B[39m         handle._run()\n\u001B[32m   1937\u001B[39m handle = \u001B[38;5;28;01mNone\u001B[39;00m\n",
      "\u001B[36mFile \u001B[39m\u001B[32m~\\AppData\\Local\\Programs\\Python\\Python311\\Lib\\asyncio\\events.py:84\u001B[39m, in \u001B[36m_run\u001B[39m\u001B[34m()\u001B[39m\n\u001B[32m     83\u001B[39m \u001B[38;5;28;01mtry\u001B[39;00m:\n\u001B[32m---> \u001B[39m\u001B[32m84\u001B[39m     \u001B[38;5;28mself\u001B[39m._context.run(\u001B[38;5;28mself\u001B[39m._callback, *\u001B[38;5;28mself\u001B[39m._args)\n\u001B[32m     85\u001B[39m \u001B[38;5;28;01mexcept\u001B[39;00m (\u001B[38;5;167;01mSystemExit\u001B[39;00m, \u001B[38;5;167;01mKeyboardInterrupt\u001B[39;00m):\n",
      "\u001B[36mFile \u001B[39m\u001B[32m~\\OneDrive - PNNL\\iPad\\Virtualenv\\JAX\\.venv\\Lib\\site-packages\\ipykernel\\kernelbase.py:545\u001B[39m, in \u001B[36mdispatch_queue\u001B[39m\u001B[34m()\u001B[39m\n\u001B[32m    544\u001B[39m \u001B[38;5;28;01mtry\u001B[39;00m:\n\u001B[32m--> \u001B[39m\u001B[32m545\u001B[39m     \u001B[38;5;28;01mawait\u001B[39;00m \u001B[38;5;28mself\u001B[39m.process_one()\n\u001B[32m    546\u001B[39m \u001B[38;5;28;01mexcept\u001B[39;00m \u001B[38;5;167;01mException\u001B[39;00m:\n",
      "\u001B[36mFile \u001B[39m\u001B[32m~\\OneDrive - PNNL\\iPad\\Virtualenv\\JAX\\.venv\\Lib\\site-packages\\ipykernel\\kernelbase.py:534\u001B[39m, in \u001B[36mprocess_one\u001B[39m\u001B[34m()\u001B[39m\n\u001B[32m    533\u001B[39m         \u001B[38;5;28;01mreturn\u001B[39;00m\n\u001B[32m--> \u001B[39m\u001B[32m534\u001B[39m \u001B[38;5;28;01mawait\u001B[39;00m dispatch(*args)\n",
      "\u001B[36mFile \u001B[39m\u001B[32m~\\OneDrive - PNNL\\iPad\\Virtualenv\\JAX\\.venv\\Lib\\site-packages\\ipykernel\\kernelbase.py:437\u001B[39m, in \u001B[36mdispatch_shell\u001B[39m\u001B[34m()\u001B[39m\n\u001B[32m    436\u001B[39m     \u001B[38;5;28;01mif\u001B[39;00m inspect.isawaitable(result):\n\u001B[32m--> \u001B[39m\u001B[32m437\u001B[39m         \u001B[38;5;28;01mawait\u001B[39;00m result\n\u001B[32m    438\u001B[39m \u001B[38;5;28;01mexcept\u001B[39;00m \u001B[38;5;167;01mException\u001B[39;00m:\n",
      "\u001B[36mFile \u001B[39m\u001B[32m~\\OneDrive - PNNL\\iPad\\Virtualenv\\JAX\\.venv\\Lib\\site-packages\\ipykernel\\ipkernel.py:362\u001B[39m, in \u001B[36mexecute_request\u001B[39m\u001B[34m()\u001B[39m\n\u001B[32m    361\u001B[39m \u001B[38;5;28mself\u001B[39m._associate_new_top_level_threads_with(parent_header)\n\u001B[32m--> \u001B[39m\u001B[32m362\u001B[39m \u001B[38;5;28;01mawait\u001B[39;00m \u001B[38;5;28msuper\u001B[39m().execute_request(stream, ident, parent)\n",
      "\u001B[36mFile \u001B[39m\u001B[32m~\\OneDrive - PNNL\\iPad\\Virtualenv\\JAX\\.venv\\Lib\\site-packages\\ipykernel\\kernelbase.py:778\u001B[39m, in \u001B[36mexecute_request\u001B[39m\u001B[34m()\u001B[39m\n\u001B[32m    777\u001B[39m \u001B[38;5;28;01mif\u001B[39;00m inspect.isawaitable(reply_content):\n\u001B[32m--> \u001B[39m\u001B[32m778\u001B[39m     reply_content = \u001B[38;5;28;01mawait\u001B[39;00m reply_content\n\u001B[32m    780\u001B[39m \u001B[38;5;66;03m# Flush output before sending the reply.\u001B[39;00m\n",
      "\u001B[36mFile \u001B[39m\u001B[32m~\\OneDrive - PNNL\\iPad\\Virtualenv\\JAX\\.venv\\Lib\\site-packages\\ipykernel\\ipkernel.py:449\u001B[39m, in \u001B[36mdo_execute\u001B[39m\u001B[34m()\u001B[39m\n\u001B[32m    448\u001B[39m \u001B[38;5;28;01mif\u001B[39;00m accepts_params[\u001B[33m\"\u001B[39m\u001B[33mcell_id\u001B[39m\u001B[33m\"\u001B[39m]:\n\u001B[32m--> \u001B[39m\u001B[32m449\u001B[39m     res = shell.run_cell(\n\u001B[32m    450\u001B[39m         code,\n\u001B[32m    451\u001B[39m         store_history=store_history,\n\u001B[32m    452\u001B[39m         silent=silent,\n\u001B[32m    453\u001B[39m         cell_id=cell_id,\n\u001B[32m    454\u001B[39m     )\n\u001B[32m    455\u001B[39m \u001B[38;5;28;01melse\u001B[39;00m:\n",
      "\u001B[36mFile \u001B[39m\u001B[32m~\\OneDrive - PNNL\\iPad\\Virtualenv\\JAX\\.venv\\Lib\\site-packages\\ipykernel\\zmqshell.py:549\u001B[39m, in \u001B[36mrun_cell\u001B[39m\u001B[34m()\u001B[39m\n\u001B[32m    548\u001B[39m \u001B[38;5;28mself\u001B[39m._last_traceback = \u001B[38;5;28;01mNone\u001B[39;00m\n\u001B[32m--> \u001B[39m\u001B[32m549\u001B[39m \u001B[38;5;28;01mreturn\u001B[39;00m \u001B[38;5;28msuper\u001B[39m().run_cell(*args, **kwargs)\n",
      "\u001B[36mFile \u001B[39m\u001B[32m~\\OneDrive - PNNL\\iPad\\Virtualenv\\JAX\\.venv\\Lib\\site-packages\\IPython\\core\\interactiveshell.py:3098\u001B[39m, in \u001B[36mrun_cell\u001B[39m\u001B[34m()\u001B[39m\n\u001B[32m   3097\u001B[39m \u001B[38;5;28;01mtry\u001B[39;00m:\n\u001B[32m-> \u001B[39m\u001B[32m3098\u001B[39m     result = \u001B[38;5;28mself\u001B[39m._run_cell(\n\u001B[32m   3099\u001B[39m         raw_cell, store_history, silent, shell_futures, cell_id\n\u001B[32m   3100\u001B[39m     )\n\u001B[32m   3101\u001B[39m \u001B[38;5;28;01mfinally\u001B[39;00m:\n",
      "\u001B[36mFile \u001B[39m\u001B[32m~\\OneDrive - PNNL\\iPad\\Virtualenv\\JAX\\.venv\\Lib\\site-packages\\IPython\\core\\interactiveshell.py:3153\u001B[39m, in \u001B[36m_run_cell\u001B[39m\u001B[34m()\u001B[39m\n\u001B[32m   3152\u001B[39m \u001B[38;5;28;01mtry\u001B[39;00m:\n\u001B[32m-> \u001B[39m\u001B[32m3153\u001B[39m     result = runner(coro)\n\u001B[32m   3154\u001B[39m \u001B[38;5;28;01mexcept\u001B[39;00m \u001B[38;5;167;01mBaseException\u001B[39;00m \u001B[38;5;28;01mas\u001B[39;00m e:\n",
      "\u001B[36mFile \u001B[39m\u001B[32m~\\OneDrive - PNNL\\iPad\\Virtualenv\\JAX\\.venv\\Lib\\site-packages\\IPython\\core\\async_helpers.py:128\u001B[39m, in \u001B[36m_pseudo_sync_runner\u001B[39m\u001B[34m()\u001B[39m\n\u001B[32m    127\u001B[39m \u001B[38;5;28;01mtry\u001B[39;00m:\n\u001B[32m--> \u001B[39m\u001B[32m128\u001B[39m     coro.send(\u001B[38;5;28;01mNone\u001B[39;00m)\n\u001B[32m    129\u001B[39m \u001B[38;5;28;01mexcept\u001B[39;00m \u001B[38;5;167;01mStopIteration\u001B[39;00m \u001B[38;5;28;01mas\u001B[39;00m exc:\n",
      "\u001B[36mFile \u001B[39m\u001B[32m~\\OneDrive - PNNL\\iPad\\Virtualenv\\JAX\\.venv\\Lib\\site-packages\\IPython\\core\\interactiveshell.py:3365\u001B[39m, in \u001B[36mrun_cell_async\u001B[39m\u001B[34m()\u001B[39m\n\u001B[32m   3362\u001B[39m interactivity = \u001B[33m\"\u001B[39m\u001B[33mnone\u001B[39m\u001B[33m\"\u001B[39m \u001B[38;5;28;01mif\u001B[39;00m silent \u001B[38;5;28;01melse\u001B[39;00m \u001B[38;5;28mself\u001B[39m.ast_node_interactivity\n\u001B[32m-> \u001B[39m\u001B[32m3365\u001B[39m has_raised = \u001B[38;5;28;01mawait\u001B[39;00m \u001B[38;5;28mself\u001B[39m.run_ast_nodes(code_ast.body, cell_name,\n\u001B[32m   3366\u001B[39m        interactivity=interactivity, compiler=compiler, result=result)\n\u001B[32m   3368\u001B[39m \u001B[38;5;28mself\u001B[39m.last_execution_succeeded = \u001B[38;5;129;01mnot\u001B[39;00m has_raised\n",
      "\u001B[36mFile \u001B[39m\u001B[32m~\\OneDrive - PNNL\\iPad\\Virtualenv\\JAX\\.venv\\Lib\\site-packages\\IPython\\core\\interactiveshell.py:3610\u001B[39m, in \u001B[36mrun_ast_nodes\u001B[39m\u001B[34m()\u001B[39m\n\u001B[32m   3609\u001B[39m     asy = compare(code)\n\u001B[32m-> \u001B[39m\u001B[32m3610\u001B[39m \u001B[38;5;28;01mif\u001B[39;00m \u001B[38;5;28;01mawait\u001B[39;00m \u001B[38;5;28mself\u001B[39m.run_code(code, result, async_=asy):\n\u001B[32m   3611\u001B[39m     \u001B[38;5;28;01mreturn\u001B[39;00m \u001B[38;5;28;01mTrue\u001B[39;00m\n",
      "\u001B[36mFile \u001B[39m\u001B[32m~\\OneDrive - PNNL\\iPad\\Virtualenv\\JAX\\.venv\\Lib\\site-packages\\IPython\\core\\interactiveshell.py:3670\u001B[39m, in \u001B[36mrun_code\u001B[39m\u001B[34m()\u001B[39m\n\u001B[32m   3669\u001B[39m     \u001B[38;5;28;01melse\u001B[39;00m:\n\u001B[32m-> \u001B[39m\u001B[32m3670\u001B[39m         exec(code_obj, \u001B[38;5;28mself\u001B[39m.user_global_ns, \u001B[38;5;28mself\u001B[39m.user_ns)\n\u001B[32m   3671\u001B[39m \u001B[38;5;28;01mfinally\u001B[39;00m:\n\u001B[32m   3672\u001B[39m     \u001B[38;5;66;03m# Reset our crash handler in place\u001B[39;00m\n",
      "\u001B[36mCell\u001B[39m\u001B[36m \u001B[39m\u001B[32mIn[8]\u001B[39m\u001B[32m, line 19\u001B[39m\n\u001B[32m     18\u001B[39m x = jnp.zeros(\u001B[32m5\u001B[39m)\n\u001B[32m---> \u001B[39m\u001B[32m19\u001B[39m numpy_random_like(x)\n",
      "\u001B[36mCell\u001B[39m\u001B[36m \u001B[39m\u001B[32mIn[8]\u001B[39m\u001B[32m, line 16\u001B[39m, in \u001B[36mnumpy_random_like\u001B[39m\u001B[34m()\u001B[39m\n\u001B[32m     14\u001B[39m \u001B[38;5;129m@jax\u001B[39m.jit\n\u001B[32m     15\u001B[39m \u001B[38;5;28;01mdef\u001B[39;00m\u001B[38;5;250m \u001B[39m\u001B[34mnumpy_random_like\u001B[39m(x):\n\u001B[32m---> \u001B[39m\u001B[32m16\u001B[39m   \u001B[38;5;28;01mreturn\u001B[39;00m io_callback(host_side_random_like, x, x)\n",
      "\u001B[36mFile \u001B[39m\u001B[32m~\\OneDrive - PNNL\\iPad\\Virtualenv\\JAX\\.venv\\Lib\\site-packages\\jax\\_src\\callback.py:585\u001B[39m, in \u001B[36mio_callback\u001B[39m\u001B[34m()\u001B[39m\n\u001B[32m    583\u001B[39m flat_result_avals = \u001B[38;5;28mmap\u001B[39m(\u001B[38;5;28;01mlambda\u001B[39;00m x: core.ShapedArray(x.shape, x.dtype),\n\u001B[32m    584\u001B[39m                         flat_shape_dtypes)\n\u001B[32m--> \u001B[39m\u001B[32m585\u001B[39m out_flat = io_callback_p.bind(\n\u001B[32m    586\u001B[39m     *flat_args,\n\u001B[32m    587\u001B[39m     callback=_FlatCallback(callback, in_tree),\n\u001B[32m    588\u001B[39m     result_avals=\u001B[38;5;28mtuple\u001B[39m(flat_result_avals),\n\u001B[32m    589\u001B[39m     sharding=sharding,\n\u001B[32m    590\u001B[39m     ordered=ordered,\n\u001B[32m    591\u001B[39m )\n\u001B[32m    592\u001B[39m \u001B[38;5;28;01mreturn\u001B[39;00m tree_util.tree_unflatten(out_tree, out_flat)\n",
      "\u001B[31mJaxStackTraceBeforeTransformation\u001B[39m: ValueError: IO callbacks do not support JVP.\n\nThe preceding stack trace is the source of the JAX operation that, once transformed by JAX, triggered the following exception.\n\n--------------------",
      "\nThe above exception was the direct cause of the following exception:\n",
      "\u001B[31mValueError\u001B[39m                                Traceback (most recent call last)",
      "\u001B[36mCell\u001B[39m\u001B[36m \u001B[39m\u001B[32mIn[12]\u001B[39m\u001B[32m, line 4\u001B[39m\n\u001B[32m      1\u001B[39m \u001B[38;5;66;03m# Like pure_callback, io_callback fails under automatic differentiation if it is passed a differentiated variable:\u001B[39;00m\n\u001B[32m      2\u001B[39m \u001B[38;5;66;03m# 如同 pure_callback，io_callback 在传入一个被微分的变量时会失败 因为callback 函数不是由 JAX 计算的\u001B[39;00m\n\u001B[32m----> \u001B[39m\u001B[32m4\u001B[39m \u001B[43mjax\u001B[49m\u001B[43m.\u001B[49m\u001B[43mgrad\u001B[49m\u001B[43m(\u001B[49m\u001B[43mnumpy_random_like\u001B[49m\u001B[43m)\u001B[49m\u001B[43m(\u001B[49m\u001B[43mx\u001B[49m\u001B[43m)\u001B[49m\n",
      "    \u001B[31m[... skipping hidden 40 frame]\u001B[39m\n",
      "\u001B[36mFile \u001B[39m\u001B[32m~\\OneDrive - PNNL\\iPad\\Virtualenv\\JAX\\.venv\\Lib\\site-packages\\jax\\_src\\callback.py:472\u001B[39m, in \u001B[36mio_callback_jvp_rule\u001B[39m\u001B[34m(***failed resolving arguments***)\u001B[39m\n\u001B[32m    470\u001B[39m \u001B[38;5;28;01mdef\u001B[39;00m\u001B[38;5;250m \u001B[39m\u001B[34mio_callback_jvp_rule\u001B[39m(*args, **kwargs):\n\u001B[32m    471\u001B[39m   \u001B[38;5;28;01mdel\u001B[39;00m args, kwargs\n\u001B[32m--> \u001B[39m\u001B[32m472\u001B[39m   \u001B[38;5;28;01mraise\u001B[39;00m \u001B[38;5;167;01mValueError\u001B[39;00m(\u001B[33m\"\u001B[39m\u001B[33mIO callbacks do not support JVP.\u001B[39m\u001B[33m\"\u001B[39m)\n",
      "\u001B[31mValueError\u001B[39m: IO callbacks do not support JVP."
     ]
    }
   ],
   "execution_count": 12
  },
  {
   "metadata": {
    "ExecuteTime": {
     "end_time": "2025-05-20T03:30:33.515395Z",
     "start_time": "2025-05-20T03:30:33.475605Z"
    }
   },
   "cell_type": "code",
   "source": [
    "# 当然啦，如果callback 函数和需要微分的变量没有关系 那么就没事了\n",
    "\n",
    "@jax.jit\n",
    "def f(x):\n",
    "  io_callback(lambda: print('hello'), None)\n",
    "  return x\n",
    "\n",
    "jax.grad(f)(1.0);"
   ],
   "id": "bf94b55a12b0a15a",
   "outputs": [
    {
     "name": "stdout",
     "output_type": "stream",
     "text": [
      "hello\n"
     ]
    }
   ],
   "execution_count": 13
  },
  {
   "metadata": {},
   "cell_type": "markdown",
   "source": "# Exploring debug.callback",
   "id": "58647130b3ea48e8"
  },
  {
   "metadata": {
    "ExecuteTime": {
     "end_time": "2025-05-20T03:31:10.811187Z",
     "start_time": "2025-05-20T03:31:10.783307Z"
    }
   },
   "cell_type": "code",
   "source": [
    "from jax import debug\n",
    "\n",
    "def log_value(x):\n",
    "  # This could be an actual logging call; we'll use\n",
    "  # print() for demonstration\n",
    "  print(\"value:\", x)\n",
    "\n",
    "@jax.jit\n",
    "def f(x):\n",
    "  debug.callback(log_value, x)\n",
    "  return x\n",
    "\n",
    "f(1.0);"
   ],
   "id": "fceadf1a6c9a31f4",
   "outputs": [
    {
     "name": "stdout",
     "output_type": "stream",
     "text": [
      "value: 1.0\n"
     ]
    }
   ],
   "execution_count": 15
  },
  {
   "metadata": {
    "ExecuteTime": {
     "end_time": "2025-05-20T03:31:22.200465Z",
     "start_time": "2025-05-20T03:31:22.136412Z"
    }
   },
   "cell_type": "code",
   "source": [
    "x = jnp.arange(5.0)\n",
    "jax.vmap(f)(x);"
   ],
   "id": "11fc7d392a8efa50",
   "outputs": [
    {
     "name": "stdout",
     "output_type": "stream",
     "text": [
      "value: 0.0\n",
      "value: 1.0\n",
      "value: 2.0\n",
      "value: 3.0\n",
      "value: 4.0\n"
     ]
    }
   ],
   "execution_count": 16
  },
  {
   "metadata": {
    "ExecuteTime": {
     "end_time": "2025-05-20T03:31:40.315766Z",
     "start_time": "2025-05-20T03:31:40.252019Z"
    }
   },
   "cell_type": "code",
   "source": "jax.grad(f)(1.0);",
   "id": "3c83a1ce6142d1f7",
   "outputs": [
    {
     "name": "stdout",
     "output_type": "stream",
     "text": [
      "value: 1.0\n"
     ]
    }
   ],
   "execution_count": 17
  },
  {
   "metadata": {},
   "cell_type": "markdown",
   "source": "# Example: pure_callback with custom_jvp",
   "id": "8882d56cc5d637cd"
  },
  {
   "metadata": {
    "ExecuteTime": {
     "end_time": "2025-05-20T03:38:24.642012Z",
     "start_time": "2025-05-20T03:38:19.477126Z"
    }
   },
   "cell_type": "code",
   "source": [
    "import jax\n",
    "import jax.numpy as jnp\n",
    "import scipy.special\n",
    "\n",
    "def jv(v, z):\n",
    "  v, z = jnp.asarray(v), jnp.asarray(z)\n",
    "\n",
    "  # Require the order v to be integer type: this simplifies\n",
    "  # the JVP rule below.\n",
    "  assert jnp.issubdtype(v.dtype, jnp.integer)\n",
    "\n",
    "  # Promote the input to inexact (float/complex).\n",
    "  # Note that jnp.result_type() accounts for the enable_x64 flag.\n",
    "  z = z.astype(jnp.result_type(float, z.dtype))\n",
    "\n",
    "  # Wrap scipy function to return the expected dtype.\n",
    "  _scipy_jv = lambda v, z: scipy.special.jv(v, z).astype(z.dtype)\n",
    "\n",
    "  # Define the expected shape & dtype of output.\n",
    "  result_shape_dtype = jax.ShapeDtypeStruct(\n",
    "      shape=jnp.broadcast_shapes(v.shape, z.shape),\n",
    "      dtype=z.dtype)\n",
    "\n",
    "  # Use vmap_method=\"broadcast_all\" because scipy.special.jv handles broadcasted inputs.\n",
    "  return jax.pure_callback(_scipy_jv, result_shape_dtype, v, z, vmap_method=\"broadcast_all\")"
   ],
   "id": "2e8f5a7ac18e25f4",
   "outputs": [],
   "execution_count": 18
  },
  {
   "metadata": {
    "ExecuteTime": {
     "end_time": "2025-05-20T03:40:54.307871Z",
     "start_time": "2025-05-20T03:40:54.298271Z"
    }
   },
   "cell_type": "code",
   "source": [
    "jv = jax.custom_jvp(jv)\n",
    "\n",
    "@jv.defjvp\n",
    "def jv_jvp(primals, tangents):\n",
    "  v, z = primals\n",
    "  _, z_dot = tangents  # Note: v_dot is always 0 because v is integer.\n",
    "  jv_minus_1, jv_plus_1 = jv(v - 1, z), jv(v + 1, z)\n",
    "  djv_dz = jnp.where(v == 0, -jv_plus_1, 0.5 * (jv_minus_1 - jv_plus_1))\n",
    "  return jv(v, z), z_dot * djv_dz"
   ],
   "id": "2808f91546e96d1c",
   "outputs": [],
   "execution_count": 19
  },
  {
   "metadata": {
    "ExecuteTime": {
     "end_time": "2025-05-20T03:40:56.015896Z",
     "start_time": "2025-05-20T03:40:55.887776Z"
    }
   },
   "cell_type": "code",
   "source": [
    "j1 = partial(jv, 1)\n",
    "print(jax.grad(j1)(2.0))"
   ],
   "id": "30a0ce777a2faab3",
   "outputs": [
    {
     "name": "stdout",
     "output_type": "stream",
     "text": [
      "-0.06447162\n"
     ]
    }
   ],
   "execution_count": 20
  },
  {
   "metadata": {
    "ExecuteTime": {
     "end_time": "2025-05-20T03:40:58.249195Z",
     "start_time": "2025-05-20T03:40:57.860279Z"
    }
   },
   "cell_type": "code",
   "source": "jax.hessian(j1)(2.0)",
   "id": "949a4d73669f3e62",
   "outputs": [
    {
     "data": {
      "text/plain": [
       "Array(-0.4003078, dtype=float32, weak_type=True)"
      ]
     },
     "execution_count": 21,
     "metadata": {},
     "output_type": "execute_result"
    }
   ],
   "execution_count": 21
  }
 ],
 "metadata": {
  "kernelspec": {
   "display_name": "Python 3",
   "language": "python",
   "name": "python3"
  },
  "language_info": {
   "codemirror_mode": {
    "name": "ipython",
    "version": 2
   },
   "file_extension": ".py",
   "mimetype": "text/x-python",
   "name": "python",
   "nbconvert_exporter": "python",
   "pygments_lexer": "ipython2",
   "version": "2.7.6"
  }
 },
 "nbformat": 4,
 "nbformat_minor": 5
}
