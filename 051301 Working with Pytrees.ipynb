{
 "cells": [
  {
   "metadata": {},
   "cell_type": "markdown",
   "source": [
    "# 要点总结\n",
    "1. 常用函数，比如 jax.tree.map\n",
    "2. 自定义 pytree 结点\n",
    "3. 常见的与 pytree 兼容的结构，比如 NamedTuple 和 dataclass\n",
    "4. Pytrees 和 JAX 变换，如何用 vmap 处理字典数据\n",
    "5. 结点资格设置\n",
    "6. 形状陷阱\n",
    "7. pytree 的转置\n",
    "8. 显式键路径"
   ],
   "id": "7a41dd8ad34a2608"
  },
  {
   "metadata": {
    "ExecuteTime": {
     "end_time": "2025-10-24T05:06:38.247907Z",
     "start_time": "2025-10-24T05:06:33.832433Z"
    }
   },
   "cell_type": "code",
   "source": [
    "import jax\n",
    "import jax.numpy as jnp\n",
    "import numpy as np"
   ],
   "id": "4065e11cf1a08702",
   "outputs": [],
   "execution_count": 1
  },
  {
   "metadata": {},
   "cell_type": "markdown",
   "source": "# pytree 中的常用函数",
   "id": "897a53cecd248193"
  },
  {
   "metadata": {
    "ExecuteTime": {
     "end_time": "2025-10-24T05:06:46.871767Z",
     "start_time": "2025-10-24T05:06:46.858617Z"
    }
   },
   "cell_type": "code",
   "source": [
    "# map 函数\n",
    "\n",
    "# 我不太会写 lambda 函数，先快速上手一个\n",
    "double = lambda x: 2*x\n",
    "print(f\"这是lambda语句的一个快速例子：{double(5)}\")\n",
    "\n",
    "# 再试试第二个例子\n",
    "test = [1, 2, 3]\n",
    "# 使用 lambda 和 map 生成新列表\n",
    "new_list = list(map(lambda x: x + 1, test))\n",
    "print(new_list)  # 输出: [2, 3, 4]\n",
    "\n",
    "list_of_lists = [\n",
    "    [1, 2, 3],\n",
    "    [1, 2],\n",
    "    [1, 2, 3, 4]\n",
    "]\n",
    "\n",
    "print(jax.tree.map(lambda x: double(x), list_of_lists))\n",
    "#或者不用我的double函数，效果是一样的：\n",
    "print(jax.tree.map(lambda x: 2*x, list_of_lists))\n",
    "print(jax.tree.map(double, list_of_lists)) # 完全不适用 lambda 更简单"
   ],
   "id": "initial_id",
   "outputs": [
    {
     "name": "stdout",
     "output_type": "stream",
     "text": [
      "这是lambda语句的一个快速例子：10\n",
      "[2, 3, 4]\n",
      "[[2, 4, 6], [2, 4], [2, 4, 6, 8]]\n",
      "[[2, 4, 6], [2, 4], [2, 4, 6, 8]]\n",
      "[[2, 4, 6], [2, 4], [2, 4, 6, 8]]\n"
     ]
    }
   ],
   "execution_count": 3
  },
  {
   "metadata": {
    "ExecuteTime": {
     "end_time": "2025-10-24T05:07:59.807529Z",
     "start_time": "2025-10-24T05:07:59.801033Z"
    }
   },
   "cell_type": "code",
   "source": [
    "# 我对 zip 的用法不熟，首先快速上手一个\n",
    "list1 = ['a', 'b', 'c', 'd']\n",
    "list2 = [1, 2, 3, 4]\n",
    "\n",
    "# zip 函数的作用是将两个列表中的元素一一对应地组合成一个元组，返回一个迭代器\n",
    "for x in zip(list1, list2):\n",
    "    print(x)\n",
    "\n",
    "# zip 函数的返回值是一个迭代器，所以我们可以将其转换为列表\n",
    "list_of_tuples = list(zip(list1, list2))\n",
    "print(list_of_tuples)\n",
    "\n",
    "# zip 函数的返回值是一个迭代器，所以我们也可以将其转换为字典\n",
    "dict_of_tuples = dict(zip(list1, list2))\n",
    "print(dict_of_tuples)\n",
    "\n",
    "# zip 函数的返回值是一个迭代器，所以我们也可以将其转换为集合\n",
    "set_of_tuples = set(zip(list1, list2))\n",
    "print(set_of_tuples)\n",
    "\n",
    "\n",
    "# 以及创建一个 dict 的两种方法\n",
    "## 使用 dict() 创建字典\n",
    "my_dict = dict(a=1, b=2, c=3)\n",
    "## 使用大括号 {} 创建字典\n",
    "my_dict_alt = {'a': 1, 'b': 2, 'c': 3}\n",
    "\n",
    "print(my_dict == my_dict_alt)  # 输出: True"
   ],
   "id": "fe7fd46438a1d2c7",
   "outputs": [
    {
     "name": "stdout",
     "output_type": "stream",
     "text": [
      "('a', 1)\n",
      "('b', 2)\n",
      "('c', 3)\n",
      "('d', 4)\n",
      "[('a', 1), ('b', 2), ('c', 3), ('d', 4)]\n",
      "{'a': 1, 'b': 2, 'c': 3, 'd': 4}\n",
      "{('a', 1), ('d', 4), ('b', 2), ('c', 3)}\n",
      "True\n"
     ]
    }
   ],
   "execution_count": 4
  },
  {
   "metadata": {
    "ExecuteTime": {
     "end_time": "2025-10-24T05:09:10.933690Z",
     "start_time": "2025-10-24T05:09:10.923418Z"
    }
   },
   "cell_type": "code",
   "source": [
    "# 初始化神经网络的参数并使用 jax.tree.map 打印参数的类型和形状\n",
    "\n",
    "def init_mlp_params(layer_widths):\n",
    "  params = []\n",
    "  for n_in, n_out in zip(layer_widths[:-1], layer_widths[1:]):\n",
    "    params.append(\n",
    "        dict(weights=np.random.normal(size=(n_in, n_out)) * np.sqrt(2/n_in),\n",
    "             biases=np.ones(shape=(n_out,))\n",
    "            )\n",
    "    )\n",
    "  return params\n",
    "\n",
    "params = init_mlp_params([1, 128, 128, 1])\n",
    "\n",
    "jax.tree.map(lambda x: (type(x),x.shape), params)"
   ],
   "id": "b4c7bb7820e406af",
   "outputs": [
    {
     "data": {
      "text/plain": [
       "[{'biases': (numpy.ndarray, (128,)), 'weights': (numpy.ndarray, (1, 128))},\n",
       " {'biases': (numpy.ndarray, (128,)), 'weights': (numpy.ndarray, (128, 128))},\n",
       " {'biases': (numpy.ndarray, (1,)), 'weights': (numpy.ndarray, (128, 1))}]"
      ]
     },
     "execution_count": 5,
     "metadata": {},
     "output_type": "execute_result"
    }
   ],
   "execution_count": 5
  },
  {
   "metadata": {},
   "cell_type": "code",
   "source": [
    "# 现在我们可以写出 MLP 的前向传播函数、损失函数、以及参数更新方法\n",
    "\n",
    "# Define the forward pass.\n",
    "def forward(params, x):\n",
    "  *hidden, last = params\n",
    "  for layer in hidden:\n",
    "    x = jax.nn.relu(x @ layer['weights'] + layer['biases'])\n",
    "  return x @ last['weights'] + last['biases']\n",
    "\n",
    "# Define the loss function.\n",
    "def loss_fn(params, x, y):\n",
    "  return jnp.mean((forward(params, x) - y) ** 2)\n",
    "\n",
    "# Set the learning rate.\n",
    "LEARNING_RATE = 0.0001\n",
    "\n",
    "# Using the stochastic gradient descent, define the parameter update function.\n",
    "# Apply `@jax.jit` for JIT compilation (speed).\n",
    "\n",
    "def update_one(p, g):\n",
    "    return p - LEARNING_RATE * g\n",
    "\n",
    "@jax.jit\n",
    "def update(params, x, y):\n",
    "  # Calculate the gradients with `jax.grad`.\n",
    "  grads = jax.grad(loss_fn)(params, x, y)  # 注意 jax.grad 自动对第一个参数求导\n",
    "  # Note that `grads` is a pytree with the same structure as `params`.\n",
    "  # `jax.grad` is one of many JAX functions that has\n",
    "  # built-in support for pytrees.\n",
    "  # This is useful - you can apply the SGD update using JAX pytree utilities.\n",
    "  #return jax.tree.map(\n",
    "  #    lambda p, g: p - LEARNING_RATE * g, params, grads\n",
    "  #)\n",
    "  return jax.tree.map(\n",
    "      update_one, params, grads\n",
    "  )"
   ],
   "id": "930ef6bb4ad7c351",
   "outputs": [],
   "execution_count": null
  },
  {
   "metadata": {},
   "cell_type": "markdown",
   "source": "# 自定义 pytree 结点",
   "id": "9d69c05d0f57eff4"
  },
  {
   "metadata": {},
   "cell_type": "code",
   "source": [
    "class Special(object):\n",
    "#object 是 Python 中所有类的基类 提供了一些基础方法，即使不显式继承 object，Python 也会隐式地将类继承自 object\n",
    "  def __init__(self, x, y):\n",
    "    self.x = x\n",
    "    self.y = y\n",
    "\n",
    "# jax.tree.leaves 是 JAX 提供的一个函数，用于提取 pytree 中的所有叶子节点。叶子节点是指 pytree 中不可再分解的最小单元。\n",
    "jax.tree.leaves(\n",
    "    [Special(0, 1),Special(2, 4)]\n",
    ")"
   ],
   "id": "b74f158de9557949",
   "outputs": [],
   "execution_count": null
  },
  {
   "metadata": {},
   "cell_type": "code",
   "source": [
    "# 因为没有将 special 注册为 pytree，所以我们可以看到它的类型是 <class '__main__.Special'>，所以下面的句子会报错\n",
    "# TypeError: unsupported operand type(s) for +: 'Special' and 'int'\n",
    "\n",
    "'''\n",
    "jax.tree.map(lambda x: x + 1,\n",
    "  [Special(0, 1),Special(2, 4)]\n",
    "             )\n",
    "'''"
   ],
   "id": "be0d20c44cc8680e",
   "outputs": [],
   "execution_count": null
  },
  {
   "metadata": {},
   "cell_type": "code",
   "source": [
    "# 注册自定义容器示例\n",
    "\n",
    "# 继承：RegisteredSpecial 继承了 Special，因此它拥有 Special 的所有属性和方法。\n",
    "# __repr__ 方法：重写了 __repr__ 方法，用于返回对象的可读字符串表示，便于调试和打印。\n",
    "class RegisteredSpecial(Special):\n",
    "  def __repr__(self):\n",
    "    return f\"RegisteredSpecial(x={self.x}, y={self.y})\"\n",
    "\n",
    "def special_flatten(v):\n",
    "  \"\"\"Specifies a flattening recipe.\n",
    "\n",
    "  Params:\n",
    "    v: The value of the registered type to flatten.\n",
    "  Returns:\n",
    "    A pair of an iterable with the children to be flattened recursively,\n",
    "    and some opaque auxiliary data to pass back to the unflattening recipe.\n",
    "    The auxiliary data is stored in the treedef for use during unflattening.\n",
    "    The auxiliary data could be used, for example, for dictionary keys.\n",
    "  \"\"\"\n",
    "  children = (v.x, v.y)\n",
    "  aux_data = None\n",
    "  return (children, aux_data)\n",
    "\n",
    "def special_unflatten(aux_data, children):\n",
    "  \"\"\"Specifies an unflattening recipe.\n",
    "\n",
    "  Params:\n",
    "    aux_data: The opaque data that was specified during flattening of the\n",
    "      current tree definition.\n",
    "    children: The unflattened children\n",
    "\n",
    "  Returns:\n",
    "    A reconstructed object of the registered type, using the specified\n",
    "    children and auxiliary data.\n",
    "  \"\"\"\n",
    "  return RegisteredSpecial(*children)\n",
    "\n",
    "from jax.tree_util import register_pytree_node\n",
    "# Global registration\n",
    "register_pytree_node(\n",
    "    RegisteredSpecial,\n",
    "    special_flatten,    # Instruct JAX what are the children nodes.\n",
    "    special_unflatten   # Instruct JAX how to pack back into a `RegisteredSpecial`.\n",
    ")\n",
    "'''\n",
    "register_pytree_node 需要三个输入参数：\n",
    "需要注册的类：这里是 RegisteredSpecial，表示你要将哪个类注册为 pytree 节点。\n",
    "flatten 方法：定义如何将对象分解为子节点（children）和辅助数据（auxiliary data）。\n",
    "unflatten 方法：定义如何从子节点和辅助数据重新构造对象。\n",
    "这两个方法（flatten 和 unflatten）共同指定了对象的序列化和反序列化方式，以便 JAX 能够正确处理该类的实例。\n",
    "\n",
    "NB: flatten 输出的顺序和 unflatten 参数的顺序不同\n",
    "'''\n",
    "\n",
    "jax.tree.map(lambda x: x + 1,\n",
    "  [RegisteredSpecial(0, 1),RegisteredSpecial(2, 4)]\n",
    "             )"
   ],
   "id": "fefe1e387b300da0",
   "outputs": [],
   "execution_count": null
  },
  {
   "metadata": {},
   "cell_type": "code",
   "source": [
    "# 我对 NamedTuple 和 Tuple 的用法不熟，首先快速上手一个\n",
    "# NamedTuple 可以用来创建不可变的对象\n",
    "from typing import NamedTuple\n",
    "\n",
    "class Point(NamedTuple):\n",
    "    name: str\n",
    "    x: int\n",
    "    y: int\n",
    "\n",
    "# 创建一个 Point 实例\n",
    "p = Point(\"point\", 3, 4)\n",
    "\n",
    "# 访问属性\n",
    "print(p) # 注意到 name 这个属性其实是被当成一个普通数据了\n",
    "print(f\"x: {p.x}, y: {p.y}\")\n",
    "\n",
    "# NamedTuple 实例是不可变的\n",
    "# p.x = 5  # 这会报错，因为 NamedTuple 是不可变的\n",
    "\n",
    "a_tuple = (1, 2, 3)\n",
    "print(f\"a_tuple的类型是{type(a_tuple)}，其第一个元素是{a_tuple[0]}.\")\n",
    "# 但是一个 namedtuple 的第一个元素却不算 name\n",
    "# test[0] = 4 # 这会报错，因为元组是不可变的"
   ],
   "id": "964d06399c1a9a9a",
   "outputs": [],
   "execution_count": null
  },
  {
   "metadata": {},
   "cell_type": "code",
   "source": [
    "# 有些类型的对象已经与 pytree 兼容了，所以我们可以直接使用不需要注册它们\n",
    "# 比如 NamedTuple\n",
    "\n",
    "from typing import NamedTuple, Any\n",
    "\n",
    "class MyOtherContainer(NamedTuple):\n",
    "  name: str\n",
    "  a: Any\n",
    "  b: Any\n",
    "  c: Any\n",
    "\n",
    "test = MyOtherContainer('test', 1, 2, 3)\n",
    "for i in test:\n",
    "  print(i)\n",
    "\n",
    "# NamedTuple subclasses are handled as pytree nodes, so\n",
    "# this will work out-of-the-box.\n",
    "jax.tree.leaves([\n",
    "    MyOtherContainer('Alice', 1, 2, 3),\n",
    "    MyOtherContainer('Bob', 4, 3.4, 'test')\n",
    "])\n",
    "# 但是在转换后， name 这个属性却被视为数据了"
   ],
   "id": "e93273c12b0e1c9e",
   "outputs": [],
   "execution_count": null
  },
  {
   "metadata": {},
   "cell_type": "code",
   "source": [
    "# 我对 dataclass 的用法不熟，首先快速上手一个\n",
    "# dataclass 是 Python 3.7 引入的一个装饰器，用于简化类的定义，特别是用于存储数据的类。\n",
    "\n",
    "# dataclass 可以自动生成一些特殊方法，比如 __init__、__repr__ 和 __eq__ 等等。\n",
    "# 这使得我们可以更方便地创建和使用数据类，而不需要手动编写这些方法。\n",
    "# 我试过有没有类似的基类而不用 dataclass 装饰器的类，结果发现没有\n",
    "from dataclasses import dataclass\n",
    "\n",
    "@dataclass\n",
    "class Point:\n",
    "    x: int\n",
    "    y: int\n",
    "\n",
    "\n",
    "# 创建实例\n",
    "p1 = Point(3, 4)\n",
    "p2 = Point(3, 4)\n",
    "\n",
    "# 自动生成的 __repr__ 方法\n",
    "print(p1)  # 输出: Point(x=3, y=4)\n",
    "\n",
    "# 自动生成的 __eq__ 方法\n",
    "print(p1 == p2)  # 输出: True"
   ],
   "id": "a0b433956caec02b",
   "outputs": [],
   "execution_count": null
  },
  {
   "metadata": {},
   "cell_type": "code",
   "source": [
    "# dataclass 可以简化注册流程\n",
    "\n",
    "from dataclasses import dataclass\n",
    "import functools\n",
    "\n",
    "@functools.partial(jax.tree_util.register_dataclass,\n",
    "                   data_fields=['a', 'b', 'c'],\n",
    "                   meta_fields=['name'])\n",
    "@dataclass\n",
    "class MyDataclassContainer(object):\n",
    "  name: str\n",
    "  a: Any\n",
    "  b: Any\n",
    "  c: Any\n",
    "\n",
    "# MyDataclassContainer is now a pytree node.\n",
    "jax.tree.leaves([\n",
    "  MyDataclassContainer('apple', 5.3, 1.2, jnp.zeros([4])),\n",
    "  MyDataclassContainer('banana', np.array([3, 4]), -1., 0.)\n",
    "])"
   ],
   "id": "ba843f4743af1848",
   "outputs": [],
   "execution_count": null
  },
  {
   "metadata": {},
   "cell_type": "code",
   "source": [
    "# 同时dataclass 的对象对jit编译也很友好\n",
    "\n",
    "@jax.jit\n",
    "def f(x: MyDataclassContainer | MyOtherContainer):\n",
    "  return x.a + x.b\n",
    "\n",
    "# Works fine! `mdc.name` is static.\n",
    "mdc = MyDataclassContainer('mdc', 1, 2, 5)\n",
    "y = f(mdc)\n",
    "print(y)"
   ],
   "id": "49b61a020e727107",
   "outputs": [],
   "execution_count": null
  },
  {
   "metadata": {},
   "cell_type": "code",
   "source": [
    "# namedtuple 对 jit 编译支持就一般了\n",
    "\n",
    "moc = MyOtherContainer('moc', 1, 2, 3)\n",
    "# 下面的句子会报错：\n",
    "# TypeError: Error interpreting argument to <function f at 0x000002741BCB7100> as an abstract array. The problematic value is of type <class 'str'> and was passed to the function at path x.name.\n",
    "\n",
    "#y = f(moc)"
   ],
   "id": "fa16cccc92c50458",
   "outputs": [],
   "execution_count": null
  },
  {
   "metadata": {},
   "cell_type": "markdown",
   "source": "# Common pytree gotchas",
   "id": "d8a58058b7ade1db"
  },
  {
   "metadata": {},
   "cell_type": "code",
   "source": [
    "a_tree = [jnp.zeros((2, 3)), jnp.zeros((3, 4))]\n",
    "print(\"这是原来的全零：\",a_tree)\n",
    "\n",
    "# Try to make another pytree with ones instead of zeros.\n",
    "shapes = jax.tree.map(lambda x: x.shape, a_tree)\n",
    "#jax.tree.map(jnp.ones, shapes)\n",
    "\n",
    "# 手动实现\n",
    "ones = []\n",
    "for x in a_tree:\n",
    "    ones.append(jnp.ones(x.shape))\n",
    "print(ones)\n",
    "\n",
    "# 更加智能的实现 反正我拒绝使用 lambda 函数\n",
    "ones_tree = jax.tree.map(jnp.ones_like, a_tree)\n",
    "print(ones_tree)"
   ],
   "id": "bbf20a325a0a5238",
   "outputs": [],
   "execution_count": null
  },
  {
   "metadata": {
    "ExecuteTime": {
     "end_time": "2025-10-24T05:12:49.908628Z",
     "start_time": "2025-10-24T05:12:49.902162Z"
    }
   },
   "cell_type": "code",
   "source": [
    "# 这个句子会得到一个空列表\n",
    "jax.tree.leaves([None, None, None])"
   ],
   "id": "3dda7468076ce05c",
   "outputs": [
    {
     "data": {
      "text/plain": [
       "[]"
      ]
     },
     "execution_count": 7,
     "metadata": {},
     "output_type": "execute_result"
    }
   ],
   "execution_count": 7
  },
  {
   "metadata": {
    "ExecuteTime": {
     "end_time": "2025-10-24T05:14:03.043419Z",
     "start_time": "2025-10-24T05:14:03.036407Z"
    }
   },
   "cell_type": "code",
   "source": [
    "# 这个句子会得到一个包含三个 None 的列表\n",
    "jax.tree.leaves([None, None, None], is_leaf=lambda x: x is None)"
   ],
   "id": "a892bf9d800b0bae",
   "outputs": [
    {
     "data": {
      "text/plain": [
       "[None, None, None, 1, 2]"
      ]
     },
     "execution_count": 8,
     "metadata": {},
     "output_type": "execute_result"
    }
   ],
   "execution_count": 8
  },
  {
   "metadata": {
    "ExecuteTime": {
     "end_time": "2025-10-24T05:14:34.543682Z",
     "start_time": "2025-10-24T05:14:34.538793Z"
    }
   },
   "cell_type": "code",
   "source": [
    "# is_leaf 函数可以有更多的用途\n",
    "\n",
    "tree = [[], {}, [1, 2], {\"key\": 3}]\n",
    "\n",
    "# 将空列表和空字典视为叶子节点\n",
    "leaves = jax.tree_util.tree_leaves(tree)\n",
    "print(leaves)  # 输出: [[], {}, 1, 2, 3]\n",
    "\n",
    "leaves = jax.tree_util.tree_leaves(tree, is_leaf=lambda x: x == [] or x == {})\n",
    "print(leaves)  # 输出: [[], {}, 1, 2, 3]\n",
    "\n",
    "\n",
    "# 反正我就是想方设法不用 lambda 函数\n",
    "def is_leaf(x):\n",
    "    return x==[] or x=={}\n",
    "leaves = jax.tree_util.tree_leaves(tree, is_leaf=is_leaf)\n",
    "print(leaves)  # 输出: [[], {}, 1, 2, 3]"
   ],
   "id": "2be041efcc76a7d",
   "outputs": [
    {
     "name": "stdout",
     "output_type": "stream",
     "text": [
      "[1, 2, 3]\n",
      "[[], {}, 1, 2, 3]\n",
      "[[], {}, 1, 2, 3]\n"
     ]
    }
   ],
   "execution_count": 9
  },
  {
   "metadata": {},
   "cell_type": "markdown",
   "source": [
    "# Pytrees and JAX transformations\n",
    "# 使用 vmap 处理 字典数据"
   ],
   "id": "27faffb01a087db3"
  },
  {
   "metadata": {},
   "cell_type": "code",
   "source": [
    "import jax\n",
    "import jax.numpy as jnp\n",
    "\n",
    "def process_data(data_dict, constant_param):\n",
    "  return {'processed_a': data_dict['a'] * 2 + constant_param,\n",
    "          'processed_b': data_dict['b'] - 5}\n",
    "\n",
    "# 假设我们有一批数据\n",
    "batch_data = {\n",
    "    'a': jnp.array([[1, 2], [3, 4], [5, 6]]),  # 形状 (3, 2)，我们想对第一个轴映射\n",
    "    'b': jnp.array([10, 20, 30])             # 形状 (3,)，我们也想对第一个轴映射\n",
    "}\n",
    "constant_value = 100"
   ],
   "id": "4a692d9f824f4079",
   "outputs": [],
   "execution_count": null
  },
  {
   "metadata": {},
   "cell_type": "code",
   "source": [
    "# in_axes 指定了如何映射 process_data 的参数\n",
    "# 第一个参数 (data_dict) 是一个字典，所以我们用一个字典来指定其内部元素的映射\n",
    "#   'a': 0 表示映射 batch_data['a'] 的第 0 轴\n",
    "#   'b': 0 表示映射 batch_data['b'] 的第 0 轴\n",
    "# 第二个参数 (constant_param) 是一个标量，我们不希望映射它，所以用 None\n",
    "vectorized_process_data = jax.vmap(process_data, in_axes=({'a': 0, 'b': 0}, None))\n",
    "\n",
    "result = vectorized_process_data(batch_data, constant_value)\n",
    "print(result)\n",
    "# 输出将会是:\n",
    "# {\n",
    "#   'processed_a': DeviceArray([[102, 104], [106, 108], [110, 112]], dtype=int32),\n",
    "#   'processed_b': DeviceArray([ 5, 15, 25], dtype=int32)\n",
    "# }"
   ],
   "id": "32c0aa0330959fda",
   "outputs": [],
   "execution_count": null
  },
  {
   "metadata": {},
   "cell_type": "code",
   "source": [
    "def another_process(data_dict):\n",
    "  return {'sum_a': jnp.sum(data_dict['a']), # 假设这里返回一个标量\n",
    "          'expanded_b': data_dict['b'] * 2}\n",
    "\n",
    "# 假设输入数据\n",
    "input_dicts = {\n",
    "    'a': jnp.array([[1,2],[3,4],[5,6]]), # 映射轴 0\n",
    "    'b': jnp.array([[10],[20],[30]])     # 映射轴 0\n",
    "}\n",
    "\n",
    "# 我们希望 'sum_a' 在输出中仍然是一个批量的标量（即一个一维数组），\n",
    "# 而 'expanded_b' 正常地将批处理轴放在第 0 轴。\n",
    "# 如果 'sum_a' 在原始函数中返回的是标量，vmap后会变成一个向量。\n",
    "# 如果我们想特殊处理 'sum_a' 的输出轴（例如，如果它不是被vmap化的），\n",
    "# 或者确保输出的批处理轴在特定位置，out_axes可以是一个字典。\n",
    "\n",
    "# 默认out_axes=0行为:\n",
    "vectorized_another_process_default_out = jax.vmap(\n",
    "    another_process,\n",
    "    in_axes=({'a': 0, 'b': 0},)\n",
    ")\n",
    "output_default = vectorized_another_process_default_out(input_dicts)\n",
    "# output_default['sum_a'] 将会是 jnp.array([3, 7, 11]) (批处理轴为0)\n",
    "# output_default['expanded_b'] 将会是 jnp.array([[20],[40],[60]]) (批处理轴为0)\n",
    "print(output_default)"
   ],
   "id": "7d7c79127822597",
   "outputs": [],
   "execution_count": null
  },
  {
   "metadata": {},
   "cell_type": "code",
   "source": [
    "# 使用 out_axes 的一个例子，虽然对于上面的函数不是特别必要，\n",
    "# 但演示了其结构：\n",
    "vectorized_another_process_custom_out = jax.vmap(\n",
    "    another_process,\n",
    "    in_axes=({'a': 0, 'b': 0},),\n",
    "    out_axes={'sum_a': 0, 'expanded_b': 0} # 明确指定输出轴\n",
    ")\n",
    "output_custom = vectorized_another_process_custom_out(input_dicts)\n",
    "# 结果与上面相同，因为0是默认值\n",
    "\n",
    "# 更复杂的 out_axes 用法通常在需要将批处理轴插入到输出数组的特定位置时，\n",
    "# 或者当函数输出的 pytree 的某些叶子节点不应该有新的批处理轴时（用 None）。\n",
    "# 例如，如果原始函数返回 {'res': mapped_array, 'static_val': some_scalar}\n",
    "# 并且我们希望 'static_val' 在 vmap 后仍然是那个标量（不添加批处理维度），\n",
    "# 我们可以用 out_axes={'res': 0, 'static_val': None}。\n",
    "# (注意: 对于标量，vmap 通常会自动处理，但对于已经是数组且不想再添加轴的情况，None 更为关键)\n",
    "\n",
    "def complex_output_func(x_dict):\n",
    "    return {'mapped': x_dict['val'] ** 2, 'fixed': jnp.array(99)}\n",
    "\n",
    "vectorized_complex = jax.vmap(\n",
    "    complex_output_func,\n",
    "    in_axes=({'val': 0},),\n",
    "    out_axes={'mapped': 0, 'fixed': None} # 'fixed' 将不会有批处理维度\n",
    ")\n",
    "\n",
    "input_complex = {'val': jnp.array([1,2,3])}\n",
    "result_complex = vectorized_complex(input_complex)\n",
    "print(result_complex)\n",
    "# 输出将会是:\n",
    "# {\n",
    "#   'mapped': DeviceArray([2, 4, 6], dtype=int32),\n",
    "#   'fixed': DeviceArray(99, dtype=int32) # 注意这里没有批处理维度\n",
    "# }"
   ],
   "id": "27e3d5e0ce4133e2",
   "outputs": [],
   "execution_count": null
  },
  {
   "metadata": {},
   "cell_type": "code",
   "source": [
    "# 我自己写的例子 注意vamp参数的形状和逗号\n",
    "\n",
    "import jax\n",
    "import jax.numpy as jnp\n",
    "\n",
    "# 定义函数，计算 x 的平方加上 bias\n",
    "def func(d):\n",
    "    return {\"result\": d[\"x\"] + 2 + d[\"bias\"]}\n",
    "\n",
    "def func(d):\n",
    "    return d[\"x\"]+ 2 + d[\"bias\"]\n",
    "\n",
    "# 数据字典，x 是一个批量的数组，bias 是一个标量\n",
    "data = {\n",
    "    \"x\": jnp.array([[12,23,34],[784,785,786]]), # 这是一个二维数组，形状是 (2, 3)\n",
    "    \"bias\": 10.0             # 这是一个标量，会广播给每个元素\n",
    "}\n",
    "\n",
    "# 使用 vmap 并设置 in_axes\n",
    "\n",
    "result0 = jax.vmap(func, in_axes=({'x': 0, 'bias': None},), out_axes=0)(data)\n",
    "result1 = jax.vmap(func, in_axes=({'x': 0, 'bias': None},), out_axes=1)(data)\n",
    "'''\n",
    "# 或者分开写\n",
    "vectorized_func = jax.vmap(func, in_axes=({'x': 0, 'bias': None},)) # 注意这里末尾的逗号 ,\n",
    "result = vectorized_func(data)\n",
    "# 效果是一样的\n",
    "'''\n",
    "\n",
    "print(result0,'\\n', result1)"
   ],
   "id": "4c1fd8695b0bc5ff",
   "outputs": [],
   "execution_count": null
  },
  {
   "metadata": {},
   "cell_type": "markdown",
   "source": "# Pytree 的转置",
   "id": "92d9d84e474a6132"
  },
  {
   "metadata": {},
   "cell_type": "code",
   "source": [
    "# 自己写函数 使用 lambda\n",
    "\n",
    "def tree_transpose(list_of_trees):\n",
    "  \"\"\"\n",
    "  Converts a list of trees of identical structure into a single tree of lists.\n",
    "  \"\"\"\n",
    "  return jax.tree.map(lambda *xs: list(xs), *list_of_trees)\n",
    "\n",
    "# Convert a dataset from row-major to column-major.\n",
    "episode_steps = [dict(t=1, obs=3), dict(t=2, obs=4)]\n",
    "tree_transpose(episode_steps)"
   ],
   "id": "4b2257793d16972f",
   "outputs": [],
   "execution_count": null
  },
  {
   "metadata": {},
   "cell_type": "code",
   "source": [
    "# 自己写函数，不用 lambda\n",
    "\n",
    "import jax\n",
    "\n",
    "# 首先定义辅助函数\n",
    "def pack_elements_into_list(*elements):\n",
    "  \"\"\"\n",
    "  将所有传入的元素收集到一个列表中。\n",
    "  \"\"\"\n",
    "  print(type(elements), elements)\n",
    "  return elements #list(elements)\n",
    "\n",
    "def tree_transpose_with_named_function(list_of_trees):\n",
    "  \"\"\"\n",
    "  将具有相同结构的树的列表转换为由列表组成的单一树结构。\n",
    "  使用一个命名的辅助函数代替 lambda。\n",
    "  \"\"\"\n",
    "  # jax.tree.map 和 jax.tree_util.tree_map 效果一样\n",
    "  return jax.tree.map(pack_elements_into_list, *list_of_trees)\n",
    "\n",
    "# 示例数据\n",
    "episode_steps = [dict(t=1, obs=3), dict(t=2, obs=4)]\n",
    "print(episode_steps)\n",
    "\n",
    "# 使用修改后的函数\n",
    "result = tree_transpose_with_named_function(episode_steps)\n",
    "print(result)\n",
    "# 预期输出: {'t': [1, 2], 'obs': [3, 4]}"
   ],
   "id": "f65562d397ef8e5",
   "outputs": [],
   "execution_count": null
  },
  {
   "metadata": {},
   "cell_type": "code",
   "source": [
    "# 使用 JAX 内置的转置工具\n",
    "\n",
    "jax.tree.transpose(\n",
    "  outer_treedef = jax.tree.structure([0 for e in episode_steps]),\n",
    "  inner_treedef = jax.tree.structure(episode_steps[0]),\n",
    "  pytree_to_transpose = episode_steps\n",
    ")\n",
    "\n",
    "# [0 for e in episode_steps] 是一个遍历语句"
   ],
   "id": "e1b081b444653425",
   "outputs": [],
   "execution_count": null
  },
  {
   "metadata": {},
   "cell_type": "markdown",
   "source": "# Explicit key paths",
   "id": "dc1ec77171ded002"
  },
  {
   "metadata": {},
   "cell_type": "code",
   "source": [
    "import collections\n",
    "\n",
    "ATuple = collections.namedtuple(\"ATuple\", ('name'))\n",
    "\n",
    "tree = [1, {'k1': 2, 'k2': (3, 4)}, ATuple('foo')]\n",
    "flattened, _ = jax.tree_util.tree_flatten_with_path(tree)\n",
    "\n",
    "for key_path, value in flattened:\n",
    "  print(f'Value of tree{jax.tree_util.keystr(key_path)}: {value}')\n",
    "\n",
    "for key_path, _ in flattened:\n",
    "  print(f'Key path of tree{jax.tree_util.keystr(key_path)}: {key_path}')\n",
    "  #print(f'Key path of tree{jax.tree_util.keystr(key_path)}: {repr(key_path)}')\n",
    "  # 这两种写法都是一样的呀\n",
    "# repr 是 Python 内置的函数，用于返回对象的“官方字符串表示。"
   ],
   "id": "5e13abe1b35f80ec",
   "outputs": [],
   "execution_count": null
  }
 ],
 "metadata": {
  "kernelspec": {
   "display_name": "Python 3",
   "language": "python",
   "name": "python3"
  },
  "language_info": {
   "codemirror_mode": {
    "name": "ipython",
    "version": 2
   },
   "file_extension": ".py",
   "mimetype": "text/x-python",
   "name": "python",
   "nbconvert_exporter": "python",
   "pygments_lexer": "ipython2",
   "version": "2.7.6"
  }
 },
 "nbformat": 4,
 "nbformat_minor": 5
}
