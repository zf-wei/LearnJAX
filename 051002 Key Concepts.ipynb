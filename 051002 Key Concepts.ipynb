{
 "cells": [
  {
   "metadata": {},
   "cell_type": "code",
   "source": [
    "import jax\n",
    "\n",
    "# 为jax设置64位浮点数\n",
    "from jax import config\n",
    "config.update(\"jax_enable_x64\", True)\n",
    "\n",
    "import jax.numpy as jnp\n",
    "import numpy as np"
   ],
   "id": "36aa8772a96fcb3b",
   "outputs": [],
   "execution_count": null
  },
  {
   "metadata": {},
   "cell_type": "code",
   "source": [
    "# JAX arrays\n",
    "\n",
    "x = jnp.arange(5)\n",
    "print(f\"Is x of type 'jax.Array'?: {isinstance(x, jax.Array)}\")\n",
    "print(f\"The type of x is {type(x)}. It is on device {x.devices()}.\")\n",
    "print(x)"
   ],
   "id": "c58fddf8600132dc",
   "outputs": [],
   "execution_count": null
  },
  {
   "metadata": {},
   "cell_type": "code",
   "source": [
    "# Tracers\n",
    "\n",
    "@jax.jit\n",
    "def f(x):\n",
    "  print(x)\n",
    "  #jax.debug.print(\"x: {}\", x)  # 使用 jax.debug.print 代替普通的 print\n",
    "  return x + 1\n",
    "\n",
    "x = jnp.arange(5)\n",
    "result_x = f(x)\n",
    "\n",
    "y = jnp.arange(10)\n",
    "result_y = f(y)"
   ],
   "id": "c76889c581ce5a03",
   "outputs": [],
   "execution_count": null
  },
  {
   "metadata": {},
   "cell_type": "code",
   "source": [
    "# 这是 jaxpr 的一个例子\n",
    "\n",
    "def selu(x, alpha=1.67, lambda_=1.05):\n",
    "  return lambda_ * jnp.where(x > 0, x, alpha * jnp.exp(x) - alpha)\n",
    "\n",
    "x = jnp.arange(5.0)\n",
    "jax.make_jaxpr(selu)(x)"
   ],
   "id": "60e34e25f74537ac",
   "outputs": [],
   "execution_count": null
  },
  {
   "metadata": {},
   "cell_type": "code",
   "source": [
    "# Pytree 的简单例子\n",
    "\n",
    "# Named tuple of parameters\n",
    "from typing import NamedTuple # 我没有学过这个，挺好玩的\n",
    "class Params(NamedTuple):\n",
    "  a: int\n",
    "  b: float\n",
    "  c: str = \"default\"\n",
    "\n",
    "params = Params(1, 5.0, 67) # 并没有强制类型检查，所以用一个int来初始化了一个str，后来也的确变成了一个str\n",
    "print(params)\n",
    "\n",
    "\n",
    "print(jax.tree.structure(params))\n",
    "print(jax.tree.leaves(params))"
   ],
   "id": "6aaeb2e3e808b6b2",
   "outputs": [],
   "execution_count": null
  },
  {
   "metadata": {},
   "cell_type": "code",
   "source": [
    "# 下面是一个 Pytree 更复杂的例子\n",
    "\n",
    "# 定义一个嵌套的 NamedTuple 数据结构\n",
    "class SubParams(NamedTuple):\n",
    "    d: jnp.ndarray\n",
    "    e: float\n",
    "\n",
    "class Params(NamedTuple):\n",
    "    a: int\n",
    "    b: SubParams\n",
    "    c: list\n",
    "\n",
    "# 创建一个复杂的实例\n",
    "params = Params(\n",
    "    a=42,\n",
    "    b=SubParams(\n",
    "        d=jnp.array([1.0, 2.0, 3.0]),\n",
    "        e=3.14\n",
    "    ),\n",
    "    c=[jnp.array([4.0, 5.0]), 6]\n",
    ")\n",
    "\n",
    "# 打印树结构和叶子节点\n",
    "print(jax.tree.structure(params))\n",
    "print(jax.tree.leaves(params))"
   ],
   "id": "ad713ff8308ddd44",
   "outputs": [],
   "execution_count": null
  }
 ],
 "metadata": {},
 "nbformat": 4,
 "nbformat_minor": 5
}
