{
 "cells": [
  {
   "cell_type": "code",
   "id": "initial_id",
   "metadata": {
    "collapsed": true,
    "ExecuteTime": {
     "end_time": "2025-10-24T04:21:11.604349Z",
     "start_time": "2025-10-24T04:21:11.600927Z"
    }
   },
   "source": [
    "import jax\n",
    "import jax.numpy as jnp\n",
    "from jax import grad"
   ],
   "outputs": [],
   "execution_count": 2
  },
  {
   "cell_type": "code",
   "id": "b2e8ecbb2e1216dc",
   "metadata": {
    "ExecuteTime": {
     "end_time": "2025-10-24T04:21:12.434422Z",
     "start_time": "2025-10-24T04:21:11.615469Z"
    }
   },
   "source": [
    "# 使用 jax.grad 求导数\n",
    "\n",
    "grad_tanh = grad(jnp.tanh)\n",
    "print(grad_tanh(2.0),\n",
    "      grad(grad(jnp.tanh))(2.0),\n",
    "      grad(grad(grad(jnp.tanh)))(2.0))"
   ],
   "outputs": [
    {
     "name": "stdout",
     "output_type": "stream",
     "text": [
      "0.070650816 -0.13621868 0.25265405\n"
     ]
    }
   ],
   "execution_count": 3
  },
  {
   "cell_type": "code",
   "id": "3b2360ada42e6b84",
   "metadata": {
    "ExecuteTime": {
     "end_time": "2025-10-24T04:21:12.814679Z",
     "start_time": "2025-10-24T04:21:12.446624Z"
    }
   },
   "source": [
    "# 使用 jax.grad 求导数\n",
    "\n",
    "f = lambda x: x**3 + 2*x**2 - 3*x + 1\n",
    "\n",
    "dfdx = jax.grad(f)\n",
    "d2fdx = jax.grad(dfdx)\n",
    "d3fdx = jax.grad(d2fdx)\n",
    "d4fdx = jax.grad(d3fdx)\n",
    "\n",
    "print(dfdx(1.),\n",
    "      d2fdx(1.),\n",
    "      d3fdx(1.),\n",
    "      d4fdx(1.))"
   ],
   "outputs": [
    {
     "name": "stdout",
     "output_type": "stream",
     "text": [
      "4.0 10.0 6.0 0.0\n"
     ]
    }
   ],
   "execution_count": 4
  },
  {
   "metadata": {
    "ExecuteTime": {
     "end_time": "2025-10-24T04:21:13.097299Z",
     "start_time": "2025-10-24T04:21:12.820117Z"
    }
   },
   "cell_type": "code",
   "source": [
    "key = jax.random.key(0)\n",
    "\n",
    "def sigmoid(x):\n",
    "  return 0.5 * (jnp.tanh(x / 2) + 1)\n",
    "\n",
    "# Outputs probability of a label being true.\n",
    "def predict(W, b, inputs):\n",
    "  return sigmoid(jnp.dot(inputs, W) + b)\n",
    "\n",
    "# Build a toy dataset.\n",
    "inputs = jnp.array([[0.52, 1.12,  0.77],\n",
    "                    [0.88, -1.08, 0.15],\n",
    "                    [0.52, 0.06, -1.30],\n",
    "                    [0.74, -2.49, 1.39]])\n",
    "targets = jnp.array([True, True, False, True])\n",
    "\n",
    "# Training loss is the negative log-likelihood of the training examples.\n",
    "def loss(W, b):\n",
    "  preds = predict(W, b, inputs)\n",
    "  label_probs = preds * targets + (1 - preds) * (1 - targets)\n",
    "  return -jnp.sum(jnp.log(label_probs))\n",
    "\n",
    "# Initialize random model coefficients\n",
    "key, W_key, b_key = jax.random.split(key, 3)\n",
    "W = jax.random.normal(W_key, (3,))\n",
    "b = jax.random.normal(b_key, ())"
   ],
   "id": "555f91890f8ab981",
   "outputs": [],
   "execution_count": 5
  },
  {
   "metadata": {
    "ExecuteTime": {
     "end_time": "2025-10-24T04:21:13.642044Z",
     "start_time": "2025-10-24T04:21:13.102478Z"
    }
   },
   "cell_type": "code",
   "source": [
    "# Differentiate `loss` with respect to the first positional argument:\n",
    "W_grad = grad(loss, argnums=0)(W, b)\n",
    "print(f'{W_grad=}')\n",
    "\n",
    "# Since argnums=0 is the default, this does the same thing:\n",
    "W_grad = grad(loss)(W, b)\n",
    "print(f'{W_grad=}')\n",
    "\n",
    "# But you can choose different values too, and drop the keyword:\n",
    "b_grad = grad(loss, 1)(W, b)\n",
    "print(f'{b_grad=}')\n",
    "\n",
    "# Including tuple values\n",
    "W_grad, b_grad = grad(loss, (0, 1))(W, b)\n",
    "print(f'{W_grad=}')\n",
    "print(f'{b_grad=}')"
   ],
   "id": "f1f1cb40ca424446",
   "outputs": [
    {
     "name": "stdout",
     "output_type": "stream",
     "text": [
      "W_grad=Array([-0.433146 , -0.7354605, -1.2598922], dtype=float32)\n",
      "W_grad=Array([-0.433146 , -0.7354605, -1.2598922], dtype=float32)\n",
      "b_grad=Array(-0.6900178, dtype=float32)\n",
      "W_grad=Array([-0.433146 , -0.7354605, -1.2598922], dtype=float32)\n",
      "b_grad=Array(-0.6900178, dtype=float32)\n"
     ]
    }
   ],
   "execution_count": 6
  },
  {
   "metadata": {
    "ExecuteTime": {
     "end_time": "2025-10-24T04:21:13.658927Z",
     "start_time": "2025-10-24T04:21:13.647363Z"
    }
   },
   "cell_type": "code",
   "source": [
    "# 也可以对字典进行求导\n",
    "def loss2(params_dict):\n",
    "    preds = predict(params_dict['W'], params_dict['b'], inputs)\n",
    "    label_probs = preds * targets + (1 - preds) * (1 - targets)\n",
    "    return -jnp.sum(jnp.log(label_probs))\n",
    "# 因为这个 loss2 是字典参数，所以会对字典的每个元素都求导\n",
    "\n",
    "print(grad(loss2)({'W': W, 'b': b}))"
   ],
   "id": "abf08a8c2afc32a0",
   "outputs": [
    {
     "name": "stdout",
     "output_type": "stream",
     "text": [
      "{'W': Array([-0.433146 , -0.7354605, -1.2598922], dtype=float32), 'b': Array(-0.6900178, dtype=float32)}\n"
     ]
    }
   ],
   "execution_count": 7
  },
  {
   "metadata": {
    "ExecuteTime": {
     "end_time": "2025-10-24T04:21:13.892818Z",
     "start_time": "2025-10-24T04:21:13.672488Z"
    }
   },
   "cell_type": "code",
   "source": [
    "# 函数value_and_grad可以同时返回函数值和梯度 非常方便\n",
    "\n",
    "loss_value, Wb_grad = jax.value_and_grad(loss, (0,1))(W, b) # 这儿的 (0,1) 是 tuple，表示对 W 和 b 都求导\n",
    "print('loss value', loss_value)\n",
    "print('loss value', loss(W, b))\n",
    "print('Wb_grad', Wb_grad)\n",
    "\n",
    "_, W_grad = jax.value_and_grad(loss, 0)(W, b)\n",
    "print('W_grad', W_grad)\n",
    "\n",
    "_, b_grad = jax.value_and_grad(loss, 1)(W, b)\n",
    "print('b_grad', b_grad)"
   ],
   "id": "f4b12590876dff9d",
   "outputs": [
    {
     "name": "stdout",
     "output_type": "stream",
     "text": [
      "loss value 2.9729187\n",
      "loss value 2.9729187\n",
      "Wb_grad (Array([-0.433146 , -0.7354605, -1.2598922], dtype=float32), Array(-0.6900178, dtype=float32))\n",
      "W_grad [-0.433146  -0.7354605 -1.2598922]\n",
      "b_grad -0.6900178\n"
     ]
    }
   ],
   "execution_count": 8
  },
  {
   "metadata": {},
   "cell_type": "code",
   "source": [
    "# 手动验证梯度计算结果\n",
    "\n",
    "# Set a step size for finite differences calculations\n",
    "eps = 1e-4\n",
    "\n",
    "# Check b_grad with scalar finite differences\n",
    "b_grad_numerical = (loss(W, b + eps / 2.) - loss(W, b - eps / 2.)) / eps\n",
    "print('b_grad_numerical', b_grad_numerical)\n",
    "print('b_grad_autodiff', grad(loss, 1)(W, b))\n",
    "\n",
    "# Check W_grad with finite differences in a random direction\n",
    "key, subkey = jax.random.split(key)\n",
    "vec = jax.random.normal(subkey, W.shape)\n",
    "unitvec = vec / jnp.sqrt(jnp.vdot(vec, vec))\n",
    "W_grad_numerical = (loss(W + eps / 2. * unitvec, b) - loss(W - eps / 2. * unitvec, b)) / eps\n",
    "print('W_dirderiv_numerical', W_grad_numerical)\n",
    "print('W_dirderiv_autodiff', jnp.vdot(grad(loss)(W, b), unitvec))"
   ],
   "id": "c2801616558da8a7",
   "outputs": [],
   "execution_count": null
  },
  {
   "metadata": {},
   "cell_type": "code",
   "source": [
    "# 使用 JAX 内置的 check_grads 函数来验证梯度计算结果\n",
    "\n",
    "from jax.test_util import check_grads\n",
    "\n",
    "check_grads(loss, (W, b), order=2)  # check up to 2nd order derivatives"
   ],
   "id": "cf4e9363c25dd163",
   "outputs": [],
   "execution_count": null
  }
 ],
 "metadata": {
  "kernelspec": {
   "display_name": "Python 3",
   "language": "python",
   "name": "python3"
  },
  "language_info": {
   "codemirror_mode": {
    "name": "ipython",
    "version": 2
   },
   "file_extension": ".py",
   "mimetype": "text/x-python",
   "name": "python",
   "nbconvert_exporter": "python",
   "pygments_lexer": "ipython2",
   "version": "2.7.6"
  }
 },
 "nbformat": 4,
 "nbformat_minor": 5
}
