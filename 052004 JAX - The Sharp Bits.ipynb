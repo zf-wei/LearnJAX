{
 "cells": [
  {
   "cell_type": "code",
   "id": "initial_id",
   "metadata": {
    "collapsed": true
   },
   "source": [
    "import numpy as np\n",
    "\n",
    "import jax\n",
    "from jax import jit\n",
    "from jax import lax\n",
    "from jax import random\n",
    "import jax.numpy as jnp"
   ],
   "outputs": [],
   "execution_count": null
  },
  {
   "metadata": {},
   "cell_type": "markdown",
   "source": "# 🔪 Pure functions",
   "id": "8a45c4d429ea8609"
  },
  {
   "metadata": {},
   "cell_type": "code",
   "source": [
    "def impure_print_side_effect(x):\n",
    "  print(\"Executing function\")  # This is a side-effect\n",
    "  return x\n",
    "\n",
    "# The side-effects appear during the first run\n",
    "print (\"First call: \", jit(impure_print_side_effect)(4.))\n",
    "\n",
    "# Subsequent runs with parameters of same type and shape may not show the side-effect\n",
    "# This is because JAX now invokes a cached compilation of the function\n",
    "print (\"Second call: \", jit(impure_print_side_effect)(5.))\n",
    "\n",
    "# JAX re-runs the Python function when the type or shape of the argument changes\n",
    "print (\"Third call, different type: \", jit(impure_print_side_effect)(jnp.array([5.])))"
   ],
   "id": "f151532cef90f167",
   "outputs": [],
   "execution_count": null
  },
  {
   "metadata": {},
   "cell_type": "code",
   "source": [
    "g = 0.\n",
    "def impure_uses_globals(x):\n",
    "  return x + g\n",
    "\n",
    "# JAX captures the value of the global during the first run\n",
    "print (\"First call: \", jit(impure_uses_globals)(4.))\n",
    "g = 10.  # Update the global\n",
    "\n",
    "# Subsequent runs may silently use the cached value of the globals\n",
    "print (\"Second call: \", jit(impure_uses_globals)(5.))\n",
    "\n",
    "# JAX re-runs the Python function when the type or shape of the argument changes\n",
    "# This will end up reading the latest value of the global\n",
    "print (\"Third call, different type: \", jit(impure_uses_globals)(jnp.array([4.])))"
   ],
   "id": "5dce7c3430bb4a89",
   "outputs": [],
   "execution_count": null
  },
  {
   "metadata": {},
   "cell_type": "code",
   "source": [
    "g = 0.\n",
    "def impure_saves_global(x):\n",
    "  global g\n",
    "  g = x\n",
    "  return x\n",
    "\n",
    "# JAX runs once the transformed function with special Traced values for arguments\n",
    "print (\"First call: \", jit(impure_saves_global)(4.))\n",
    "print (\"Saved global: \", g)  # Saved global has an internal JAX value"
   ],
   "id": "1d52197f83bc9a7c",
   "outputs": [],
   "execution_count": null
  },
  {
   "metadata": {},
   "cell_type": "code",
   "source": [
    "def pure_uses_internal_state(x):\n",
    "  state = dict(even=0, odd=0)\n",
    "  for i in range(10):\n",
    "    state['even' if i % 2 == 0 else 'odd'] += x\n",
    "  return state['even'] + state['odd']\n",
    "\n",
    "print(jit(pure_uses_internal_state)(5.))"
   ],
   "id": "c909b8b78857ef03",
   "outputs": [],
   "execution_count": null
  },
  {
   "metadata": {},
   "cell_type": "code",
   "source": [
    "import jax.numpy as jnp\n",
    "from jax import make_jaxpr\n",
    "\n",
    "# lax.fori_loop\n",
    "array = jnp.arange(10)\n",
    "print(lax.fori_loop(0, 10, lambda i,x: x+array[i], 0)) # expected result 45\n",
    "iterator = iter(range(10))\n",
    "print(lax.fori_loop(0, 10, lambda i,x: x+next(iterator), 0)) # unexpected result 0\n",
    "\n",
    "# lax.scan\n",
    "def func11(arr, extra):\n",
    "    ones = jnp.ones(arr.shape)\n",
    "    def body(carry, aelems):\n",
    "        ae1, ae2 = aelems\n",
    "        return (carry + ae1 * ae2 + extra, carry)\n",
    "    return lax.scan(body, 0., (arr, ones))\n",
    "make_jaxpr(func11)(jnp.arange(16), 5.)\n",
    "print(func11(jnp.arange(16), 5.)) # expected result 120\n",
    "# make_jaxpr(func11)(iter(range(16)), 5.) # throws error\n",
    "\n",
    "# lax.cond\n",
    "array_operand = jnp.array([0.])\n",
    "lax.cond(True, lambda x: x+1, lambda x: x-1, array_operand)\n",
    "iter_operand = iter(range(10))\n",
    "# lax.cond(True, lambda x: next(x)+1, lambda x: next(x)-1, iter_operand) # throws error"
   ],
   "id": "216e324fb9de2f63",
   "outputs": [],
   "execution_count": null
  },
  {
   "metadata": {},
   "cell_type": "code",
   "source": [
    "# 我尝试的累加函数\n",
    "@jit\n",
    "def my_sum(i:float, arr: jnp.ndarray):\n",
    "    print(\"JIT compiled\")\n",
    "    init = i\n",
    "    def for_body(state, x):\n",
    "        Ignored = None\n",
    "        return x + state, Ignored\n",
    "    return lax.scan(for_body, init, arr)[0]\n",
    "print(my_sum(0., jnp.arange(10))) # expected result 45\n",
    "print(my_sum(0., jnp.arange(10))) # unexpected result 0"
   ],
   "id": "e3a828e010971c91",
   "outputs": [],
   "execution_count": null
  },
  {
   "metadata": {},
   "cell_type": "code",
   "source": [
    "# lax.cond\n",
    "array_operand = jnp.array([2.])\n",
    "lax.cond(True, lambda x: x+1, lambda x: x-1, array_operand)"
   ],
   "id": "d93b0a045b59646d",
   "outputs": [],
   "execution_count": null
  },
  {
   "metadata": {},
   "cell_type": "markdown",
   "source": "# 🔪 In-place updates",
   "id": "bda4b1a7cedd7230"
  },
  {
   "metadata": {},
   "cell_type": "code",
   "source": [
    "jax_array = jnp.zeros((3,3), dtype=jnp.float32)\n",
    "\n",
    "# In place update of JAX's array will yield an error!\n",
    "jax_array[1, :] = 1.0"
   ],
   "id": "a7fb36c34b53eb26",
   "outputs": [],
   "execution_count": null
  },
  {
   "metadata": {},
   "cell_type": "code",
   "source": [
    "jax_array = jnp.array([10, 20])\n",
    "jax_array_new = jax_array\n",
    "jax_array_new += 10\n",
    "print(jax_array_new)  # `jax_array_new` is rebound to a new value [20, 30], but...\n",
    "print(jax_array)      # the original value is unodified as [10, 20] !\n",
    "\n",
    "numpy_array = np.array([10, 20])\n",
    "numpy_array_new = numpy_array\n",
    "numpy_array_new += 10\n",
    "print(numpy_array_new)  # `numpy_array_new is numpy_array`, and it was updated\n",
    "print(numpy_array)      # in-place, so both are [20, 30] !"
   ],
   "id": "629d23590751ce47",
   "outputs": [],
   "execution_count": null
  },
  {
   "metadata": {},
   "cell_type": "code",
   "source": [
    "jax_array = jnp.zeros((3,3), dtype=jnp.float32)\n",
    "print(id(jax_array))  # id of the first row\n",
    "jax_array = jax_array.at[1, :].set(1.0)\n",
    "print(id(jax_array))  # id of the first row\n",
    "print(\"updated array:\\n\", jax_array)"
   ],
   "id": "aca57fdf53ccf5aa",
   "outputs": [],
   "execution_count": null
  },
  {
   "metadata": {},
   "cell_type": "markdown",
   "source": "However, inside jit-compiled code, if the input value x of x.at[idx].set(y) is not reused, the compiler will optimize the array update to occur in-place.",
   "id": "b714ca3fb74423f5"
  },
  {
   "metadata": {},
   "cell_type": "code",
   "source": [
    "print(\"original array:\")\n",
    "jax_array = jnp.ones((5, 6))\n",
    "print(jax_array)\n",
    "\n",
    "new_jax_array = jax_array.at[::2, 3:].add(7.) # ::2 是 Python 中标准的切片 (slicing) 语法\n",
    "print(\"new array post-addition:\")\n",
    "print(new_jax_array)"
   ],
   "id": "b51aff6db446ef83",
   "outputs": [],
   "execution_count": null
  },
  {
   "metadata": {},
   "cell_type": "markdown",
   "source": "# 🔪 Out-of-bounds indexing",
   "id": "269591300b734f21"
  },
  {
   "metadata": {},
   "cell_type": "code",
   "source": "jnp.arange(10.0).at[11].get(mode='fill', fill_value=-1)",
   "id": "677882f328b8a4ba",
   "outputs": [],
   "execution_count": null
  },
  {
   "metadata": {},
   "cell_type": "code",
   "source": "jnp.arange(10.0).at[11].get(mode='fill', fill_value=jnp.nan)",
   "id": "1acef86a3bf693d9",
   "outputs": [],
   "execution_count": null
  },
  {
   "metadata": {},
   "cell_type": "markdown",
   "source": "Thus it may be a good idea to think of out-of-bounds indexing in JAX as a case of undefined behavior.",
   "id": "54c5dfffb4b0d912"
  },
  {
   "metadata": {},
   "cell_type": "markdown",
   "source": "# 🔪 Non-array inputs: NumPy vs. JAX",
   "id": "6bd375334f1cb6a2"
  },
  {
   "metadata": {},
   "cell_type": "code",
   "source": [
    "np.sum([1, 2, 3]) # works\n",
    "# jnp.sum([1, 2, 3]) # throws error"
   ],
   "id": "6c889e7c0a49b512",
   "outputs": [],
   "execution_count": null
  },
  {
   "metadata": {},
   "cell_type": "code",
   "source": [
    "from jax import make_jaxpr\n",
    "\n",
    "def permissive_sum(x):\n",
    "  return jnp.sum(jnp.array(x))\n",
    "\n",
    "x = list(range(10))\n",
    "print(permissive_sum(x))\n",
    "make_jaxpr(permissive_sum)(x)"
   ],
   "id": "4090a3f468c3a4ad",
   "outputs": [],
   "execution_count": null
  },
  {
   "metadata": {},
   "cell_type": "markdown",
   "source": "# 🔪 Dynamic shapes",
   "id": "6af5355cce49fa25"
  },
  {
   "metadata": {},
   "cell_type": "code",
   "source": [
    "def nansum(x):\n",
    "  mask = ~jnp.isnan(x)  # boolean mask selecting non-nan values\n",
    "  x_without_nans = x[mask]\n",
    "  return x_without_nans.sum()"
   ],
   "id": "63a63369e7c52d8b",
   "outputs": [],
   "execution_count": null
  },
  {
   "metadata": {},
   "cell_type": "code",
   "source": [
    "x = jnp.array([1, 2, jnp.nan, 3, 4])\n",
    "print(nansum(x))"
   ],
   "id": "e3abeab0609f31c3",
   "outputs": [],
   "execution_count": null
  },
  {
   "metadata": {},
   "cell_type": "code",
   "source": [
    "@jax.jit\n",
    "def nansum_2(x):\n",
    "  mask = ~jnp.isnan(x)  # boolean mask selecting non-nan values\n",
    "  return jnp.where(mask, x, 0)#.sum()\n",
    "\n",
    "print(nansum_2(x), jnp.sum(nansum_2(x)))"
   ],
   "id": "637801787ac2ca92",
   "outputs": [],
   "execution_count": null
  },
  {
   "metadata": {},
   "cell_type": "markdown",
   "source": "# 🔪 Double (64bit) precision",
   "id": "cdc0edae804e4821"
  },
  {
   "metadata": {},
   "cell_type": "code",
   "source": [
    "x = random.uniform(random.key(0), (1000,), dtype=jnp.float32)\n",
    "print(x.dtype)\n",
    "#y = random.uniform(random.key(0), (1000,), dtype=jnp.float64) # 会报错\n",
    "#y.dtype\n",
    "jax.config.update(\"jax_enable_x64\", True)\n",
    "y = random.uniform(random.key(0), (1000,), dtype=jnp.float64)\n",
    "print(y.dtype)\n",
    "jax.config.update(\"jax_enable_x64\", False)"
   ],
   "id": "126928fa11eba4ac",
   "outputs": [],
   "execution_count": null
  },
  {
   "metadata": {},
   "cell_type": "markdown",
   "source": "# 🔪 Miscellaneous divergences from NumPy",
   "id": "57fd7e4802318016"
  },
  {
   "metadata": {},
   "cell_type": "code",
   "source": "np.arange(254.0, 258.0).astype('uint8')",
   "id": "c916eef3d858e5f8",
   "outputs": [],
   "execution_count": null
  },
  {
   "metadata": {},
   "cell_type": "code",
   "source": "jnp.arange(254.0, 258.0).astype('uint8')",
   "id": "1ad312b6c2c2dd9b",
   "outputs": [],
   "execution_count": null
  },
  {
   "metadata": {},
   "cell_type": "code",
   "source": [
    "import jax.numpy as jnp\n",
    "subnormal = jnp.float32(1E-45) # 这个值是 subnormal 的 也就是太小的量\n",
    "print(subnormal)  # subnormals are representable\n",
    "print(subnormal + 0)  # but are flushed to zero within operations"
   ],
   "id": "b4bf4a5df89b0923",
   "outputs": [],
   "execution_count": null
  },
  {
   "metadata": {},
   "cell_type": "markdown",
   "source": "# 🔪 NaNs",
   "id": "88ced02b5e745ab9"
  },
  {
   "metadata": {},
   "cell_type": "code",
   "source": [
    "import jax\n",
    "jax.config.update(\"jax_debug_nans\", True)\n",
    "import jax.numpy as jnp\n",
    "\n",
    "jnp.divide(0., 0.)"
   ],
   "id": "17825040ab8eecda",
   "outputs": [],
   "execution_count": null
  },
  {
   "metadata": {},
   "cell_type": "code",
   "source": [
    "import jax\n",
    "jax.config.update(\"jax_debug_nans\", True)\n",
    "from jax import jit\n",
    "import jax.numpy as jnp\n",
    "\n",
    "@jit\n",
    "def f(x, y):\n",
    "    a = x * y\n",
    "    b = (x + y) / (x - y)\n",
    "    c = a + 2\n",
    "    return a + b * c\n",
    "\n",
    "x = jnp.array([2., 0.])\n",
    "\n",
    "y = jnp.array([3., 0.])\n",
    "\n",
    "f(x, y)\n",
    "\n",
    "# 注意：1./0. 是 inf\n",
    "# 而 0./0. 是 nan"
   ],
   "id": "3a849a10f97f3ca",
   "outputs": [],
   "execution_count": null
  }
 ],
 "metadata": {
  "kernelspec": {
   "display_name": "Python 3",
   "language": "python",
   "name": "python3"
  },
  "language_info": {
   "codemirror_mode": {
    "name": "ipython",
    "version": 2
   },
   "file_extension": ".py",
   "mimetype": "text/x-python",
   "name": "python",
   "nbconvert_exporter": "python",
   "pygments_lexer": "ipython2",
   "version": "2.7.6"
  }
 },
 "nbformat": 4,
 "nbformat_minor": 5
}
