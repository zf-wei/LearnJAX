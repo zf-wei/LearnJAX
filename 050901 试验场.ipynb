{
 "cells": [
  {
   "metadata": {},
   "cell_type": "code",
   "source": [
    "import jax.numpy as jnp\n",
    "\n",
    "# jnp.sum([1, 2, 3]) 这个会出问题\n",
    "jnp.sum(jnp.array([1, 2, 3]))"
   ],
   "id": "fc5325b76590b7a6",
   "outputs": [],
   "execution_count": null
  }
 ],
 "metadata": {
  "kernelspec": {
   "display_name": "Python 3",
   "language": "python",
   "name": "python3"
  },
  "language_info": {
   "codemirror_mode": {
    "name": "ipython",
    "version": 2
   },
   "file_extension": ".py",
   "mimetype": "text/x-python",
   "name": "python",
   "nbconvert_exporter": "python",
   "pygments_lexer": "ipython2",
   "version": "2.7.6"
  }
 },
 "nbformat": 4,
 "nbformat_minor": 5
}
