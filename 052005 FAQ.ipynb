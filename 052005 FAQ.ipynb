{
 "cells": [
  {
   "cell_type": "code",
   "id": "initial_id",
   "metadata": {
    "collapsed": true,
    "ExecuteTime": {
     "end_time": "2025-05-21T06:19:09.652859Z",
     "start_time": "2025-05-21T06:19:09.004051Z"
    }
   },
   "source": [
    "import jax\n",
    "from jax import jit\n",
    "jax.config.update('jax_num_cpu_devices', 12)\n",
    "\n",
    "import jax.numpy as jnp\n",
    "\n",
    "y = 0\n",
    "\n",
    "@jit   # Different behavior with jit\n",
    "def impure_func(x):\n",
    "  print(\"Inside:\", y)\n",
    "  return x + y\n",
    "\n",
    "for y in range(2, 3):\n",
    "  print(\"Result:\", impure_func(y))"
   ],
   "outputs": [
    {
     "name": "stdout",
     "output_type": "stream",
     "text": [
      "Inside: 2\n",
      "Result: 4\n"
     ]
    }
   ],
   "execution_count": 1
  },
  {
   "metadata": {
    "ExecuteTime": {
     "end_time": "2025-05-21T06:19:10.521839Z",
     "start_time": "2025-05-21T06:19:10.506092Z"
    }
   },
   "cell_type": "code",
   "source": [
    "class CustomClass:\n",
    "  def __init__(self, x: jnp.ndarray, mul: bool):\n",
    "    self.x = x\n",
    "    self.mul = mul\n",
    "  @jit\n",
    "  def calc(self, y):\n",
    "    if self.mul:\n",
    "      return self.x * y\n",
    "    return y\n",
    "  def _tree_flatten(self):\n",
    "    children = (self.x,)  # arrays / dynamic values\n",
    "    aux_data = {'mul': self.mul}  # static values\n",
    "    return (children, aux_data)\n",
    "  @classmethod\n",
    "  def _tree_unflatten(cls, aux_data, children):\n",
    "    return cls(*children, **aux_data)\n",
    "\n",
    "from jax import tree_util\n",
    "tree_util.register_pytree_node(CustomClass,\n",
    "                               CustomClass._tree_flatten,\n",
    "                               CustomClass._tree_unflatten)"
   ],
   "id": "84e67f25103cd86f",
   "outputs": [],
   "execution_count": 2
  },
  {
   "metadata": {
    "ExecuteTime": {
     "end_time": "2025-05-21T06:19:14.107843Z",
     "start_time": "2025-05-21T06:19:14.048481Z"
    }
   },
   "cell_type": "code",
   "source": [
    "from jax import numpy as jnp\n",
    "print(jnp.ones(3).devices())"
   ],
   "id": "e0506e1932c946b9",
   "outputs": [
    {
     "name": "stdout",
     "output_type": "stream",
     "text": [
      "{CpuDevice(id=0)}\n"
     ]
    }
   ],
   "execution_count": 3
  },
  {
   "metadata": {
    "ExecuteTime": {
     "end_time": "2025-05-21T06:19:15.845257Z",
     "start_time": "2025-05-21T06:19:15.825110Z"
    }
   },
   "cell_type": "code",
   "source": [
    "import jax\n",
    "\n",
    "from jax import device_put\n",
    "\n",
    "arr = device_put(1, jax.devices()[5])\n",
    "print(arr.devices())"
   ],
   "id": "73f03adb8ee14e09",
   "outputs": [
    {
     "name": "stdout",
     "output_type": "stream",
     "text": [
      "{CpuDevice(id=5)}\n"
     ]
    }
   ],
   "execution_count": 4
  },
  {
   "metadata": {
    "ExecuteTime": {
     "end_time": "2025-05-21T06:19:31.499284Z",
     "start_time": "2025-05-21T06:19:17.685938Z"
    }
   },
   "cell_type": "code",
   "source": [
    "import numpy as np\n",
    "import jax\n",
    "\n",
    "def f(x):  # function we're benchmarking (works in both NumPy & JAX)\n",
    "  return x.T @ (x - x.mean(axis=0))\n",
    "\n",
    "x_np = np.ones((1000, 1000), dtype=np.float32)  # same as JAX default dtype\n",
    "%timeit f(x_np)  # measure NumPy runtime\n",
    "\n",
    "# measure JAX device transfer time\n",
    "%time x_jax = jax.device_put(x_np).block_until_ready()\n",
    "\n",
    "f_jit = jax.jit(f)\n",
    "%time f_jit(x_jax).block_until_ready()  # measure JAX compilation time\n",
    "%timeit f_jit(x_jax).block_until_ready()  # measure JAX runtime"
   ],
   "id": "9bb5c37d85a4de89",
   "outputs": [
    {
     "name": "stdout",
     "output_type": "stream",
     "text": [
      "10.7 ms ± 839 μs per loop (mean ± std. dev. of 7 runs, 100 loops each)\n",
      "CPU times: total: 0 ns\n",
      "Wall time: 0 ns\n",
      "CPU times: total: 0 ns\n",
      "Wall time: 56.1 ms\n",
      "6.54 ms ± 263 μs per loop (mean ± std. dev. of 7 runs, 100 loops each)\n"
     ]
    }
   ],
   "execution_count": 5
  },
  {
   "metadata": {
    "ExecuteTime": {
     "end_time": "2025-05-21T06:19:31.547127Z",
     "start_time": "2025-05-21T06:19:31.510901Z"
    }
   },
   "cell_type": "code",
   "source": [
    "from jax import numpy as jnp\n",
    "(jnp.array([-1.0, -0.5, 0.0, 0.5, 1.0])>0)"
   ],
   "id": "ee682ee78bd7d2be",
   "outputs": [
    {
     "data": {
      "text/plain": [
       "Array([False, False, False,  True,  True], dtype=bool)"
      ]
     },
     "execution_count": 6,
     "metadata": {},
     "output_type": "execute_result"
    }
   ],
   "execution_count": 6
  },
  {
   "metadata": {
    "ExecuteTime": {
     "end_time": "2025-05-21T06:19:33.621549Z",
     "start_time": "2025-05-21T06:19:33.570731Z"
    }
   },
   "cell_type": "code",
   "source": [
    "import jax\n",
    "import numpy as np\n",
    "import jax.numpy as jnp\n",
    "\n",
    "def add(x, y):\n",
    "  return x + y\n",
    "\n",
    "x = jax.device_put(np.ones((2, 3))) # 或者写成 x = jnp.array(np.ones((2, 3)))\n",
    "y = jax.device_put(np.ones((2, 3)))\n",
    "# Execute `add` with donation of the buffer for `y`. The result has\n",
    "# the same shape and type as `y`, so it will share its buffer.\n",
    "z = jax.jit(add, donate_argnums=(1,))(x, y)"
   ],
   "id": "bbd62b1e0ef2f8",
   "outputs": [],
   "execution_count": 7
  }
 ],
 "metadata": {
  "kernelspec": {
   "display_name": "Python 3",
   "language": "python",
   "name": "python3"
  },
  "language_info": {
   "codemirror_mode": {
    "name": "ipython",
    "version": 2
   },
   "file_extension": ".py",
   "mimetype": "text/x-python",
   "name": "python",
   "nbconvert_exporter": "python",
   "pygments_lexer": "ipython2",
   "version": "2.7.6"
  }
 },
 "nbformat": 4,
 "nbformat_minor": 5
}
